{
 "cells": [
  {
   "cell_type": "code",
   "execution_count": 5,
   "metadata": {},
   "outputs": [],
   "source": [
    "import pandas as pd\n",
    "import datetime\n",
    "import numpy as np\n",
    "import re\n",
    "import sys\n",
    "\n",
    "sys.path.append(\"..\")\n",
    "from aoc18.utils import read_input\n",
    "inp = read_input(10, root_path=\"..\")\n",
    "inp_test = read_input(10, test=True, root_path=\"..\")"
   ]
  },
  {
   "cell_type": "markdown",
   "metadata": {},
   "source": [
    "# Day 10"
   ]
  },
  {
   "cell_type": "code",
   "execution_count": 21,
   "metadata": {},
   "outputs": [
    {
     "name": "stdout",
     "output_type": "stream",
     "text": [
      "-9 1 0 2\n"
     ]
    }
   ],
   "source": [
    "pattern = re.compile(r'=\\<(.*),(.*)\\> .*=\\<(.*),(.*)\\>')\n",
    "li = pattern.findall('position=< -9,  1> velocity=< 0,  2>\\n')[0]\n",
    "points = "
   ]
  },
  {
   "cell_type": "code",
   "execution_count": 72,
   "metadata": {},
   "outputs": [],
   "source": [
    "class Light:\n",
    "    \n",
    "    def __init__(self, x_0, y_0, v_x, v_y):\n",
    "        self.position = np.array([x_0, y_0])\n",
    "        self.speed = np.array([v_x, v_y])\n",
    "        \n",
    "    def get_position(self, seconds=0):\n",
    "        return self.position + seconds * self.speed\n",
    "    \n",
    "\n",
    "\n",
    "class Sky:\n",
    "    \n",
    "    def __init__(self, lights=[]):\n",
    "        self.lights = lights\n",
    "    \n",
    "    def add_point(self, point):\n",
    "        self.lights.append(point)\n",
    "        \n",
    "    def get_boundaries(self, seconds=0):\n",
    "        xs, ys = zip(*map(lambda light: light.get_position(seconds) , self.lights))\n",
    "        return min(xs), min(ys), max(xs), max(ys)\n",
    "        \n",
    "    def show(self, seconds=0):\n",
    "        min_x, min_y, max_x, max_y = self.get_boundaries(seconds)\n",
    "        sky = np.zeros((max_y - min_y+1, max_x-min_x+1))\n",
    "        for light in self.lights:\n",
    "            pos_x, pos_y = light.get_position(seconds)\n",
    "            sky[pos_y-min_y, pos_x-min_x] = 1\n",
    "        for line in sky:\n",
    "            print(\"\".join(map(lambda x: \".\" if x==0 else \"#\", line)))    \n",
    "    "
   ]
  },
  {
   "cell_type": "code",
   "execution_count": 73,
   "metadata": {},
   "outputs": [],
   "source": [
    "lights_test = map(lambda line: Light(*map(int, pattern.findall(line)[0])), inp_test)\n",
    "sky_test = Sky(list(lights_test))\n",
    "\n",
    "lights = map(lambda line: Light(*map(int, pattern.findall(line)[0])), inp)\n",
    "sky = Sky(list(lights))"
   ]
  },
  {
   "cell_type": "code",
   "execution_count": 84,
   "metadata": {},
   "outputs": [],
   "source": [
    "def run_1(inp):\n",
    "    mx, my, Mx, My = sky.get_boundaries(0)\n",
    "    widths = [Mx-mx]\n",
    "    heights = [My-my]\n",
    "    second = 1\n",
    "    while True:\n",
    "        mx, my, Mx, My = sky.get_boundaries(second)\n",
    "        width = Mx - mx\n",
    "        height = My - my\n",
    "        widths.append(width)\n",
    "        heights.append(height)\n",
    "        if width > widths[-2] or height > heights[-2]:\n",
    "            break\n",
    "        second+=1\n",
    "    second = second-1\n",
    "    print(\"ANSWER 1 : \")\n",
    "    sky.show(second)\n",
    "    print(\"ANSWER 2 : \")\n",
    "    print(\"Message will be shown after %d seconds\" % second)"
   ]
  },
  {
   "cell_type": "code",
   "execution_count": 85,
   "metadata": {},
   "outputs": [
    {
     "name": "stdout",
     "output_type": "stream",
     "text": [
      "ANSWER 1 : \n",
      "#....#..#####...#....#..######..######..#....#...####......###\n",
      "##...#..#....#..#....#..#............#..#....#..#....#......#.\n",
      "##...#..#....#..#....#..#............#..#....#..#...........#.\n",
      "#.#..#..#....#..#....#..#...........#...#....#..#...........#.\n",
      "#.#..#..#####...######..#####......#....######..#...........#.\n",
      "#..#.#..#....#..#....#..#.........#.....#....#..#...........#.\n",
      "#..#.#..#....#..#....#..#........#......#....#..#...........#.\n",
      "#...##..#....#..#....#..#.......#.......#....#..#.......#...#.\n",
      "#...##..#....#..#....#..#.......#.......#....#..#....#..#...#.\n",
      "#....#..#####...#....#..######..######..#....#...####....###..\n",
      "ANSWER 2 : \n",
      "Message will be shown after 10558 seconds\n"
     ]
    }
   ],
   "source": [
    "run_1(inp)"
   ]
  },
  {
   "cell_type": "code",
   "execution_count": 78,
   "metadata": {},
   "outputs": [
    {
     "data": {
      "text/plain": [
       "10558"
      ]
     },
     "execution_count": 78,
     "metadata": {},
     "output_type": "execute_result"
    }
   ],
   "source": [
    "second-1"
   ]
  },
  {
   "cell_type": "code",
   "execution_count": null,
   "metadata": {},
   "outputs": [],
   "source": []
  }
 ],
 "metadata": {
  "kernelspec": {
   "display_name": "anaconda3-4.3.0",
   "language": "python",
   "name": "anaconda3-4.3.0"
  },
  "language_info": {
   "codemirror_mode": {
    "name": "ipython",
    "version": 3
   },
   "file_extension": ".py",
   "mimetype": "text/x-python",
   "name": "python",
   "nbconvert_exporter": "python",
   "pygments_lexer": "ipython3",
   "version": "3.6.0"
  }
 },
 "nbformat": 4,
 "nbformat_minor": 2
}
