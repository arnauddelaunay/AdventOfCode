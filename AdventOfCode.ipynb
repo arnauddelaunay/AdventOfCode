{
 "cells": [
  {
   "cell_type": "markdown",
   "metadata": {},
   "source": [
    "# AdventOfCode 2017\n",
    "\n",
    "#### Arnaud Delaunay"
   ]
  },
  {
   "cell_type": "markdown",
   "metadata": {},
   "source": [
    "## Utils"
   ]
  },
  {
   "cell_type": "code",
   "execution_count": 1,
   "metadata": {
    "collapsed": true
   },
   "outputs": [],
   "source": [
    "import sys\n",
    "sys.setrecursionlimit(100000)\n",
    "import numpy as np\n",
    "\n",
    "def get_inp(day, mode='np'):\n",
    "    if mode=='np':\n",
    "        try:\n",
    "            return np.loadtxt('inputs/day%s' % day)\n",
    "        except:\n",
    "            return open('inputs/day%s' % day).read()[:-1]\n",
    "    return open('inputs/day%s' % day).read()[:-1]\n",
    "        \n",
    "\n",
    "outputs = {}\n",
    "\n",
    "def reload_answers(day):\n",
    "    outputs[day]['answers'] = outputs[day]['func'](day)\n",
    "    return outputs[day]['answers']\n",
    "\n",
    "def add_day_func_to_dict(day_func, day, mode='np', callback=None):\n",
    "    inp = get_inp(day, mode=mode)\n",
    "    if callback:\n",
    "        inp = callback(inp)\n",
    "    f = lambda day : day_func(inp)\n",
    "    outputs[day] = {\n",
    "        'func' : f,\n",
    "        'answers' : f(day)\n",
    "    }\n",
    "    return outputs[day]['answers']"
   ]
  },
  {
   "cell_type": "markdown",
   "metadata": {},
   "source": [
    "# Day 1"
   ]
  },
  {
   "cell_type": "code",
   "execution_count": 2,
   "metadata": {
    "collapsed": false
   },
   "outputs": [],
   "source": [
    "def get_output(inp, i, add):\n",
    "    return int(inp[i]) if inp[i]==inp[np.mod(i+add,len(inp))] else 0\n",
    "\n",
    "def day_1(inp):\n",
    "    S1 = 0\n",
    "    S2 = 0\n",
    "    for i in range(len(inp)):\n",
    "        S1+=get_output(inp,i,1)\n",
    "        S2+=get_output(inp,i,len(inp)//2)\n",
    "    print(S1,S2)"
   ]
  },
  {
   "cell_type": "code",
   "execution_count": 3,
   "metadata": {
    "collapsed": false
   },
   "outputs": [
    {
     "name": "stdout",
     "output_type": "stream",
     "text": [
      "1119 1420\n"
     ]
    }
   ],
   "source": [
    "add_day_func_to_dict(day_1, '1', mode=0)"
   ]
  },
  {
   "cell_type": "markdown",
   "metadata": {},
   "source": [
    "# Day 2"
   ]
  },
  {
   "cell_type": "code",
   "execution_count": 21,
   "metadata": {
    "collapsed": false
   },
   "outputs": [],
   "source": [
    "def day_2_1(inp):\n",
    "    return int(np.array(list(map(lambda x : x.max() - x.min(), inp))).sum())\n",
    "\n",
    "def day_2_2(inp):\n",
    "    def get_div(row):\n",
    "        for i, e in enumerate(row):\n",
    "            for e2 in np.hstack((row[:i],row[i+1:])):\n",
    "                if e%e2==0:\n",
    "                    return e//e2\n",
    "    return int(np.array(list(map(get_div, inp))).sum())\n",
    "\n",
    "day_2 = lambda inp : (day_2_1(inp),day_2_2(inp))"
   ]
  },
  {
   "cell_type": "code",
   "execution_count": 22,
   "metadata": {
    "collapsed": false
   },
   "outputs": [
    {
     "data": {
      "text/plain": [
       "(45351, 275)"
      ]
     },
     "execution_count": 22,
     "metadata": {},
     "output_type": "execute_result"
    }
   ],
   "source": [
    "add_day_func_to_dict(day_2, '2', mode='np')"
   ]
  },
  {
   "cell_type": "markdown",
   "metadata": {},
   "source": [
    "# Day 3"
   ]
  },
  {
   "cell_type": "code",
   "execution_count": 23,
   "metadata": {
    "collapsed": false
   },
   "outputs": [
    {
     "data": {
      "text/plain": [
       "(371.0, 369601)"
      ]
     },
     "execution_count": 23,
     "metadata": {},
     "output_type": "execute_result"
    }
   ],
   "source": [
    "#DAY 3.1\n",
    "def get_path_to_1(inp):\n",
    "    k = int(np.sqrt(inp))\n",
    "    K = k/2 - (1-k%2)\n",
    "    I = k%2\n",
    "    p = inp-(k*k)\n",
    "    return abs(K-min(p-1, k))+abs(K+I-max(p-k-1,0))\n",
    "\n",
    "# %time get_path_to_1(inp)\n",
    "\n",
    "#DAY 3.2\n",
    "\n",
    "#USELESS FINALLY\n",
    "def get_coordinates(inp):\n",
    "    if inp == 1:\n",
    "        return 0,0\n",
    "    k = int(np.sqrt(inp))\n",
    "    K = k/2\n",
    "    p = inp-(k*k)\n",
    "    add = 1 if p==0 else 0 # if it's a square\n",
    "    I = (-1)**(k%2+1)*(K-min(p-1,k)-add)\n",
    "    J = (-1)**(k%2+1)*(K+k%2-max(p-k-1,0)-add)\n",
    "    return I, J\n",
    "\n",
    "def get_idx(I,J):\n",
    "    if (I,J) == (0,0):\n",
    "        return 1\n",
    "    sign = np.sign(J-I) if J!=I else -1 #we want sign(0)=-1\n",
    "    K = max(sign*J, -sign*I)-1\n",
    "    k = K*2+1-min(0,sign)\n",
    "    N = K +k**2+1\n",
    "    N += -sign*I - 1*(min(sign, 0)) if -sign*I<=sign*J else -sign*J + k + 1\n",
    "    return int(N)\n",
    "\n",
    "M = {}\n",
    "def compute_sum(I,J):\n",
    "    if I==0 and J==0:\n",
    "        return 1\n",
    "    if '%d,%d' % (I,J) in M:\n",
    "        return M['%d,%d' % (I,J)]\n",
    "    this_idx = get_idx(I,J)\n",
    "    S = 0\n",
    "    for i in range(-1,2):\n",
    "        for j in range(-1,2):\n",
    "            if get_idx(I+i,J+j)<this_idx:\n",
    "                if '%d,%d' % (I+i,J+j) not in M:\n",
    "                    M['%d,%d' % (I+i,J+j)] = compute_sum(I+i,J+j)\n",
    "                S+=M['%d,%d' % (I+i,J+j)]\n",
    "    return S\n",
    "\n",
    "def find_smallest_larger_than(X):\n",
    "    k = 0\n",
    "    while(True):\n",
    "        if compute_sum(k,k)>X:\n",
    "            sign=1\n",
    "            if compute_sum(-k,-k)<X:\n",
    "                sign = -1 \n",
    "            value = compute_sum(sign*(k-1),sign*k)\n",
    "            s = 2\n",
    "            while X>value:\n",
    "                value = compute_sum(sign*(k-min(s,2*k)),sign*(k-max(s-2*k,0)))\n",
    "                s+=1\n",
    "            return value\n",
    "        k += 1\n",
    "        \n",
    "# %time find_smallest_larger_than(10211726171726281982716820)\n",
    "\n",
    "day_3  = lambda inp : (get_path_to_1(inp), find_smallest_larger_than(inp))\n",
    "add_day_func_to_dict(day_3, '3', mode='np')"
   ]
  },
  {
   "cell_type": "markdown",
   "metadata": {
    "collapsed": true
   },
   "source": [
    "# DAY 4"
   ]
  },
  {
   "cell_type": "code",
   "execution_count": 32,
   "metadata": {
    "collapsed": false
   },
   "outputs": [],
   "source": [
    "from functools import reduce\n",
    "def check_passphrase(paph):\n",
    "    L = paph.split(' ')\n",
    "    return len(L)==len(set(L))\n",
    "def day_4_1(inp):\n",
    "    return sum(list(map(check_passphrase,inp)))\n",
    "\n",
    "#inp = get_inp('4').split('\\n')[:-1]\n",
    "#day_4_1(inp)\n",
    "\n",
    "def doublecheck_passphrase(paph):\n",
    "    L = list(map(lambda x : set(x), paph.split(' ')))\n",
    "    unique = reduce(lambda l, x: l.append(x) or l if x not in l else l, L, [])\n",
    "    return len(unique)==len(L)\n",
    "\n",
    "def day_4_2(inp):\n",
    "    return sum(list(map(doublecheck_passphrase,inp)))\n",
    "\n",
    "#inp = get_inp('4').split('\\n')[:-1]\n",
    "#day_4_2(inp)\n",
    "\n",
    "day_4 = lambda inp : (day_4_1(inp), day_4_2(inp))"
   ]
  },
  {
   "cell_type": "code",
   "execution_count": 33,
   "metadata": {
    "collapsed": false
   },
   "outputs": [
    {
     "data": {
      "text/plain": [
       "(386, 208)"
      ]
     },
     "execution_count": 33,
     "metadata": {},
     "output_type": "execute_result"
    }
   ],
   "source": [
    "add_day_func_to_dict(day_4, '4', mode=0, callback=lambda x : x.split('\\n'))"
   ]
  },
  {
   "cell_type": "markdown",
   "metadata": {},
   "source": [
    "# DAY 5"
   ]
  },
  {
   "cell_type": "code",
   "execution_count": 34,
   "metadata": {
    "collapsed": false
   },
   "outputs": [],
   "source": [
    "def get_number_of_steps(this_inp, change, change2_if_condition=1, condition=3):\n",
    "    inp = this_inp.copy()\n",
    "    cursor = 0\n",
    "    L = len(inp)\n",
    "    step = 0\n",
    "    while True:\n",
    "        prev = cursor\n",
    "        cursor += inp[cursor]\n",
    "        inp[prev] += change2_if_condition if inp[prev]>=condition else change\n",
    "        step +=1\n",
    "        if cursor >= L or cursor <0:\n",
    "            break\n",
    "    return step\n",
    "\n",
    "day_5 = lambda inp : (get_number_of_steps(inp, 1), get_number_of_steps(inp, 1, -1, 3))"
   ]
  },
  {
   "cell_type": "code",
   "execution_count": 35,
   "metadata": {
    "collapsed": false
   },
   "outputs": [
    {
     "data": {
      "text/plain": [
       "(396086, 28675390)"
      ]
     },
     "execution_count": 35,
     "metadata": {},
     "output_type": "execute_result"
    }
   ],
   "source": [
    "add_day_func_to_dict(day_5, '5', callback=lambda array : array.astype(int))"
   ]
  },
  {
   "cell_type": "markdown",
   "metadata": {
    "collapsed": true
   },
   "source": [
    "# DAY 6"
   ]
  },
  {
   "cell_type": "code",
   "execution_count": 2,
   "metadata": {
    "collapsed": false
   },
   "outputs": [],
   "source": [
    "import multiprocessing\n",
    "from functools import partial\n",
    "\n",
    "def day_6(inp):\n",
    "    L=len(inp)\n",
    "    states =[] \n",
    "\n",
    "    def choose_bank(inp):\n",
    "        return inp.argmax()\n",
    "\n",
    "    def get_spread(idxn_b, iv):\n",
    "        i, v = iv\n",
    "        idx, n_b = idxn_b\n",
    "        # print i, v, idx, n_b\n",
    "        if i == idx:\n",
    "            v = 0\n",
    "        S=v+n_b//L\n",
    "        if np.mod((i-idx)-1, L)<(n_b%L):\n",
    "            S+=1\n",
    "        return S\n",
    "\n",
    "    def spread_blocks(idx, inp):\n",
    "        n_b = inp[idx] \n",
    "        #pool = multiprocessing.Pool()\n",
    "        #inp = pool.map(partial(get_spread, (idx,n_b)), enumerate(inp))\n",
    "        inp = list(map(partial(get_spread, (idx,n_b)), enumerate(inp)))\n",
    "        return np.array(inp) \n",
    "\n",
    "    step = 0\n",
    "    while True:\n",
    "        idx = choose_bank(inp) \n",
    "        inp = spread_blocks(idx, inp)\n",
    "        hashinp = hash(inp.tostring())\n",
    "        step += 1\n",
    "        if hashinp in states:\n",
    "            break\n",
    "        states.append(hashinp)\n",
    "\n",
    "    return (step, len(states)-states.index(hashinp))"
   ]
  },
  {
   "cell_type": "code",
   "execution_count": 3,
   "metadata": {
    "collapsed": false
   },
   "outputs": [
    {
     "data": {
      "text/plain": [
       "(12841, 8038)"
      ]
     },
     "execution_count": 3,
     "metadata": {},
     "output_type": "execute_result"
    }
   ],
   "source": [
    "add_day_func_to_dict(day_6, '6', mode='np', callback=lambda x : x.astype(int))"
   ]
  },
  {
   "cell_type": "markdown",
   "metadata": {
    "collapsed": true
   },
   "source": [
    "# DAY 7"
   ]
  },
  {
   "cell_type": "code",
   "execution_count": 13,
   "metadata": {
    "collapsed": false
   },
   "outputs": [],
   "source": [
    "def get_root(inp):\n",
    "    inp = list(map(lambda x : x.split(' '), inp))\n",
    "    leafs = dict([(l[0], {'w' : int(l[1].replace('(','').replace(')',''))}) for l in inp if '->' not in l])\n",
    "    roots = dict([\n",
    "        (l[0], {\n",
    "                'w' : int(l[1].replace('(','').replace(')','')),\n",
    "                'sons' : list(map(lambda x : x.replace(',',''), l[l.index('->')+1:]))\n",
    "               }) for l in inp if '->' in l])\n",
    "    leafs_of_roots = [leaf for word in roots for leaf in roots[word]['sons']]\n",
    "    for root in roots:\n",
    "        if root not in leafs_of_roots:\n",
    "            return root, roots, leafs\n",
    "\n",
    "answer_7_1 = lambda inp : get_root(inp)[0]\n",
    "\n",
    "def get_weights_of_sons(word, leafs, roots):\n",
    "    if word in leafs:\n",
    "        return leafs[word]['w']\n",
    "    else:\n",
    "        return np.sum([get_weights_of_sons(w, leafs, roots) for w in roots[word]['sons']]) + roots[word]['w']\n",
    "\n",
    "def get_unbalanced_son(word, leafs, roots):\n",
    "    if word in leafs:\n",
    "        return None, None, None\n",
    "    L = [get_weights_of_sons(w, leafs, roots) for w in roots[word]['sons']]\n",
    "    value = len(set(L))==1\n",
    "    if value:\n",
    "        return None, None, None\n",
    "    else:\n",
    "        for i, l in enumerate(L):\n",
    "            if L.count(l)==1:\n",
    "                return roots[word]['sons'][i], l, L[np.mod((i+1),len(L))]\n",
    "\n",
    "def answer_7_2(inp):\n",
    "    word, roots, leafs = get_root(inp)\n",
    "    should_be = 0\n",
    "    v = 0\n",
    "    while word is not None:\n",
    "        prev_word, diff = (word, v-should_be)\n",
    "        word, should_be, v = get_unbalanced_son(word, leafs, roots)\n",
    "    #print(\"Bad value is %d, should be %d (weight of word %s)\" % (roots[prev_word]['w'], roots[prev_word]['w'] + diff, prev_word))\n",
    "    return roots[prev_word]['w'] + diff\n",
    "\n",
    "day_7 = lambda inp : (answer_7_1(inp), answer_7_2(inp))"
   ]
  },
  {
   "cell_type": "code",
   "execution_count": 14,
   "metadata": {
    "collapsed": false
   },
   "outputs": [
    {
     "data": {
      "text/plain": [
       "('eugwuhl', 420)"
      ]
     },
     "execution_count": 14,
     "metadata": {},
     "output_type": "execute_result"
    }
   ],
   "source": [
    "add_day_func_to_dict(day_7, '7', mode=0, callback=lambda x : x.split('\\n'))"
   ]
  },
  {
   "cell_type": "markdown",
   "metadata": {},
   "source": [
    "# DAY 8"
   ]
  },
  {
   "cell_type": "code",
   "execution_count": 17,
   "metadata": {
    "collapsed": false
   },
   "outputs": [],
   "source": [
    "import operator\n",
    "import numpy as np\n",
    "\n",
    "def day_8(inp):\n",
    "    ACTIONS = {'inc' : 1, 'dec' : -1}\n",
    "    CONDITIONS = {\"==\" : lambda x,y : x==y,\n",
    "                  \"!=\" : lambda x,y : x!=y,\n",
    "                  \"<=\" : lambda x,y : x<=y,\n",
    "                  \">=\" : lambda x,y : x>=y,\n",
    "                  \">\" : lambda x,y : x>y,\n",
    "                  \"<\" : lambda x,y : x<y\n",
    "                 }\n",
    "    variables = {'max_value' : -np.inf}\n",
    "    \n",
    "    def code_parser(line):\n",
    "        \"\"\"\n",
    "        <inp_variable> <action> <var_value> if <cond_variable> <condition> <cond_value>\n",
    "        \"\"\"\n",
    "        inp_variable, action, var_value, _, cond_variable, condition, cond_value = line.split()\n",
    "        variables[inp_variable] = 0 if inp_variable not in variables else variables[inp_variable]\n",
    "        variables[cond_variable] = 0 if cond_variable not in variables else variables[cond_variable]\n",
    "        if CONDITIONS[condition](variables[cond_variable], int(cond_value)):\n",
    "            variables[inp_variable] = variables[inp_variable] + ACTIONS[action]*int(var_value)\n",
    "            variables['max_value'] = max(variables['max_value'], variables[inp_variable])\n",
    "\n",
    "    list(map(code_parser, inp))\n",
    "    max_value = variables['max_value']\n",
    "    del variables['max_value']\n",
    "    return(max(iter(variables.values())), max_value)"
   ]
  },
  {
   "cell_type": "code",
   "execution_count": 18,
   "metadata": {
    "collapsed": false
   },
   "outputs": [
    {
     "data": {
      "text/plain": [
       "(4567, 5636)"
      ]
     },
     "execution_count": 18,
     "metadata": {},
     "output_type": "execute_result"
    }
   ],
   "source": [
    "add_day_func_to_dict(day_8, '8', mode=0, callback=lambda x : x.split('\\n'))"
   ]
  },
  {
   "cell_type": "markdown",
   "metadata": {},
   "source": [
    "# DAY 9"
   ]
  },
  {
   "cell_type": "code",
   "execution_count": 19,
   "metadata": {
    "collapsed": true
   },
   "outputs": [],
   "source": [
    "import re\n",
    "def remove_char(inp):\n",
    "    return re.sub('!.{1}', '', inp)\n",
    "\n",
    "def remove_garbage(inp):\n",
    "    return re.sub('<.*?>', '', inp)\n",
    "\n",
    "def count_in_garbage(inp):\n",
    "    myre = re.compile(r'<.*?>')\n",
    "    return np.sum(len(x) for x in map(lambda x : x[1:-1], myre.findall(inp)))\n",
    "\n",
    "def get_subgroups(inp):\n",
    "    return inp[1:-1].split(',')\n",
    "\n",
    "def parenthetic_contents(string):\n",
    "    stack = []\n",
    "    for i, c in enumerate(string):\n",
    "        if c == '{':\n",
    "            stack.append(i)\n",
    "        elif c == '}' and stack:\n",
    "            start = stack.pop()\n",
    "            yield (len(stack), string[start + 1: i])\n",
    "            \n",
    "day_9_1 = lambda inp : np.sum([depth+1 for depth, val in parenthetic_contents(remove_garbage(remove_char(inp)))])\n",
    "day_9_2 = lambda inp : count_in_garbage(remove_char(inp))\n",
    "\n",
    "day_9 = lambda inp : (day_9_1(inp), day_9_2(inp))"
   ]
  },
  {
   "cell_type": "code",
   "execution_count": 20,
   "metadata": {
    "collapsed": false
   },
   "outputs": [
    {
     "data": {
      "text/plain": [
       "(14204, 6622)"
      ]
     },
     "execution_count": 20,
     "metadata": {},
     "output_type": "execute_result"
    }
   ],
   "source": [
    "add_day_func_to_dict(day_9, '9', mode=0)"
   ]
  },
  {
   "cell_type": "markdown",
   "metadata": {
    "collapsed": true
   },
   "source": [
    "# DAY 10"
   ]
  },
  {
   "cell_type": "code",
   "execution_count": 42,
   "metadata": {
    "collapsed": false
   },
   "outputs": [],
   "source": [
    "# DAY 10.1\n",
    "def modify_list(L, current_position, length, skip_size):\n",
    "    N = (current_position+length)\n",
    "    number_of_first_elements = max(0,N-len(L))\n",
    "    sub_list = L[current_position:N] + L[:number_of_first_elements]\n",
    "    sub_list.reverse()\n",
    "    L[current_position:N] = sub_list[:(length-number_of_first_elements)]\n",
    "    L[:number_of_first_elements] = sub_list[length-number_of_first_elements:]\n",
    "    return L, np.mod((current_position+length+skip_size),len(L)), skip_size+1\n",
    "\n",
    "def day_10_1(inp):\n",
    "    L = list(range(256))\n",
    "    current_position = 0\n",
    "    skip_size = 0\n",
    "    for length in inp:\n",
    "        L, current_position, skip_size = modify_list(L, current_position, length, skip_size)\n",
    "    return L[0]*L[1]"
   ]
  },
  {
   "cell_type": "code",
   "execution_count": 43,
   "metadata": {
    "collapsed": false
   },
   "outputs": [],
   "source": [
    "inp = get_inp('10')[:-1]\n",
    "\n",
    "def to_ascii(string):\n",
    "    return [ord(c) for c in string]\n",
    "\n",
    "def get_lengths(string):\n",
    "    return to_ascii(string)+[17, 31, 73, 47, 23]\n",
    "\n",
    "def get_sparse_hash(string):\n",
    "    L = list(range(256))\n",
    "    current_position = 0\n",
    "    skip_size = 0\n",
    "    lengths = get_lengths(string)\n",
    "    for length in lengths*64:\n",
    "        L, current_position, skip_size = modify_list(L, current_position, length, skip_size)\n",
    "    return L\n",
    "\n",
    "def perform_xor(list_of_nums):\n",
    "    S = 0\n",
    "    for x in list_of_nums:\n",
    "        S ^= x\n",
    "    return S\n",
    "\n",
    "def to_dense(sparse):\n",
    "    return ''.join(\n",
    "        map(\n",
    "            lambda x : hex(x)[2:] if len(hex(x)[2:])==2 else '0%s' % hex(x)[2:],\n",
    "            map(\n",
    "                lambda sixteens : perform_xor(sixteens),\n",
    "                [sparse[16*i:16*(i+1)] for i in range(16)]\n",
    "            )\n",
    "        ))\n",
    "\n",
    "def day_10_2(inp):\n",
    "    inp = ','.join(list(map(str,inp)))\n",
    "    return to_dense(get_sparse_hash(inp))\n",
    "\n",
    "def day_10_2b(inp):\n",
    "    return to_dense(get_sparse_hash(inp))\n",
    "\n",
    "day_10 = lambda inp : (day_10_1(inp), day_10_2(inp))"
   ]
  },
  {
   "cell_type": "code",
   "execution_count": 44,
   "metadata": {
    "collapsed": false
   },
   "outputs": [
    {
     "data": {
      "text/plain": [
       "(1935, 'a2582a3a0e66e6e86e3812dcb672a272')"
      ]
     },
     "execution_count": 44,
     "metadata": {},
     "output_type": "execute_result"
    }
   ],
   "source": [
    "add_day_func_to_dict(day_10, '10', mode=0, callback=lambda x : map(int, x.split(',')))"
   ]
  },
  {
   "cell_type": "markdown",
   "metadata": {},
   "source": [
    "# DAY 11"
   ]
  },
  {
   "cell_type": "code",
   "execution_count": 29,
   "metadata": {
    "collapsed": false
   },
   "outputs": [],
   "source": [
    "def day_11(inp):\n",
    "    moves = {\n",
    "        's' : (2,0),\n",
    "        'n' : (-2,0),\n",
    "        'se' : (1, 1),\n",
    "        'ne' : (-1,1),\n",
    "        'sw' : (1,-1),\n",
    "        'nw' : (-1,-1)\n",
    "    }\n",
    "\n",
    "    def add(pos, move):\n",
    "        return (pos[0]+move[0], pos[1]+ move[1])\n",
    "\n",
    "    def diff(pos, start):\n",
    "        return (pos[0]-start[0], pos[1]-start[1])\n",
    "\n",
    "    def compute_steps(pos):\n",
    "        if abs(pos[1])>abs(pos[0]):\n",
    "            s = abs(pos[1])\n",
    "        else:\n",
    "            s = abs(pos[1])+(abs(pos[0])-abs(pos[1]))/2\n",
    "        return s\n",
    "\n",
    "    pos = (0,0)\n",
    "    steps = []\n",
    "    poss = []\n",
    "    for move in inp:\n",
    "        pos = add(pos, moves[move])\n",
    "        poss.append(pos)\n",
    "        steps.append(compute_steps(pos))\n",
    "    return (steps[-1], max(steps))"
   ]
  },
  {
   "cell_type": "code",
   "execution_count": 30,
   "metadata": {
    "collapsed": false
   },
   "outputs": [
    {
     "data": {
      "text/plain": [
       "(664, 1447)"
      ]
     },
     "execution_count": 30,
     "metadata": {},
     "output_type": "execute_result"
    }
   ],
   "source": [
    "add_day_func_to_dict(day_11, '11', mode=0, callback=lambda x : x.split(','))"
   ]
  },
  {
   "cell_type": "markdown",
   "metadata": {},
   "source": [
    "# DAY 12"
   ]
  },
  {
   "cell_type": "code",
   "execution_count": 35,
   "metadata": {
    "collapsed": false
   },
   "outputs": [],
   "source": [
    "def parser(line, neighbors):\n",
    "    idx, neighs = line.split(' <-> ')\n",
    "    idx = int(idx)\n",
    "    neighs = list(map(int, neighs.split(',')))\n",
    "    if idx not in neighbors:\n",
    "        neighbors[idx] = set()\n",
    "    list(map(lambda n : neighbors[idx].add(n), neighs))\n",
    "    return neighs, neighbors\n",
    "\n",
    "def get_all_neighs_of_idx(inp, idx, neighbors):\n",
    "    all_neighs = set([idx])\n",
    "    direct_neighs, neighbors = parser(inp[idx], neighbors)\n",
    "    list(map(lambda n : all_neighs.add(n), direct_neighs))\n",
    "    for new_id in direct_neighs:\n",
    "        if new_id not in neighbors:\n",
    "            this_neighs, neighbors = get_all_neighs_of_idx(inp, new_id, neighbors)\n",
    "            list(map(lambda n : all_neighs.add(n), this_neighs))\n",
    "    return all_neighs, neighbors\n",
    "\n",
    "def get_all_groups(inp):\n",
    "    neighbors = {}\n",
    "    groups = []\n",
    "    ids_in_groups = set()\n",
    "    for idx in range(len(inp)):\n",
    "        if idx not in ids_in_groups:\n",
    "            new_group, neighbors = get_all_neighs_of_idx(inp, idx, neighbors)\n",
    "            ids_in_groups = ids_in_groups.union(new_group)\n",
    "            groups.append(new_group)\n",
    "    return groups\n",
    "\n",
    "\"\"\" TESTS\n",
    "test = [\"0 <-> 2\", \"1 <-> 1\",\"2 <-> 0, 3, 4\",\"3 <-> 2, 4\",\"4 <-> 2, 3, 6\",\"5 <-> 6\",\"6 <-> 4, 5\"]group_test, _ = get_all_neighs_of_idx(test, 0, {})\n",
    "groups = get_all_groups(test)\n",
    "groups\n",
    "\"\"\"\n",
    "\n",
    "def day_12(inp):\n",
    "    group_real, _ = get_all_neighs_of_idx(inp, 0, {})\n",
    "    groups = get_all_groups(inp)\n",
    "    return (len(group_real), len(groups))"
   ]
  },
  {
   "cell_type": "code",
   "execution_count": 36,
   "metadata": {
    "collapsed": false
   },
   "outputs": [
    {
     "data": {
      "text/plain": [
       "(130, 189)"
      ]
     },
     "execution_count": 36,
     "metadata": {},
     "output_type": "execute_result"
    }
   ],
   "source": [
    "add_day_func_to_dict(day_12, '12', mode=0, callback=lambda x : x.split('\\n'))"
   ]
  },
  {
   "cell_type": "markdown",
   "metadata": {
    "collapsed": true
   },
   "source": [
    "# Day 13"
   ]
  },
  {
   "cell_type": "code",
   "execution_count": 45,
   "metadata": {
    "collapsed": false
   },
   "outputs": [],
   "source": [
    "def get_pos_of_scanner(rang, t):\n",
    "    rest = np.mod(t,2*rang-2)\n",
    "    return rest if rest<rang else np.mod(-rest+rang-1,rang-1)\n",
    "    \n",
    "def get_layers(inp):\n",
    "    return list(map(lambda l : (int(l.split(': ')[0]), int(l.split(': ')[1])), inp))\n",
    "    \n",
    "def is_caught_on_layer(layer, delay=0):\n",
    "    return (True, layer[0]*layer[1]) if get_pos_of_scanner(layer[1], layer[0]+delay)==0 else (False, 0)\n",
    "\n",
    "def day_13_1(inp, delay=0):\n",
    "    layers = get_layers(inp)\n",
    "    return np.sum(list(map(lambda layer : is_caught_on_layer(layer, delay=delay)[1], layers)))\n",
    "\n",
    "def day_13_2(inp):\n",
    "    layers = get_layers(inp)\n",
    "    delay = 1\n",
    "    while True:\n",
    "        caught = False\n",
    "        for layer in layers:\n",
    "            caught = is_caught_on_layer(layer, delay=delay)[0]\n",
    "            if caught:\n",
    "                break\n",
    "        if not caught:\n",
    "            return delay\n",
    "        delay+=1\n",
    "\n",
    "day_13 = lambda inp : (day_13_1(inp), day_13_2(inp))"
   ]
  },
  {
   "cell_type": "code",
   "execution_count": 46,
   "metadata": {
    "collapsed": false
   },
   "outputs": [
    {
     "data": {
      "text/plain": [
       "(1900, 3966414)"
      ]
     },
     "execution_count": 46,
     "metadata": {},
     "output_type": "execute_result"
    }
   ],
   "source": [
    "add_day_func_to_dict(day_13, '13', mode=0, callback=lambda x : x.split('\\n')[:-1])"
   ]
  },
  {
   "cell_type": "markdown",
   "metadata": {
    "collapsed": true
   },
   "source": [
    "# Day 14"
   ]
  },
  {
   "cell_type": "code",
   "execution_count": 49,
   "metadata": {
    "collapsed": false
   },
   "outputs": [],
   "source": [
    "def get_bin(e):\n",
    "    scale = 32 ## equals to hexadecimal\n",
    "    num_of_bits = 4\n",
    "    return bin(int(e, scale))[2:].zfill(num_of_bits)\n",
    "\n",
    "def to_car(binary):\n",
    "    return binary.replace('1', '#').replace('0', '.')\n",
    "\n",
    "def get_matrix(inp):\n",
    "    L = []\n",
    "    for i in range(128):\n",
    "        kh = day_10_2b(inp+'-%d' % i)\n",
    "        L.append(''.join(list(map(get_bin,kh))))\n",
    "    return L\n",
    "\n",
    "def day_14_1(inp):\n",
    "    return ''.join(get_matrix(inp)).count('1')\n",
    "\n",
    "def get_neighs(pos, group=set(), L=None):\n",
    "    i,j = pos\n",
    "    neighs = set()\n",
    "    for p,k in [(i+1,j), (i-1,j), (i, j+1), (i, j-1)]:\n",
    "        if p in range(128) and k in range(128) and (p,k) not in group:\n",
    "            if L[p][k]=='1':\n",
    "                neighs.add((p,k))\n",
    "                group.add((p,k))\n",
    "    l = len(group)\n",
    "    size_of_group = l-1\n",
    "    while len(group)!=size_of_group:\n",
    "        size_of_group = len(group)\n",
    "        for neigh in neighs:\n",
    "            group = get_neighs(neigh, group, L=L)\n",
    "    return group\n",
    "\n",
    "def day_14_2(inp):\n",
    "    L = get_matrix(inp)\n",
    "    viewed = set()\n",
    "    groups = []\n",
    "    for i in range(128):\n",
    "        for j in range(128):\n",
    "            if (i,j) not in viewed and L[i][j] != '0':\n",
    "                group = get_neighs((i,j), L=L)\n",
    "                viewed = viewed.union(group)\n",
    "                groups.append(group)\n",
    "    return len(groups)\n",
    "\n",
    "day_14 = lambda inp : (day_14_1(inp), day_14_2(inp))"
   ]
  },
  {
   "cell_type": "code",
   "execution_count": 50,
   "metadata": {
    "collapsed": false
   },
   "outputs": [
    {
     "data": {
      "text/plain": [
       "(8140, 1182)"
      ]
     },
     "execution_count": 50,
     "metadata": {},
     "output_type": "execute_result"
    }
   ],
   "source": [
    "add_day_func_to_dict(day_14, '14', mode=0)"
   ]
  },
  {
   "cell_type": "markdown",
   "metadata": {
    "collapsed": false
   },
   "source": [
    "# DAY 15"
   ]
  },
  {
   "cell_type": "code",
   "execution_count": 51,
   "metadata": {
    "collapsed": true
   },
   "outputs": [],
   "source": [
    "factor_A = 16807\n",
    "factor_B = 48271\n",
    "quotient = 2147483647"
   ]
  },
  {
   "cell_type": "code",
   "execution_count": 59,
   "metadata": {
    "collapsed": false
   },
   "outputs": [],
   "source": [
    "def get_next(previous, factor):\n",
    "    return (previous*factor)%quotient\n",
    "\n",
    "def get_n_bin_digits(number):\n",
    "    number = str(bin(number))\n",
    "    if len(number)<16:\n",
    "        number = \"0\"*16+number.replace('b','0')\n",
    "    return number[-16:]\n",
    "\n",
    "def generators(inp, factor, stop=40e6, conditions=(1,1)):\n",
    "    count = 0\n",
    "    genA = generator(inp[0], factor[0], condition=conditions[0])\n",
    "    genB = generator(inp[1], factor[1], condition=conditions[1])\n",
    "    while count<stop:\n",
    "        count+=1\n",
    "        yield next(genA)==next(genB)\n",
    "\n",
    "def generator(inp, factor, condition=1):\n",
    "    while True:\n",
    "        inp = get_next(inp, factor)\n",
    "        while inp%condition!=0:\n",
    "            inp = get_next(inp, factor)\n",
    "        yield get_n_bin_digits(inp)\n",
    "        \n",
    "def day_15_1(inp):\n",
    "    return np.sum(generators(inp, (factor_A, factor_B)))\n",
    "\n",
    "def day_15_2(inp):\n",
    "    return np.sum(generators(inp, (factor_A, factor_B), stop=5e6, conditions=(4,8)))\n",
    "\n",
    "day_15 = lambda inp : (day_15_1(inp), day_15_2(inp))"
   ]
  },
  {
   "cell_type": "code",
   "execution_count": 61,
   "metadata": {
    "collapsed": false
   },
   "outputs": [
    {
     "data": {
      "text/plain": [
       "(609, 253)"
      ]
     },
     "execution_count": 61,
     "metadata": {},
     "output_type": "execute_result"
    }
   ],
   "source": [
    "add_day_func_to_dict(day_15, '15', mode='np', callback=lambda array : array.astype(int))"
   ]
  },
  {
   "cell_type": "markdown",
   "metadata": {
    "collapsed": true
   },
   "source": [
    "# DAY 16"
   ]
  },
  {
   "cell_type": "code",
   "execution_count": 69,
   "metadata": {
    "collapsed": true
   },
   "outputs": [],
   "source": [
    "def spin(programs, param):\n",
    "    L = len(programs)\n",
    "    n = int(param)\n",
    "    programs = [programs[(i-n)%L] for i in range(L)]\n",
    "    return programs\n",
    "\n",
    "def exchange(programs, param):\n",
    "    A, B = map(int, param.split('/'))\n",
    "    tmp = programs[A]\n",
    "    programs[A] = programs[B]\n",
    "    programs[B] = tmp\n",
    "    return programs\n",
    "\n",
    "def partner(programs, param):\n",
    "    A, B = param.split('/')\n",
    "    tmp = programs.index(B)\n",
    "    programs[programs.index(A)]=B\n",
    "    programs[tmp] = A\n",
    "    return programs\n",
    "\n",
    "mapper = {\n",
    "    's' : spin,\n",
    "    'p' : partner,\n",
    "    'x' : exchange\n",
    "}\n",
    "\n",
    "def get_transformation(element):\n",
    "    return lambda programs : mapper[element[0]](programs, element[1:])"
   ]
  },
  {
   "cell_type": "code",
   "execution_count": 70,
   "metadata": {
    "collapsed": true
   },
   "outputs": [],
   "source": [
    "def apply_to_prog(transfos, programs):\n",
    "    for transf in transfos:\n",
    "        programs = transf(programs)\n",
    "    return programs"
   ]
  },
  {
   "cell_type": "code",
   "execution_count": 82,
   "metadata": {
    "collapsed": true
   },
   "outputs": [],
   "source": [
    "def day_16_1(inp):\n",
    "    mapper = {\n",
    "        's' : spin,\n",
    "        'p' : partner,\n",
    "        'x' : exchange\n",
    "    }\n",
    "\n",
    "    def get_transformation(element):\n",
    "        return lambda programs : mapper[element[0]](programs, element[1:])\n",
    "    \n",
    "    programs = [str(chr(i+97)) for i in range(16)]\n",
    "    transfos = list(map(get_transformation, inp.split(',')))\n",
    "    return ''.join(apply_to_prog(transfos, programs))"
   ]
  },
  {
   "cell_type": "code",
   "execution_count": 83,
   "metadata": {
    "collapsed": false
   },
   "outputs": [],
   "source": [
    "def get_state(programs):\n",
    "    return int(''.join(list(map(lambda x : str(ord(x)),programs))))"
   ]
  },
  {
   "cell_type": "code",
   "execution_count": 86,
   "metadata": {
    "collapsed": false
   },
   "outputs": [],
   "source": [
    "def day_16_2(inp):\n",
    "    programs = [str(chr(i+97)) for i in range(16)]\n",
    "    transformations = list(map(get_transformation, inp.split(',')))\n",
    "    states = set()\n",
    "    list_of_status = []\n",
    "    for tour in range(1000):\n",
    "        programs = apply_to_prog(transformations, programs)\n",
    "        state = get_state(programs)\n",
    "        list_of_status.append(''.join(programs))\n",
    "        if state in states:\n",
    "            print('Found a loop with state : %s for tour %d' %  (''.join(programs),tour))\n",
    "            break\n",
    "        else:\n",
    "            states.add(state)\n",
    "\n",
    "    return list_of_status[int(1e9%tour)-1]\n",
    "\n",
    "day_16 = lambda inp : (day_16_1(inp), day_16_2(inp))"
   ]
  },
  {
   "cell_type": "code",
   "execution_count": 87,
   "metadata": {
    "collapsed": false
   },
   "outputs": [
    {
     "name": "stdout",
     "output_type": "stream",
     "text": [
      "Found a loop with state : doeaimlbnpjchfkg for tour 30\n"
     ]
    },
    {
     "data": {
      "text/plain": [
       "('doeaimlbnpjchfkg', 'agndefjhibklmocp')"
      ]
     },
     "execution_count": 87,
     "metadata": {},
     "output_type": "execute_result"
    }
   ],
   "source": [
    "add_day_func_to_dict(day_16, '16', mode='0')"
   ]
  },
  {
   "cell_type": "markdown",
   "metadata": {},
   "source": [
    "# Day 17"
   ]
  },
  {
   "cell_type": "code",
   "execution_count": 4,
   "metadata": {
    "collapsed": false
   },
   "outputs": [
    {
     "data": {
      "text/plain": [
       "array(382)"
      ]
     },
     "execution_count": 4,
     "metadata": {},
     "output_type": "execute_result"
    }
   ],
   "source": [
    "inp = get_inp('17').astype(int)\n",
    "inp"
   ]
  },
  {
   "cell_type": "code",
   "execution_count": 37,
   "metadata": {
    "collapsed": false
   },
   "outputs": [],
   "source": [
    "def day_17_1(inp):\n",
    "    L = [0]\n",
    "    current = 0\n",
    "    for i in range(1, 2018):\n",
    "        current = (current+inp+1)%(len(L))\n",
    "        L.insert(current,i)\n",
    "    return L[current+1]\n",
    "\n",
    "def day_17_2(inp):\n",
    "    current = 0\n",
    "    last_insert = 0\n",
    "    for i in range(1, 50000000):\n",
    "        current = (current+inp+1)%i\n",
    "        last_insert = i if current==0 else last_insert\n",
    "    return last_insert\n",
    "day_17 = lambda inp : (day_17_1(inp), day_17_2(inp))"
   ]
  },
  {
   "cell_type": "code",
   "execution_count": 38,
   "metadata": {
    "collapsed": false
   },
   "outputs": [
    {
     "data": {
      "text/plain": [
       "(1561, 33454823)"
      ]
     },
     "execution_count": 38,
     "metadata": {},
     "output_type": "execute_result"
    }
   ],
   "source": [
    "add_day_func_to_dict(day_17, '17', mode='np', callback=lambda x : x.astype(int))"
   ]
  },
  {
   "cell_type": "markdown",
   "metadata": {},
   "source": [
    "# Day 18"
   ]
  },
  {
   "cell_type": "code",
   "execution_count": 2,
   "metadata": {
    "collapsed": false
   },
   "outputs": [],
   "source": [
    "from parsy import regex, string, seq\n",
    "\n",
    "def get_parser():\n",
    "    command = regex('[a-z]{3}')\n",
    "    space = string(\" \")\n",
    "    var = regex('[a-z]{1}')\n",
    "    value = (regex('[-+]?\\d+').map(int) | var).optional()\n",
    "    action = seq(command, space >> value, space.optional() >> value)\n",
    "    return action\n"
   ]
  },
  {
   "cell_type": "code",
   "execution_count": 3,
   "metadata": {
    "collapsed": false
   },
   "outputs": [],
   "source": [
    "inp_test = ['snd 1','snd 2','snd p','rcv a','rcv b','rcv c','rcv d']\n",
    "\n",
    "import socket\n",
    "\n",
    "def create_socket(p):\n",
    "    serversocket = socket.socket(socket.AF_INET, socket.SOCK_STREAM) \n",
    "    host = socket.gethostname()\n",
    "    port = 9995+p\n",
    "    serversocket.bind((host, port))                                  \n",
    "    serversocket.listen(10000)\n",
    "    return serversocket\n",
    "\n",
    "def send_to_socket(value, p):\n",
    "    new_sock = socket.socket(socket.AF_INET, socket.SOCK_STREAM) \n",
    "    new_sock.connect((socket.gethostname(),9995+p))\n",
    "    new_sock.send(str(value).encode('ascii'))\n",
    "    new_sock.close()\n",
    "    \n",
    "def get_value_from_socket_queue(p, sockets):\n",
    "    clientsocket, addr = sockets[p].accept()\n",
    "    value = int(clientsocket.recv(1024).decode('ascii'))\n",
    "    clientsocket.close()\n",
    "    return value                    \n",
    "   \n",
    "sockets = [create_socket(p) for p in range(2)]\n",
    "\n",
    "variables = {\n",
    "    2 : {\n",
    "        'played' : 0\n",
    "    },\n",
    "    0 : {\n",
    "        'p' : 0,\n",
    "    },\n",
    "    1 : {\n",
    "        'p' : 1,\n",
    "        'send' : 0\n",
    "    }\n",
    "}\n",
    "\n",
    "def check(var, p=0):\n",
    "    if var not in variables[p]:\n",
    "        variables[p][var] = 0\n",
    "    \n",
    "def get_value(value, p=0):\n",
    "    if type(value)==int:\n",
    "        return value\n",
    "    else:\n",
    "        check(value, p=p)\n",
    "        return variables[p][value]\n",
    "    \n",
    "def snd_1(var, value, p=2):\n",
    "    check(var)\n",
    "    variables[p]['played'] = variables[p][var]\n",
    "    return 1, None\n",
    "    \n",
    "def snd(var, value, p=0):\n",
    "    v = get_value(var, p=p)\n",
    "    if p==1:\n",
    "        variables[p]['send']+=1\n",
    "        with open('out.txt', 'a') as out:\n",
    "            out.write('%d\\n' % variables[p]['send'])\n",
    "    send_to_socket(v, (1-p))\n",
    "    return 1, None\n",
    "    \n",
    "def set_(var, value, p=0):\n",
    "    variables[p][var] = get_value(value, p=p)\n",
    "    return 1, None\n",
    "    \n",
    "def add(var, value, p=0):\n",
    "    check(var, p=p)\n",
    "    variables[p][var] += get_value(value, p=p)\n",
    "    return 1, None\n",
    "    \n",
    "def mul(var, value, p=0):\n",
    "    check(var, p=p)\n",
    "    variables[p][var] *= get_value(value, p=p)\n",
    "    return 1, None\n",
    "    \n",
    "def mod(var, value, p=0):\n",
    "    check(var, p=p)\n",
    "    variables[p][var] %= get_value(value, p=p)\n",
    "    return 1, None\n",
    "\n",
    "def rcv(var, value, p=0):\n",
    "    value = get_value_from_socket_queue(p, sockets)\n",
    "    variables[p][var] = value\n",
    "    return 1, None\n",
    "\n",
    "def rcv_1(var, value, p=2):\n",
    "    check(var)\n",
    "    v = None\n",
    "    if variables[p][var]!=0:\n",
    "        v = variables[p]['played']\n",
    "    return 1, v\n",
    "    \n",
    "def jgz(var, value, p=0):\n",
    "    next_step=1\n",
    "    if get_value(var, p=p)>0:\n",
    "        next_step = get_value(value, p=p)\n",
    "    return next_step, None\n",
    "\n",
    "mapper = {\n",
    "    'snd' : snd,\n",
    "    'set' : set_,\n",
    "    'add' : add,\n",
    "    'mul' : mul,\n",
    "    'mod' : mod,\n",
    "    'rcv' : rcv,\n",
    "    'jgz' : jgz\n",
    "}\n",
    "mapper_1 = mapper.copy()\n",
    "mapper_1['snd'] = snd_1\n",
    "mapper_1['rcv'] = rcv_1\n",
    "\n",
    "action = get_parser()\n",
    "def apply_func(inp, idx, p, mapper=mapper, action=action):\n",
    "    #print(\"[%d]%s (%s)\" % (p, inp[idx], variables[p]))\n",
    "    parsed = action.parse(inp[idx])\n",
    "    return mapper[parsed[0]](parsed[1], parsed[2], p=p)\n",
    "\n",
    "def day_18_1(inp):\n",
    "    idx = 0\n",
    "    v = None\n",
    "    while True:\n",
    "        if v is not None:\n",
    "            break\n",
    "        next_step, v = apply_func(inp, idx, 2, mapper=mapper_1)\n",
    "        idx += next_step\n",
    "    return v\n",
    "\n",
    "import threading\n",
    "import time\n",
    "\n",
    "\n",
    "class ThreadingWorker(object):\n",
    "\n",
    "    def __init__(self, actions, p=0):\n",
    "        self.p = p\n",
    "        self.actions = actions\n",
    "        self.idx = 0\n",
    "        self.thread = threading.Thread(target=self.run, args=())\n",
    "        self.thread.daemon = True                            # Daemonize thread\n",
    "        self.thread.start()                                  # Start the execution\n",
    "\n",
    "    def run(self):\n",
    "        while True:\n",
    "            step, value = apply_func(self.actions, self.idx, self.p)\n",
    "            self.idx += step\n",
    "            \n",
    "def day_18_2(inp):\n",
    "    thread0 = ThreadingWorker(inp, p=0)\n",
    "    thread1 = ThreadingWorker(inp, p=1)\n",
    "    v=0\n",
    "    time.sleep(5)\n",
    "    while True:\n",
    "        with open('out.txt') as out:\n",
    "            new_v = int(out.readlines()[-1][:-1])\n",
    "        if new_v==v:\n",
    "            break\n",
    "        v=new_v\n",
    "        time.sleep(5)\n",
    "    return v\n"
   ]
  },
  {
   "cell_type": "code",
   "execution_count": 4,
   "metadata": {
    "collapsed": false
   },
   "outputs": [
    {
     "data": {
      "text/plain": [
       "2951"
      ]
     },
     "execution_count": 4,
     "metadata": {},
     "output_type": "execute_result"
    }
   ],
   "source": [
    "day_18_1(get_inp(18).split('\\n'))"
   ]
  },
  {
   "cell_type": "code",
   "execution_count": 5,
   "metadata": {
    "collapsed": false
   },
   "outputs": [
    {
     "data": {
      "text/plain": [
       "7366"
      ]
     },
     "execution_count": 5,
     "metadata": {},
     "output_type": "execute_result"
    }
   ],
   "source": [
    "day_18_2(get_inp(18).split('\\n'))"
   ]
  },
  {
   "cell_type": "markdown",
   "metadata": {
    "collapsed": true
   },
   "source": [
    "# Day 19"
   ]
  },
  {
   "cell_type": "code",
   "execution_count": 92,
   "metadata": {
    "collapsed": true
   },
   "outputs": [],
   "source": [
    "def get_start(inp):\n",
    "    return ((1,inp[1].index('|')),[1,0])\n",
    "\n",
    "def get_next_pos(inp, pos, direction, suite):\n",
    "    char = inp[pos[0]][pos[1]]\n",
    "    if char==\" \":\n",
    "        return False, False, suite\n",
    "    potential_directions = [[1,0], [-1,0],[0,1],[0,-1]]\n",
    "    del potential_directions[potential_directions.index([-direction[0],-direction[1]])]\n",
    "    if char==\"+\":\n",
    "        for direct in potential_directions:\n",
    "            new_char = inp[pos[0]+direct[0]][pos[1]+direct[1]]\n",
    "            if new_char!=\" \":\n",
    "                new_direction = direct\n",
    "                break\n",
    "        return ((pos[0]+new_direction[0], pos[1]+new_direction[1]), new_direction, suite)\n",
    "    if char not in ['|', '-', '+']:\n",
    "        suite.append(char)\n",
    "    return ((pos[0]+direction[0], pos[1]+direction[1]), direction, suite)\n",
    "    \n",
    "def day_19(inp):\n",
    "    pos, direction = get_start(inp)\n",
    "    suite = []\n",
    "    step=0\n",
    "    while True:\n",
    "        pos, direction, suite = get_next_pos(inp, pos, direction, suite)\n",
    "        step+=1\n",
    "        if pos==False:\n",
    "            break\n",
    "    return(\"\".join(suite), step)"
   ]
  },
  {
   "cell_type": "code",
   "execution_count": 93,
   "metadata": {
    "collapsed": false
   },
   "outputs": [
    {
     "data": {
      "text/plain": [
       "('EOCZQMURF', 16312)"
      ]
     },
     "execution_count": 93,
     "metadata": {},
     "output_type": "execute_result"
    }
   ],
   "source": [
    "add_day_func_to_dict(day_19, '19', mode='0', callback=lambda x : x[:-1].split('\\n'))"
   ]
  },
  {
   "cell_type": "markdown",
   "metadata": {},
   "source": [
    "# Day 20"
   ]
  },
  {
   "cell_type": "code",
   "execution_count": 2,
   "metadata": {
    "collapsed": false
   },
   "outputs": [],
   "source": [
    "inp = get_inp(20).split('\\n')"
   ]
  },
  {
   "cell_type": "code",
   "execution_count": 180,
   "metadata": {
    "collapsed": false
   },
   "outputs": [],
   "source": [
    "from parsy import regex, string, seq\n",
    "import pandas as pd\n",
    "\n",
    "def get_vectors(inp, numpy=True):\n",
    "    value = regex('[-+]?\\d+').map(int)\n",
    "    parser1 = seq(regex(\"[a-z]{1}=<\") >> value, string(\",\") >> value, (string(\",\") >> value).skip(string(\">\")))\n",
    "    parser = seq(parser1, string(\", \") >> parser1, string(\", \") >> parser1)\n",
    "    func = lambda x : x\n",
    "    if numpy:\n",
    "        func = lambda x : np.array(x)\n",
    "    return list(map(lambda x : func(parser.parse(x)), inp))\n",
    "\n",
    "def get_manhattan(vector):\n",
    "    return sum(map(abs,vector))\n",
    "\n",
    "def day_20_1(inp):\n",
    "    all_vectors = get_vectors(inp)\n",
    "    all_manhattans = [list(map(get_manhattan, list_of_v)) for list_of_v in all_vectors]\n",
    "    df = pd.DataFrame({\n",
    "        'manhattan_p' : list(map(lambda x : x[0], all_manhattans)),\n",
    "        'manhattan_v' : list(map(lambda x : x[1], all_manhattans)),\n",
    "        'manhattan_a' : list(map(lambda x : x[2], all_manhattans))\n",
    "    }).sort_values(['manhattan_%s' % c for c in ['a','v','p']])\n",
    "    return df.index[0]\n",
    "\n",
    "def move(particle):\n",
    "    particle[1] = list(np.array(particle[1])+np.array(particle[2]))\n",
    "    particle[0] = list(np.array(particle[0])+np.array(particle[1]))\n",
    "    return particle\n",
    "\n",
    "def get_dup(L):\n",
    "    L_sort = sorted(L)\n",
    "    L_argsort = sorted(range(len(L)), key=lambda k: L[k])\n",
    "    dups = []\n",
    "    dup_args = []\n",
    "    for i, element in enumerate(L_sort):\n",
    "        if element in dups:\n",
    "            dup_args.append(L_argsort[i])\n",
    "        else:\n",
    "            if i<(len(L)-1) and element==L_sort[i+1]:\n",
    "                dups.append(element)\n",
    "                dup_args.append(L_argsort[i])\n",
    "    return dup_args\n",
    "\n",
    "def get_collisions(all_vectors):\n",
    "    positions = list(map(lambda x : x[0], all_vectors))\n",
    "    return get_dup(positions)\n",
    "\n",
    "def remove(vectors):\n",
    "    collisions = get_collisions(vectors)\n",
    "    vectors = [vector for i, vector in enumerate(vectors) if i not in collisions]\n",
    "    return vectors\n",
    "\n",
    "def iterate(vectors):\n",
    "    return remove(list(map(move, vectors)))\n",
    "\n",
    "def day_20_2(inp, iterations=50):\n",
    "    all_vectors = remove(get_vectors(inp, numpy=False))\n",
    "    for i in range(iterations):\n",
    "        all_vectors = iterate(all_vectors)\n",
    "    return len(all_vectors)\n",
    "\n",
    "day_20 = lambda inp : (day_20_1(inp), day_20_2(inp))"
   ]
  },
  {
   "cell_type": "markdown",
   "metadata": {},
   "source": [
    "## Day 20 bis (direct computation)"
   ]
  },
  {
   "cell_type": "code",
   "execution_count": 65,
   "metadata": {
    "collapsed": true
   },
   "outputs": [],
   "source": [
    "def get_n(L):\n",
    "    a, b, c = L\n",
    "    if a==b and b==c:\n",
    "        return 'all'\n",
    "    if c==0:\n",
    "        return 0\n",
    "    if a==0:\n",
    "        if b==0:\n",
    "            return -np.inf\n",
    "        else:\n",
    "            if c%b==0:\n",
    "                return -c//b\n",
    "        return -np.inf\n",
    "    delta = b**2-4*a*c\n",
    "    if delta<0:\n",
    "        return -np.inf\n",
    "    if delta==0:\n",
    "        return -b//(2*a) if b%(2*a)==0 else -np.inf\n",
    "    return max((-b-np.sqrt(delta))/(2*a), (-b+np.sqrt(delta))/(2*a))"
   ]
  },
  {
   "cell_type": "code",
   "execution_count": 113,
   "metadata": {
    "collapsed": false
   },
   "outputs": [],
   "source": [
    "def will_colisate(arrays,i,j):\n",
    "    zero = np.zeros(3)\n",
    "    I = arrays[i]\n",
    "    J = arrays[j]\n",
    "    A = I[2]-J[2]\n",
    "    B = I[1]-J[1]\n",
    "    C = I[0]-J[0]\n",
    "    N = list(map(get_n, [[A[i], B[i], C[i]] for i in range(3)]))\n",
    "    if N==['all']*3:\n",
    "        return 0\n",
    "    Nint = [n for n in N if type(n)==np.int64]\n",
    "    if len(Nint)>0:\n",
    "        return Nint[0] if (Nint==Nint[0]).all() else -1\n",
    "    return -1\n"
   ]
  },
  {
   "cell_type": "code",
   "execution_count": 157,
   "metadata": {
    "collapsed": false
   },
   "outputs": [],
   "source": [
    "all_vectors = get_vectors(inp)\n",
    "M = -1*(np.ones((len(all_vectors), len(all_vectors))))\n",
    "for i in range(len(all_vectors)):\n",
    "    for j in range((i+1), len(all_vectors)):\n",
    "        M[i,j] = will_colisate(all_vectors, i,j)"
   ]
  },
  {
   "cell_type": "code",
   "execution_count": 159,
   "metadata": {
    "collapsed": false
   },
   "outputs": [],
   "source": [
    "i = 0\n",
    "out = set()\n",
    "while True:\n",
    "    Mtmp = M[M>i]\n",
    "    if len(Mtmp)==0:\n",
    "        break\n",
    "    i = Mtmp.min()\n",
    "    for k,p in np.argwhere(M==i):\n",
    "        if k not in out and p not in out:\n",
    "            out.add(k)\n",
    "            out.add(p)"
   ]
  },
  {
   "cell_type": "code",
   "execution_count": 160,
   "metadata": {
    "collapsed": false
   },
   "outputs": [
    {
     "data": {
      "text/plain": [
       "482"
      ]
     },
     "execution_count": 160,
     "metadata": {},
     "output_type": "execute_result"
    }
   ],
   "source": [
    "1000-len(out)"
   ]
  },
  {
   "cell_type": "code",
   "execution_count": null,
   "metadata": {
    "collapsed": true
   },
   "outputs": [],
   "source": []
  }
 ],
 "metadata": {
  "kernelspec": {
   "display_name": "Python 3",
   "language": "python",
   "name": "python3"
  },
  "language_info": {
   "codemirror_mode": {
    "name": "ipython",
    "version": 3
   },
   "file_extension": ".py",
   "mimetype": "text/x-python",
   "name": "python",
   "nbconvert_exporter": "python",
   "pygments_lexer": "ipython3",
   "version": "3.6.0"
  }
 },
 "nbformat": 4,
 "nbformat_minor": 2
}
