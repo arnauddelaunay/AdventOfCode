{
 "cells": [
  {
   "cell_type": "markdown",
   "metadata": {},
   "source": [
    "# AdventOfCode 2017\n",
    "\n",
    "#### Arnaud Delaunay"
   ]
  },
  {
   "cell_type": "markdown",
   "metadata": {},
   "source": [
    "## Utils"
   ]
  },
  {
   "cell_type": "code",
   "execution_count": 1,
   "metadata": {
    "collapsed": true
   },
   "outputs": [],
   "source": [
    "import sys\n",
    "sys.setrecursionlimit(100000)\n",
    "import numpy as np\n",
    "\n",
    "def get_inp(day, mode='np'):\n",
    "    if mode=='np':\n",
    "        try:\n",
    "            return np.loadtxt('inputs/day%s' % day)\n",
    "        except:\n",
    "            return open('inputs/day%s' % day).read()[:-1]\n",
    "    return open('inputs/day%s' % day).read()[:-1]\n",
    "        \n",
    "\n",
    "outputs = {}\n",
    "\n",
    "def reload_answers(day):\n",
    "    outputs[day]['answers'] = outputs[day]['func'](day)\n",
    "    return outputs[day]['answers']\n",
    "\n",
    "def add_day_func_to_dict(day_func, day, mode='np', callback=None):\n",
    "    inp = get_inp(day, mode=mode)\n",
    "    if callback:\n",
    "        inp = callback(inp)\n",
    "    f = lambda day : day_func(inp)\n",
    "    outputs[day] = {\n",
    "        'func' : f,\n",
    "        'answers' : f(day)\n",
    "    }\n",
    "    return outputs[day]['answers']"
   ]
  },
  {
   "cell_type": "markdown",
   "metadata": {},
   "source": [
    "# Day 1"
   ]
  },
  {
   "cell_type": "code",
   "execution_count": 62,
   "metadata": {
    "collapsed": true
   },
   "outputs": [],
   "source": [
    "def get_output(inp, i, add):\n",
    "    return int(inp[i]) if inp[i]==inp[np.mod(i+add,len(inp))] else 0\n",
    "\n",
    "def day_1(inp):\n",
    "    S1 = 0\n",
    "    S2 = 0\n",
    "    for i in range(len(inp)):\n",
    "        S1+=get_output(inp,i,1)\n",
    "        S2+=get_output(inp,i,len(inp)/2)\n",
    "    print S1,S2"
   ]
  },
  {
   "cell_type": "code",
   "execution_count": 63,
   "metadata": {
    "collapsed": false
   },
   "outputs": [
    {
     "name": "stdout",
     "output_type": "stream",
     "text": [
      "1119 1420\n"
     ]
    }
   ],
   "source": [
    "add_day_func_to_dict(day_1, '1', mode=0)"
   ]
  },
  {
   "cell_type": "markdown",
   "metadata": {},
   "source": [
    "# Day 2"
   ]
  },
  {
   "cell_type": "code",
   "execution_count": 64,
   "metadata": {
    "collapsed": false
   },
   "outputs": [],
   "source": [
    "def day_2_1(inp):\n",
    "    return int(np.array(map(lambda x : x.max() - x.min(), inp)).sum())\n",
    "\n",
    "def day_2_2(inp):\n",
    "    def get_div(row):\n",
    "        for i, e in enumerate(row):\n",
    "            for e2 in np.hstack((row[:i],row[i+1:])):\n",
    "                if e%e2==0:\n",
    "                    return e/e2\n",
    "    return int(np.array(map(get_div, inp)).sum())\n",
    "\n",
    "day_2 = lambda inp : (day_2_1(inp),day_2_2(inp))"
   ]
  },
  {
   "cell_type": "code",
   "execution_count": 65,
   "metadata": {
    "collapsed": false
   },
   "outputs": [
    {
     "data": {
      "text/plain": [
       "(45351, 275)"
      ]
     },
     "execution_count": 65,
     "metadata": {},
     "output_type": "execute_result"
    }
   ],
   "source": [
    "add_day_func_to_dict(day_2, '2', mode='np')"
   ]
  },
  {
   "cell_type": "markdown",
   "metadata": {},
   "source": [
    "# Day 3"
   ]
  },
  {
   "cell_type": "code",
   "execution_count": 74,
   "metadata": {
    "collapsed": false
   },
   "outputs": [
    {
     "data": {
      "text/plain": [
       "(371.0, 369601)"
      ]
     },
     "execution_count": 74,
     "metadata": {},
     "output_type": "execute_result"
    }
   ],
   "source": [
    "#DAY 3.1\n",
    "def get_path_to_1(inp):\n",
    "    k = int(np.sqrt(inp))\n",
    "    K = k/2 - (1-k%2)\n",
    "    I = k%2\n",
    "    p = inp-(k*k)\n",
    "    return abs(K-min(p-1, k))+abs(K+I-max(p-k-1,0))\n",
    "\n",
    "# %time get_path_to_1(inp)\n",
    "\n",
    "#DAY 3.2\n",
    "\n",
    "#USELESS FINALLY\n",
    "def get_coordinates(inp):\n",
    "    if inp == 1:\n",
    "        return 0,0\n",
    "    k = int(np.sqrt(inp))\n",
    "    K = k/2\n",
    "    p = inp-(k*k)\n",
    "    add = 1 if p==0 else 0 # if it's a square\n",
    "    I = (-1)**(k%2+1)*(K-min(p-1,k)-add)\n",
    "    J = (-1)**(k%2+1)*(K+k%2-max(p-k-1,0)-add)\n",
    "    return I, J\n",
    "\n",
    "def get_idx(I,J):\n",
    "    if (I,J) == (0,0):\n",
    "        return 1\n",
    "    sign = np.sign(J-I) if J!=I else -1 #we want sign(0)=-1\n",
    "    K = max(sign*J, -sign*I)-1\n",
    "    k = K*2+1-min(0,sign)\n",
    "    N = K +k**2+1\n",
    "    N += -sign*I - 1*(min(sign, 0)) if -sign*I<=sign*J else -sign*J + k + 1\n",
    "    return int(N)\n",
    "\n",
    "M = {}\n",
    "def compute_sum(I,J):\n",
    "    if I==0 and J==0:\n",
    "        return 1\n",
    "    if '%d,%d' % (I,J) in M:\n",
    "        return M['%d,%d' % (I,J)]\n",
    "    this_idx = get_idx(I,J)\n",
    "    S = 0\n",
    "    for i in range(-1,2):\n",
    "        for j in range(-1,2):\n",
    "            if get_idx(I+i,J+j)<this_idx:\n",
    "                if '%d,%d' % (I+i,J+j) not in M:\n",
    "                    M['%d,%d' % (I+i,J+j)] = compute_sum(I+i,J+j)\n",
    "                S+=M['%d,%d' % (I+i,J+j)]\n",
    "    return S\n",
    "\n",
    "def find_smallest_larger_than(X):\n",
    "    k = 0\n",
    "    while(True):\n",
    "        if compute_sum(k,k)>X:\n",
    "            sign=1\n",
    "            if compute_sum(-k,-k)<X:\n",
    "                sign = -1 \n",
    "            value = compute_sum(sign*(k-1),sign*k)\n",
    "            s = 2\n",
    "            while X>value:\n",
    "                value = compute_sum(sign*(k-min(s,2*k)),sign*(k-max(s-2*k,0)))\n",
    "                s+=1\n",
    "            return value\n",
    "        k += 1\n",
    "        \n",
    "# %time find_smallest_larger_than(10211726171726281982716820)\n",
    "\n",
    "day_3  = lambda inp : (get_path_to_1(inp), find_smallest_larger_than(inp))\n",
    "add_day_func_to_dict(day_3, '3', mode='np')"
   ]
  },
  {
   "cell_type": "markdown",
   "metadata": {
    "collapsed": true
   },
   "source": [
    "# DAY 4"
   ]
  },
  {
   "cell_type": "code",
   "execution_count": 81,
   "metadata": {
    "collapsed": false
   },
   "outputs": [],
   "source": [
    "def check_passphrase(paph):\n",
    "    L = paph.split(' ')\n",
    "    return len(L)==len(set(L))\n",
    "def day_4_1(inp):\n",
    "    return sum(map(check_passphrase,inp))\n",
    "\n",
    "#inp = get_inp('4').split('\\n')[:-1]\n",
    "#day_4_1(inp)\n",
    "\n",
    "def doublecheck_passphrase(paph):\n",
    "    L = map(lambda x : set(x), paph.split(' '))\n",
    "    unique = reduce(lambda l, x: l.append(x) or l if x not in l else l, L, [])\n",
    "    return len(unique)==len(L)\n",
    "\n",
    "def day_4_2(inp):\n",
    "    return sum(map(doublecheck_passphrase,inp))\n",
    "\n",
    "#inp = get_inp('4').split('\\n')[:-1]\n",
    "#day_4_2(inp)\n",
    "\n",
    "day_4 = lambda inp : (day_4_1(inp), day_4_2(inp))"
   ]
  },
  {
   "cell_type": "code",
   "execution_count": 82,
   "metadata": {
    "collapsed": false
   },
   "outputs": [
    {
     "data": {
      "text/plain": [
       "(386, 208)"
      ]
     },
     "execution_count": 82,
     "metadata": {},
     "output_type": "execute_result"
    }
   ],
   "source": [
    "add_day_func_to_dict(day_4, '4', mode=0, callback=lambda x : x.split('\\n'))"
   ]
  },
  {
   "cell_type": "markdown",
   "metadata": {},
   "source": [
    "# DAY 5"
   ]
  },
  {
   "cell_type": "code",
   "execution_count": 98,
   "metadata": {
    "collapsed": false
   },
   "outputs": [],
   "source": [
    "def get_number_of_steps(this_inp, change, change2_if_condition=1, condition=3):\n",
    "    inp = this_inp.copy()\n",
    "    cursor = 0\n",
    "    L = len(inp)\n",
    "    step = 0\n",
    "    while True:\n",
    "        prev = cursor\n",
    "        cursor += inp[cursor]\n",
    "        inp[prev] += change2_if_condition if inp[prev]>=condition else change\n",
    "        step +=1\n",
    "        if cursor >= L or cursor <0:\n",
    "            break\n",
    "    return step\n",
    "\n",
    "day_5 = lambda inp : (get_number_of_steps(inp, 1), get_number_of_steps(inp, 1, -1, 3))"
   ]
  },
  {
   "cell_type": "code",
   "execution_count": 99,
   "metadata": {
    "collapsed": false
   },
   "outputs": [
    {
     "name": "stderr",
     "output_type": "stream",
     "text": [
      "/usr/local/lib/python2.7/dist-packages/ipykernel/__main__.py:8: VisibleDeprecationWarning: using a non-integer number instead of an integer will result in an error in the future\n",
      "/usr/local/lib/python2.7/dist-packages/ipykernel/__main__.py:9: VisibleDeprecationWarning: using a non-integer number instead of an integer will result in an error in the future\n"
     ]
    },
    {
     "data": {
      "text/plain": [
       "(396086, 28675390)"
      ]
     },
     "execution_count": 99,
     "metadata": {},
     "output_type": "execute_result"
    }
   ],
   "source": [
    "add_day_func_to_dict(day_5, '5')"
   ]
  },
  {
   "cell_type": "markdown",
   "metadata": {
    "collapsed": true
   },
   "source": [
    "# DAY 6"
   ]
  },
  {
   "cell_type": "code",
   "execution_count": 19,
   "metadata": {
    "collapsed": false
   },
   "outputs": [],
   "source": [
    "import multiprocessing\n",
    "from functools import partial\n",
    "\n",
    "def day_6(inp):\n",
    "    L=len(inp)\n",
    "    states =[] \n",
    "\n",
    "    def choose_bank(inp):\n",
    "        return inp.argmax()\n",
    "\n",
    "    def get_spread(idxn_b, iv):\n",
    "        i, v = iv\n",
    "        idx, n_b = idxn_b\n",
    "        # print i, v, idx, n_b\n",
    "        if i == idx:\n",
    "            v = 0\n",
    "        S=v+n_b/L\n",
    "        if np.mod((i-idx)-1, L)<(n_b%L):\n",
    "            S+=1\n",
    "        return S\n",
    "\n",
    "    def spread_blocks(idx, inp):\n",
    "        n_b = inp[idx] \n",
    "        #pool = multiprocessing.Pool()\n",
    "        #inp = pool.map(partial(get_spread, (idx,n_b)), enumerate(inp))\n",
    "        inp = map(partial(get_spread, (idx,n_b)), enumerate(inp))\n",
    "        return np.array(inp) \n",
    "\n",
    "    step = 0\n",
    "    while True:\n",
    "        idx = choose_bank(inp) \n",
    "        inp = spread_blocks(idx, inp)\n",
    "        hashinp = hash(inp.tostring())\n",
    "        step += 1\n",
    "        if hashinp in states:\n",
    "            break\n",
    "        states.append(hashinp)\n",
    "\n",
    "    return (step, len(states)-states.index(hashinp))"
   ]
  },
  {
   "cell_type": "code",
   "execution_count": 20,
   "metadata": {
    "collapsed": false
   },
   "outputs": [
    {
     "data": {
      "text/plain": [
       "(12841, 8038)"
      ]
     },
     "execution_count": 20,
     "metadata": {},
     "output_type": "execute_result"
    }
   ],
   "source": [
    "add_day_func_to_dict(day_6, '6', mode='np', callback=lambda x : x.astype(int))"
   ]
  },
  {
   "cell_type": "markdown",
   "metadata": {
    "collapsed": true
   },
   "source": [
    "# DAY 7"
   ]
  },
  {
   "cell_type": "code",
   "execution_count": 14,
   "metadata": {
    "collapsed": false
   },
   "outputs": [],
   "source": [
    "def get_root(inp):\n",
    "    inp = map(lambda x : x.split(' '), inp)\n",
    "    leafs = dict([(l[0], {'w' : int(l[1].replace('(','').replace(')',''))}) for l in inp if '->' not in l])\n",
    "    roots = dict([\n",
    "        (l[0], {\n",
    "                'w' : int(l[1].replace('(','').replace(')','')),\n",
    "                'sons' : map(lambda x : x.replace(',',''), l[l.index('->')+1:])\n",
    "               }) for l in inp if '->' in l])\n",
    "    leafs_of_roots = [leaf for word in roots for leaf in roots[word]['sons']]\n",
    "    for root in roots:\n",
    "        if root not in leafs_of_roots:\n",
    "            return root, roots, leafs\n",
    "\n",
    "answer_7_1 = lambda inp : get_root(inp)[0]\n",
    "\n",
    "def get_weights_of_sons(word, leafs, roots):\n",
    "    if word in leafs:\n",
    "        return leafs[word]['w']\n",
    "    else:\n",
    "        return np.sum([get_weights_of_sons(w, leafs, roots) for w in roots[word]['sons']]) + roots[word]['w']\n",
    "\n",
    "def get_unbalanced_son(word, leafs, roots):\n",
    "    if word in leafs:\n",
    "        return None, None, None\n",
    "    L = [get_weights_of_sons(w, leafs, roots) for w in roots[word]['sons']]\n",
    "    value = len(set(L))==1\n",
    "    if value:\n",
    "        return None, None, None\n",
    "    else:\n",
    "        for i, l in enumerate(L):\n",
    "            if L.count(l)==1:\n",
    "                return roots[word]['sons'][i], l, L[np.mod((i+1),len(L))]\n",
    "\n",
    "def answer_7_2(inp):\n",
    "    word, roots, leafs = get_root(inp)\n",
    "    should_be = 0\n",
    "    v = 0\n",
    "    while word is not None:\n",
    "        prev_word, diff = (word, v-should_be)\n",
    "        word, should_be, v = get_unbalanced_son(word, leafs, roots)\n",
    "    #print \"Bad value is %d, should be %d (weight of word %s)\" % (roots[prev_word]['w'], roots[prev_word]['w'] + diff, prev_word)\n",
    "    return roots[prev_word]['w'] + diff\n",
    "\n",
    "day_7 = lambda inp : (answer_7_1(inp), answer_7_2(inp))"
   ]
  },
  {
   "cell_type": "code",
   "execution_count": 15,
   "metadata": {
    "collapsed": false
   },
   "outputs": [
    {
     "name": "stdout",
     "output_type": "stream",
     "text": [
      "Bad value is 428, should be 420 (weight of word drjmjug)\n"
     ]
    },
    {
     "data": {
      "text/plain": [
       "('eugwuhl', 420)"
      ]
     },
     "execution_count": 15,
     "metadata": {},
     "output_type": "execute_result"
    }
   ],
   "source": [
    "add_day_func_to_dict(day_7, '7', mode=0, callback=lambda x : x.split('\\n'))"
   ]
  },
  {
   "cell_type": "markdown",
   "metadata": {},
   "source": [
    "# DAY 8"
   ]
  },
  {
   "cell_type": "code",
   "execution_count": 21,
   "metadata": {
    "collapsed": false
   },
   "outputs": [],
   "source": [
    "import operator\n",
    "import numpy as np\n",
    "\n",
    "def day_8(inp):\n",
    "    ACTIONS = {'inc' : 1, 'dec' : -1}\n",
    "    CONDITIONS = {\"==\" : lambda x,y : x==y,\n",
    "                  \"!=\" : lambda x,y : x!=y,\n",
    "                  \"<=\" : lambda x,y : x<=y,\n",
    "                  \">=\" : lambda x,y : x>=y,\n",
    "                  \">\" : lambda x,y : x>y,\n",
    "                  \"<\" : lambda x,y : x<y\n",
    "                 }\n",
    "    variables = {'max_value' : -np.inf}\n",
    "    \n",
    "    def code_parser(line):\n",
    "        \"\"\"\n",
    "        <inp_variable> <action> <var_value> if <cond_variable> <condition> <cond_value>\n",
    "        \"\"\"\n",
    "        inp_variable, action, var_value, _, cond_variable, condition, cond_value = line.split()\n",
    "        variables[inp_variable] = 0 if inp_variable not in variables else variables[inp_variable]\n",
    "        variables[cond_variable] = 0 if cond_variable not in variables else variables[cond_variable]\n",
    "        if CONDITIONS[condition](variables[cond_variable], int(cond_value)):\n",
    "            variables[inp_variable] = variables[inp_variable] + ACTIONS[action]*int(var_value)\n",
    "            variables['max_value'] = max(variables['max_value'], variables[inp_variable])\n",
    "\n",
    "    map(code_parser, inp)\n",
    "    max_value = variables['max_value']\n",
    "    del variables['max_value']\n",
    "    return(max(variables.itervalues()), max_value)"
   ]
  },
  {
   "cell_type": "code",
   "execution_count": 22,
   "metadata": {
    "collapsed": false
   },
   "outputs": [
    {
     "data": {
      "text/plain": [
       "(4567, 5636)"
      ]
     },
     "execution_count": 22,
     "metadata": {},
     "output_type": "execute_result"
    }
   ],
   "source": [
    "add_day_func_to_dict(day_8, '8', mode=0, callback=lambda x : x.split('\\n'))"
   ]
  },
  {
   "cell_type": "markdown",
   "metadata": {},
   "source": [
    "# DAY 9"
   ]
  },
  {
   "cell_type": "code",
   "execution_count": 26,
   "metadata": {
    "collapsed": true
   },
   "outputs": [],
   "source": [
    "import re\n",
    "def remove_char(inp):\n",
    "    return re.sub('!.{1}', '', inp)\n",
    "\n",
    "def remove_garbage(inp):\n",
    "    return re.sub('<.*?>', '', inp)\n",
    "\n",
    "def count_in_garbage(inp):\n",
    "    myre = re.compile(r'<.*?>')\n",
    "    return np.sum(len(x) for x in map(lambda x : x[1:-1], myre.findall(inp)))\n",
    "\n",
    "def get_subgroups(inp):\n",
    "    return inp[1:-1].split(',')\n",
    "\n",
    "def parenthetic_contents(string):\n",
    "    stack = []\n",
    "    for i, c in enumerate(string):\n",
    "        if c == '{':\n",
    "            stack.append(i)\n",
    "        elif c == '}' and stack:\n",
    "            start = stack.pop()\n",
    "            yield (len(stack), string[start + 1: i])\n",
    "            \n",
    "day_9_1 = lambda inp : np.sum([depth+1 for depth, val in parenthetic_contents(remove_garbage(remove_char(inp)))])\n",
    "day_9_2 = lambda inp : count_in_garbage(remove_char(inp))\n",
    "\n",
    "day_9 = lambda inp : (day_9_1(inp), day_9_2(inp))"
   ]
  },
  {
   "cell_type": "code",
   "execution_count": 27,
   "metadata": {
    "collapsed": false
   },
   "outputs": [
    {
     "data": {
      "text/plain": [
       "(14204, 6622)"
      ]
     },
     "execution_count": 27,
     "metadata": {},
     "output_type": "execute_result"
    }
   ],
   "source": [
    "add_day_func_to_dict(day_9, '9', mode=0)"
   ]
  },
  {
   "cell_type": "markdown",
   "metadata": {
    "collapsed": true
   },
   "source": [
    "# DAY 10"
   ]
  },
  {
   "cell_type": "code",
   "execution_count": 35,
   "metadata": {
    "collapsed": false
   },
   "outputs": [],
   "source": [
    "# DAY 10.1\n",
    "def modify_list(L, current_position, length, skip_size):\n",
    "    N = (current_position+length)\n",
    "    number_of_first_elements = max(0,N-len(L))\n",
    "    sub_list = L[current_position:N] + L[:number_of_first_elements]\n",
    "    sub_list.reverse()\n",
    "    L[current_position:N] = sub_list[:(length-number_of_first_elements)]\n",
    "    L[:number_of_first_elements] = sub_list[length-number_of_first_elements:]\n",
    "    return L, np.mod((current_position+length+skip_size),len(L)), skip_size+1\n",
    "\n",
    "def day_10_1(inp):\n",
    "    L = range(256)\n",
    "    current_position = 0\n",
    "    skip_size = 0\n",
    "    for length in inp:\n",
    "        L, current_position, skip_size = modify_list(L, current_position, length, skip_size)\n",
    "    return L[0]*L[1]"
   ]
  },
  {
   "cell_type": "code",
   "execution_count": 38,
   "metadata": {
    "collapsed": false
   },
   "outputs": [],
   "source": [
    "inp = get_inp('10')[:-1]\n",
    "\n",
    "def to_ascii(string):\n",
    "    return [ord(c) for c in string]\n",
    "\n",
    "def get_lengths(string):\n",
    "    return to_ascii(string)+[17, 31, 73, 47, 23]\n",
    "\n",
    "def get_sparse_hash(string):\n",
    "    L = range(256)\n",
    "    current_position = 0\n",
    "    skip_size = 0\n",
    "    lengths = get_lengths(string)\n",
    "    for length in lengths*64:\n",
    "        L, current_position, skip_size = modify_list(L, current_position, length, skip_size)\n",
    "    return L\n",
    "\n",
    "def perform_xor(list_of_nums):\n",
    "    S = 0\n",
    "    for x in list_of_nums:\n",
    "        S ^= x\n",
    "    return S\n",
    "\n",
    "def to_dense(sparse):\n",
    "    return ''.join(\n",
    "        map(\n",
    "            lambda x : hex(x)[2:] if len(hex(x)[2:])==2 else '0%s' % hex(x)[2:],\n",
    "            map(\n",
    "                lambda sixteens : perform_xor(sixteens),\n",
    "                [sparse[16*i:16*(i+1)] for i in range(16)]\n",
    "            )\n",
    "        ))\n",
    "\n",
    "def day_10_2(inp):\n",
    "    inp = ','.join(map(str,inp))\n",
    "    return to_dense(get_sparse_hash(inp))\n",
    "\n",
    "day_10 = lambda inp : (day_10_1(inp), day_10_2(inp))"
   ]
  },
  {
   "cell_type": "code",
   "execution_count": 39,
   "metadata": {
    "collapsed": false
   },
   "outputs": [
    {
     "data": {
      "text/plain": [
       "(1935, 'dc7e7dee710d4c7201ce42713e6b8359')"
      ]
     },
     "execution_count": 39,
     "metadata": {},
     "output_type": "execute_result"
    }
   ],
   "source": [
    "add_day_func_to_dict(day_10, '10', mode=0, callback=lambda x : map(int, x.split(',')))"
   ]
  },
  {
   "cell_type": "markdown",
   "metadata": {},
   "source": [
    "# DAY 11"
   ]
  },
  {
   "cell_type": "code",
   "execution_count": 40,
   "metadata": {
    "collapsed": false
   },
   "outputs": [],
   "source": [
    "def day_11(inp):\n",
    "    moves = {\n",
    "        's' : (2,0),\n",
    "        'n' : (-2,0),\n",
    "        'se' : (1, 1),\n",
    "        'ne' : (-1,1),\n",
    "        'sw' : (1,-1),\n",
    "        'nw' : (-1,-1)\n",
    "    }\n",
    "\n",
    "    def add(pos, move):\n",
    "        return (pos[0]+move[0], pos[1]+ move[1])\n",
    "\n",
    "    def diff(pos, start):\n",
    "        return (pos[0]-start[0], pos[1]-start[1])\n",
    "\n",
    "    def compute_steps(pos):\n",
    "        if abs(pos[1])>abs(pos[0]):\n",
    "            s = abs(pos[1])\n",
    "        else:\n",
    "            s = abs(pos[1])+(abs(pos[0])-abs(pos[1]))/2\n",
    "        return s\n",
    "\n",
    "    pos = (0,0)\n",
    "    steps = []\n",
    "    poss = []\n",
    "    for move in inp:\n",
    "        pos = add(pos, moves[move])\n",
    "        poss.append(pos)\n",
    "        steps.append(compute_steps(pos))\n",
    "    return (steps[-1], max(steps))"
   ]
  },
  {
   "cell_type": "code",
   "execution_count": 41,
   "metadata": {
    "collapsed": false
   },
   "outputs": [
    {
     "data": {
      "text/plain": [
       "(664, 1447)"
      ]
     },
     "execution_count": 41,
     "metadata": {},
     "output_type": "execute_result"
    }
   ],
   "source": [
    "add_day_func_to_dict(day_11, '11', mode=0, callback=lambda x : x.split(','))"
   ]
  },
  {
   "cell_type": "markdown",
   "metadata": {},
   "source": [
    "# DAY 12"
   ]
  },
  {
   "cell_type": "code",
   "execution_count": 42,
   "metadata": {
    "collapsed": false
   },
   "outputs": [],
   "source": [
    "def parser(line, neighbors):\n",
    "    idx, neighs = line.split(' <-> ')\n",
    "    idx = int(idx)\n",
    "    neighs = map(int, neighs.split(','))\n",
    "    if idx not in neighbors:\n",
    "        neighbors[idx] = set()\n",
    "    map(lambda n : neighbors[idx].add(n), neighs)\n",
    "    return neighs, neighbors\n",
    "\n",
    "def get_all_neighs_of_idx(inp, idx, neighbors):\n",
    "    all_neighs = set([idx])\n",
    "    direct_neighs, neighbors = parser(inp[idx], neighbors)\n",
    "    map(lambda n : all_neighs.add(n), direct_neighs)\n",
    "    for new_id in direct_neighs:\n",
    "        if new_id not in neighbors:\n",
    "            this_neighs, neighbors = get_all_neighs_of_idx(inp, new_id, neighbors)\n",
    "            map(lambda n : all_neighs.add(n), this_neighs)\n",
    "    return all_neighs, neighbors\n",
    "\n",
    "def get_all_groups(inp):\n",
    "    neighbors = {}\n",
    "    groups = []\n",
    "    ids_in_groups = set()\n",
    "    for idx in range(len(inp)):\n",
    "        if idx not in ids_in_groups:\n",
    "            new_group, neighbors = get_all_neighs_of_idx(inp, idx, neighbors)\n",
    "            ids_in_groups = ids_in_groups.union(new_group)\n",
    "            groups.append(new_group)\n",
    "    return groups\n",
    "\n",
    "\"\"\" TESTS\n",
    "test = [\"0 <-> 2\", \"1 <-> 1\",\"2 <-> 0, 3, 4\",\"3 <-> 2, 4\",\"4 <-> 2, 3, 6\",\"5 <-> 6\",\"6 <-> 4, 5\"]group_test, _ = get_all_neighs_of_idx(test, 0, {})\n",
    "groups = get_all_groups(test)\n",
    "groups\n",
    "\"\"\"\n",
    "\n",
    "def day_12(inp):\n",
    "    group_real, _ = get_all_neighs_of_idx(inp, 0, {})\n",
    "    groups = get_all_groups(inp)\n",
    "    return (len(group_real), len(groups))"
   ]
  },
  {
   "cell_type": "code",
   "execution_count": 43,
   "metadata": {
    "collapsed": false
   },
   "outputs": [
    {
     "data": {
      "text/plain": [
       "(130, 189)"
      ]
     },
     "execution_count": 43,
     "metadata": {},
     "output_type": "execute_result"
    }
   ],
   "source": [
    "add_day_func_to_dict(day_12, '12', mode=0, callback=lambda x : x.split('\\n'))"
   ]
  },
  {
   "cell_type": "markdown",
   "metadata": {
    "collapsed": true
   },
   "source": [
    "# Day 13"
   ]
  },
  {
   "cell_type": "code",
   "execution_count": 103,
   "metadata": {
    "collapsed": false
   },
   "outputs": [],
   "source": [
    "def get_pos_of_scanner(rang, t):\n",
    "    rest = np.mod(t,2*rang-2)\n",
    "    return rest if rest<rang else np.mod(-rest+rang-1,rang-1)\n",
    "    \n",
    "def get_layers(inp):\n",
    "    return map(lambda l : (int(l.split(': ')[0]), int(l.split(': ')[1])), inp)\n",
    "    \n",
    "def is_caught_on_layer(layer, delay=0):\n",
    "    return (True, layer[0]*layer[1]) if get_pos_of_scanner(layer[1], layer[0]+delay)==0 else (False, 0)\n",
    "\n",
    "def day_13_1(inp, delay=0):\n",
    "    layers = get_layers(inp)\n",
    "    return np.sum(map(lambda layer : is_caught_on_layer(layer, delay=delay)[1], layers))\n",
    "\n",
    "def day_13_2(inp):\n",
    "    layers = get_layers(inp)\n",
    "    delay = 1\n",
    "    while True:\n",
    "        caught = False\n",
    "        for layer in layers:\n",
    "            caught = is_caught_on_layer(layer, delay=delay)[0]\n",
    "            if caught:\n",
    "                break\n",
    "        if not caught:\n",
    "            return delay\n",
    "        delay+=1\n",
    "\n",
    "day_13 = lambda inp : (day_10_1(inp), day_10_2(inp))"
   ]
  },
  {
   "cell_type": "code",
   "execution_count": 105,
   "metadata": {
    "collapsed": false
   },
   "outputs": [
    {
     "data": {
      "text/plain": [
       "(1900, 3966414)"
      ]
     },
     "execution_count": 105,
     "metadata": {},
     "output_type": "execute_result"
    }
   ],
   "source": [
    "add_day_func_to_dict(day_13, '13', mode=0, callback=lambda x : x.split('\\n')[:-1])"
   ]
  },
  {
   "cell_type": "code",
   "execution_count": null,
   "metadata": {
    "collapsed": true
   },
   "outputs": [],
   "source": []
  }
 ],
 "metadata": {
  "kernelspec": {
   "display_name": "Python 2",
   "language": "python",
   "name": "python2"
  },
  "language_info": {
   "codemirror_mode": {
    "name": "ipython",
    "version": 2
   },
   "file_extension": ".py",
   "mimetype": "text/x-python",
   "name": "python",
   "nbconvert_exporter": "python",
   "pygments_lexer": "ipython2",
   "version": "2.7.6"
  }
 },
 "nbformat": 4,
 "nbformat_minor": 2
}
