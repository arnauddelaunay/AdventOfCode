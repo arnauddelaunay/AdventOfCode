{
 "cells": [
  {
   "cell_type": "code",
   "execution_count": 80,
   "metadata": {
    "collapsed": true
   },
   "outputs": [],
   "source": [
    "import sys\n",
    "sys.setrecursionlimit(100000)\n",
    "import numpy as np\n",
    "\n",
    "def get_inp(day, mode='np'):\n",
    "    if mode=='np':\n",
    "        try:\n",
    "            return np.loadtxt('inputs/day%s' % day)\n",
    "        except:\n",
    "            return open('inputs/day%s' % day).read()[:-1]\n",
    "    return open('inputs/day%s' % day).read()[:-1]\n",
    "        \n",
    "\n",
    "outputs = {}\n",
    "\n",
    "def reload_answers(day):\n",
    "    outputs[day]['answers'] = outputs[day]['func'](day)\n",
    "    return outputs[day]['answers']\n",
    "\n",
    "def add_day_func_to_dict(day_func, day, mode='np', callback=None):\n",
    "    inp = get_inp(day, mode=mode)\n",
    "    if callback:\n",
    "        inp = callback(inp)\n",
    "    f = lambda day : day_func(inp)\n",
    "    outputs[day] = {\n",
    "        'func' : f,\n",
    "        'answers' : f(day)\n",
    "    }\n",
    "    return outputs[day]['answers']"
   ]
  },
  {
   "cell_type": "markdown",
   "metadata": {},
   "source": [
    "# Day 1"
   ]
  },
  {
   "cell_type": "code",
   "execution_count": 62,
   "metadata": {
    "collapsed": true
   },
   "outputs": [],
   "source": [
    "def get_output(inp, i, add):\n",
    "    return int(inp[i]) if inp[i]==inp[np.mod(i+add,len(inp))] else 0\n",
    "\n",
    "def day_1(inp):\n",
    "    S1 = 0\n",
    "    S2 = 0\n",
    "    for i in range(len(inp)):\n",
    "        S1+=get_output(inp,i,1)\n",
    "        S2+=get_output(inp,i,len(inp)/2)\n",
    "    print S1,S2"
   ]
  },
  {
   "cell_type": "code",
   "execution_count": 63,
   "metadata": {
    "collapsed": false
   },
   "outputs": [
    {
     "name": "stdout",
     "output_type": "stream",
     "text": [
      "1119 1420\n"
     ]
    }
   ],
   "source": [
    "add_day_func_to_dict(day_1, '1', mode=0)"
   ]
  },
  {
   "cell_type": "markdown",
   "metadata": {},
   "source": [
    "# Day 2"
   ]
  },
  {
   "cell_type": "code",
   "execution_count": 64,
   "metadata": {
    "collapsed": false
   },
   "outputs": [],
   "source": [
    "def day_2_1(inp):\n",
    "    return int(np.array(map(lambda x : x.max() - x.min(), inp)).sum())\n",
    "\n",
    "def day_2_2(inp):\n",
    "    def get_div(row):\n",
    "        for i, e in enumerate(row):\n",
    "            for e2 in np.hstack((row[:i],row[i+1:])):\n",
    "                if e%e2==0:\n",
    "                    return e/e2\n",
    "    return int(np.array(map(get_div, inp)).sum())\n",
    "\n",
    "day_2 = lambda inp : (day_2_1(inp),day_2_2(inp))"
   ]
  },
  {
   "cell_type": "code",
   "execution_count": 65,
   "metadata": {
    "collapsed": false
   },
   "outputs": [
    {
     "data": {
      "text/plain": [
       "(45351, 275)"
      ]
     },
     "execution_count": 65,
     "metadata": {},
     "output_type": "execute_result"
    }
   ],
   "source": [
    "add_day_func_to_dict(day_2, '2', mode='np')"
   ]
  },
  {
   "cell_type": "markdown",
   "metadata": {},
   "source": [
    "# Day 3"
   ]
  },
  {
   "cell_type": "code",
   "execution_count": 74,
   "metadata": {
    "collapsed": false
   },
   "outputs": [
    {
     "data": {
      "text/plain": [
       "(371.0, 369601)"
      ]
     },
     "execution_count": 74,
     "metadata": {},
     "output_type": "execute_result"
    }
   ],
   "source": [
    "#DAY 3.1\n",
    "def get_path_to_1(inp):\n",
    "    k = int(np.sqrt(inp))\n",
    "    K = k/2 - (1-k%2)\n",
    "    I = k%2\n",
    "    p = inp-(k*k)\n",
    "    return abs(K-min(p-1, k))+abs(K+I-max(p-k-1,0))\n",
    "\n",
    "# %time get_path_to_1(inp)\n",
    "\n",
    "#DAY 3.2\n",
    "\n",
    "#USELESS FINALLY\n",
    "def get_coordinates(inp):\n",
    "    if inp == 1:\n",
    "        return 0,0\n",
    "    k = int(np.sqrt(inp))\n",
    "    K = k/2\n",
    "    p = inp-(k*k)\n",
    "    add = 1 if p==0 else 0 # if it's a square\n",
    "    I = (-1)**(k%2+1)*(K-min(p-1,k)-add)\n",
    "    J = (-1)**(k%2+1)*(K+k%2-max(p-k-1,0)-add)\n",
    "    return I, J\n",
    "\n",
    "def get_idx(I,J):\n",
    "    if (I,J) == (0,0):\n",
    "        return 1\n",
    "    sign = np.sign(J-I) if J!=I else -1 #we want sign(0)=-1\n",
    "    K = max(sign*J, -sign*I)-1\n",
    "    k = K*2+1-min(0,sign)\n",
    "    N = K +k**2+1\n",
    "    N += -sign*I - 1*(min(sign, 0)) if -sign*I<=sign*J else -sign*J + k + 1\n",
    "    return int(N)\n",
    "\n",
    "M = {}\n",
    "def compute_sum(I,J):\n",
    "    if I==0 and J==0:\n",
    "        return 1\n",
    "    if '%d,%d' % (I,J) in M:\n",
    "        return M['%d,%d' % (I,J)]\n",
    "    this_idx = get_idx(I,J)\n",
    "    S = 0\n",
    "    for i in range(-1,2):\n",
    "        for j in range(-1,2):\n",
    "            if get_idx(I+i,J+j)<this_idx:\n",
    "                if '%d,%d' % (I+i,J+j) not in M:\n",
    "                    M['%d,%d' % (I+i,J+j)] = compute_sum(I+i,J+j)\n",
    "                S+=M['%d,%d' % (I+i,J+j)]\n",
    "    return S\n",
    "\n",
    "def find_smallest_larger_than(X):\n",
    "    k = 0\n",
    "    while(True):\n",
    "        if compute_sum(k,k)>X:\n",
    "            sign=1\n",
    "            if compute_sum(-k,-k)<X:\n",
    "                sign = -1 \n",
    "            value = compute_sum(sign*(k-1),sign*k)\n",
    "            s = 2\n",
    "            while X>value:\n",
    "                value = compute_sum(sign*(k-min(s,2*k)),sign*(k-max(s-2*k,0)))\n",
    "                s+=1\n",
    "            return value\n",
    "        k += 1\n",
    "        \n",
    "# %time find_smallest_larger_than(10211726171726281982716820)\n",
    "\n",
    "day_3  = lambda inp : (get_path_to_1(inp), find_smallest_larger_than(inp))\n",
    "add_day_func_to_dict(day_3, '3', mode='np')"
   ]
  },
  {
   "cell_type": "markdown",
   "metadata": {
    "collapsed": true
   },
   "source": [
    "# DAY 4"
   ]
  },
  {
   "cell_type": "code",
   "execution_count": 81,
   "metadata": {
    "collapsed": false
   },
   "outputs": [],
   "source": [
    "def check_passphrase(paph):\n",
    "    L = paph.split(' ')\n",
    "    return len(L)==len(set(L))\n",
    "def day_4_1(inp):\n",
    "    return sum(map(check_passphrase,inp))\n",
    "\n",
    "#inp = get_inp('4').split('\\n')[:-1]\n",
    "#day_4_1(inp)\n",
    "\n",
    "def doublecheck_passphrase(paph):\n",
    "    L = map(lambda x : set(x), paph.split(' '))\n",
    "    unique = reduce(lambda l, x: l.append(x) or l if x not in l else l, L, [])\n",
    "    return len(unique)==len(L)\n",
    "\n",
    "def day_4_2(inp):\n",
    "    return sum(map(doublecheck_passphrase,inp))\n",
    "\n",
    "#inp = get_inp('4').split('\\n')[:-1]\n",
    "#day_4_2(inp)\n",
    "\n",
    "day_4 = lambda inp : (day_4_1(inp), day_4_2(inp))"
   ]
  },
  {
   "cell_type": "code",
   "execution_count": 82,
   "metadata": {
    "collapsed": false
   },
   "outputs": [
    {
     "data": {
      "text/plain": [
       "(386, 208)"
      ]
     },
     "execution_count": 82,
     "metadata": {},
     "output_type": "execute_result"
    }
   ],
   "source": [
    "add_day_func_to_dict(day_4, '4', mode=0, callback=lambda x : x.split('\\n'))"
   ]
  },
  {
   "cell_type": "markdown",
   "metadata": {},
   "source": [
    "# DAY 5"
   ]
  },
  {
   "cell_type": "code",
   "execution_count": 98,
   "metadata": {
    "collapsed": false
   },
   "outputs": [],
   "source": [
    "def get_number_of_steps(this_inp, change, change2_if_condition=1, condition=3):\n",
    "    inp = this_inp.copy()\n",
    "    cursor = 0\n",
    "    L = len(inp)\n",
    "    step = 0\n",
    "    while True:\n",
    "        prev = cursor\n",
    "        cursor += inp[cursor]\n",
    "        inp[prev] += change2_if_condition if inp[prev]>=condition else change\n",
    "        step +=1\n",
    "        if cursor >= L or cursor <0:\n",
    "            break\n",
    "    return step\n",
    "\n",
    "day_5 = lambda inp : (get_number_of_steps(inp, 1), get_number_of_steps(inp, 1, -1, 3))"
   ]
  },
  {
   "cell_type": "code",
   "execution_count": null,
   "metadata": {
    "collapsed": false
   },
   "outputs": [],
   "source": [
    "add_day_func_to_dict(day_5, '5')"
   ]
  },
  {
   "cell_type": "markdown",
   "metadata": {
    "collapsed": true
   },
   "source": [
    "# 6.1"
   ]
  },
  {
   "cell_type": "code",
   "execution_count": 10,
   "metadata": {
    "collapsed": false
   },
   "outputs": [
    {
     "name": "stdout",
     "output_type": "stream",
     "text": [
      "8038\n"
     ]
    }
   ],
   "source": [
    "import numpy as np\n",
    "\n",
    "import multiprocessing\n",
    "from functools import partial\n",
    "\n",
    "inp = get_inp('6.1').astype(int)\n",
    "L=len(inp)\n",
    "states =[] \n",
    "def choose_bank(inp):\n",
    "    return inp.argmax()\n",
    "\n",
    "def get_spread(idxn_b, iv):\n",
    "    i, v = iv\n",
    "    idx, n_b = idxn_b\n",
    "    # print i, v, idx, n_b\n",
    "    if i == idx:\n",
    "        v = 0\n",
    "    S=v+n_b/L\n",
    "    if np.mod((i-idx)-1, L)<(n_b%L):\n",
    "        S+=1\n",
    "    return S\n",
    "\n",
    "def spread_blocks(idx, inp):\n",
    "    n_b = inp[idx] \n",
    "    #pool = multiprocessing.Pool()\n",
    "    #inp = pool.map(partial(get_spread, (idx,n_b)), enumerate(inp))\n",
    "    inp = map(partial(get_spread, (idx,n_b)), enumerate(inp))\n",
    "    return np.array(inp) \n",
    "\n",
    "step = 0\n",
    "while True:\n",
    "    idx = choose_bank(inp) \n",
    "    inp = spread_blocks(idx, inp)\n",
    "    hashinp = hash(inp.tostring())\n",
    "    step += 1\n",
    "    if hashinp in states:\n",
    "        break\n",
    "    states.append(hashinp)\n",
    "\n",
    "# 6.1\n",
    "#print step\n",
    "\n",
    "# 6.2\n",
    "print len(states)-states.index(hashinp)"
   ]
  },
  {
   "cell_type": "markdown",
   "metadata": {
    "collapsed": true
   },
   "source": [
    "# 7.1"
   ]
  },
  {
   "cell_type": "code",
   "execution_count": 27,
   "metadata": {
    "collapsed": false
   },
   "outputs": [],
   "source": [
    "inp = get_inp('7.1').split('\\n')[:-1]"
   ]
  },
  {
   "cell_type": "code",
   "execution_count": 30,
   "metadata": {
    "collapsed": false
   },
   "outputs": [
    {
     "name": "stdout",
     "output_type": "stream",
     "text": [
      "eugwuhl\n"
     ]
    }
   ],
   "source": [
    "def get_root(inp):\n",
    "    inp = map(lambda x : x.split(' '), inp)\n",
    "    leafs = dict([(l[0], {'w' : int(l[1].replace('(','').replace(')',''))}) for l in inp if '->' not in l])\n",
    "    roots = dict([\n",
    "        (l[0], {\n",
    "                'w' : int(l[1].replace('(','').replace(')','')),\n",
    "                'sons' : map(lambda x : x.replace(',',''), l[l.index('->')+1:])\n",
    "               }) for l in inp if '->' in l])\n",
    "    leafs_of_roots = [leaf for word in roots for leaf in roots[word]['sons']]\n",
    "    for root in roots:\n",
    "        if root not in leafs_of_roots:\n",
    "            return root, roots, leafs\n",
    "\n",
    "r, roots, leafs = get_root(inp)\n",
    "print r"
   ]
  },
  {
   "cell_type": "markdown",
   "metadata": {},
   "source": [
    "# 7.2"
   ]
  },
  {
   "cell_type": "code",
   "execution_count": 31,
   "metadata": {
    "collapsed": false
   },
   "outputs": [],
   "source": [
    "def get_weights_of_sons(word):\n",
    "    if word in leafs:\n",
    "        return leafs[word]['w']\n",
    "    else:\n",
    "        return np.sum([get_weights_of_sons(w) for w in roots[word]['sons']]) + roots[word]['w']"
   ]
  },
  {
   "cell_type": "code",
   "execution_count": 53,
   "metadata": {
    "collapsed": true
   },
   "outputs": [],
   "source": [
    "def get_unbalanced_son(word):\n",
    "    if word in leafs:\n",
    "        return None, None, None\n",
    "    L = [get_weights_of_sons(w) for w in roots[word]['sons']]\n",
    "    value = len(set(L))==1\n",
    "    if value:\n",
    "        return None, None, None\n",
    "    else:\n",
    "        for i, l in enumerate(L):\n",
    "            if L.count(l)==1:\n",
    "                return roots[word]['sons'][i], l, L[np.mod((i+1),len(L))]"
   ]
  },
  {
   "cell_type": "code",
   "execution_count": 57,
   "metadata": {
    "collapsed": false
   },
   "outputs": [
    {
     "name": "stdout",
     "output_type": "stream",
     "text": [
      "Bad value is 428, should be 420 (weight of word drjmjug)\n"
     ]
    }
   ],
   "source": [
    "word = r\n",
    "should_be = 0\n",
    "v = 0\n",
    "while word is not None:\n",
    "    prev_word, diff = (word, v-should_be)\n",
    "    word, should_be, v = get_unbalanced_son(word)\n",
    "print \"Bad value is %d, should be %d (weight of word %s)\" % (roots[prev_word]['w'], roots[prev_word]['w'] + diff, prev_word)"
   ]
  },
  {
   "cell_type": "markdown",
   "metadata": {},
   "source": [
    "# 8.1"
   ]
  },
  {
   "cell_type": "code",
   "execution_count": 23,
   "metadata": {
    "collapsed": false
   },
   "outputs": [
    {
     "name": "stdout",
     "output_type": "stream",
     "text": [
      "Answer to 8.1 :  4567\n",
      "Answer to 8.2 :  5636\n"
     ]
    }
   ],
   "source": [
    "import operator\n",
    "import numpy as np\n",
    "\n",
    "ACTIONS = {'inc' : 1, 'dec' : -1}\n",
    "CONDITIONS = {\"==\" : lambda x,y : x==y,\n",
    "              \"!=\" : lambda x,y : x!=y,\n",
    "              \"<=\" : lambda x,y : x<=y,\n",
    "              \">=\" : lambda x,y : x>=y,\n",
    "              \">\" : lambda x,y : x>y,\n",
    "              \"<\" : lambda x,y : x<y\n",
    "             }\n",
    "variables = {'max_value' : -np.inf}\n",
    "def code_parser(line):\n",
    "    \"\"\"\n",
    "    <inp_variable> <action> <var_value> if <cond_variable> <condition> <cond_value>\n",
    "    \"\"\"\n",
    "    inp_variable, action, var_value, _, cond_variable, condition, cond_value = line.split()\n",
    "    variables[inp_variable] = 0 if inp_variable not in variables else variables[inp_variable]\n",
    "    variables[cond_variable] = 0 if cond_variable not in variables else variables[cond_variable]\n",
    "    if CONDITIONS[condition](variables[cond_variable], int(cond_value)):\n",
    "        variables[inp_variable] = variables[inp_variable] + ACTIONS[action]*int(var_value)\n",
    "        variables['max_value'] = max(variables['max_value'], variables[inp_variable])\n",
    "        \n",
    "inp = get_inp('8.1').split('\\n')[:-1]\n",
    "map(code_parser, inp)\n",
    "max_value = variables['max_value']\n",
    "del variables['max_value']\n",
    "print \"Answer to 8.1 : \", max(variables.itervalues())\n",
    "print \"Answer to 8.2 : \", max_value"
   ]
  },
  {
   "cell_type": "markdown",
   "metadata": {},
   "source": [
    "# 9.1"
   ]
  },
  {
   "cell_type": "code",
   "execution_count": 37,
   "metadata": {
    "collapsed": false
   },
   "outputs": [],
   "source": [
    "inp = get_inp('9.1')[:-1]"
   ]
  },
  {
   "cell_type": "code",
   "execution_count": 72,
   "metadata": {
    "collapsed": true
   },
   "outputs": [],
   "source": [
    "import re\n",
    "def remove_char(inp):\n",
    "    return re.sub('!.{1}', '', inp)\n",
    "\n",
    "def remove_garbage(inp):\n",
    "    return re.sub('<.*?>', '', inp)\n",
    "\n",
    "def count_in_garbage(inp):\n",
    "    myre = re.compile(r'<.*?>')\n",
    "    return np.sum(len(x) for x in map(lambda x : x[1:-1], myre.findall(inp)))\n",
    "\n",
    "def get_subgroups(inp):\n",
    "    return inp[1:-1].split(',')\n",
    "\n",
    "def parenthetic_contents(string):\n",
    "    \"\"\"Generate parenthesized contents in string as pairs (level, contents).\"\"\"\n",
    "    stack = []\n",
    "    for i, c in enumerate(string):\n",
    "        if c == '{':\n",
    "            stack.append(i)\n",
    "        elif c == '}' and stack:\n",
    "            start = stack.pop()\n",
    "            yield (len(stack), string[start + 1: i])"
   ]
  },
  {
   "cell_type": "code",
   "execution_count": 58,
   "metadata": {
    "collapsed": false
   },
   "outputs": [
    {
     "name": "stdout",
     "output_type": "stream",
     "text": [
      "9.1 :  14204\n"
     ]
    }
   ],
   "source": [
    "print \"9.1 : \", np.sum([depth+1 for depth, val in parenthetic_contents(remove_garbage(remove_char(inp)))])np.sum([depth+1 for depth, val in parenthetic_contents(remove_garbage(remove_char(inp)))])"
   ]
  },
  {
   "cell_type": "code",
   "execution_count": 73,
   "metadata": {
    "collapsed": false
   },
   "outputs": [
    {
     "name": "stdout",
     "output_type": "stream",
     "text": [
      "9.2 :  6622\n"
     ]
    }
   ],
   "source": [
    "print \"9.2 : \", count_in_garbage(remove_char(inp))"
   ]
  },
  {
   "cell_type": "markdown",
   "metadata": {
    "collapsed": true
   },
   "source": [
    "# DAY 10"
   ]
  },
  {
   "cell_type": "code",
   "execution_count": 25,
   "metadata": {
    "collapsed": false
   },
   "outputs": [
    {
     "name": "stdout",
     "output_type": "stream",
     "text": [
      "Answer to day 10 : 1935\n"
     ]
    }
   ],
   "source": [
    "lengths = map(int, get_inp('10')[:-1].split(','))\n",
    "L = range(256)\n",
    "\n",
    "# DAY 10.1\n",
    "\n",
    "def modify_list(L, current_position, length, skip_size):\n",
    "    N = (current_position+length)\n",
    "    number_of_first_elements = max(0,N-len(L))\n",
    "    sub_list = L[current_position:N] + L[:number_of_first_elements]\n",
    "    sub_list.reverse()\n",
    "    L[current_position:N] = sub_list[:(length-number_of_first_elements)]\n",
    "    L[:number_of_first_elements] = sub_list[length-number_of_first_elements:]\n",
    "    return L, np.mod((current_position+length+skip_size),len(L)), skip_size+1\n",
    "\n",
    "current_position = 0\n",
    "skip_size = 0\n",
    "for length in lengths:\n",
    "    L, current_position, skip_size = modify_list(L, current_position, length, skip_size)\n",
    "print('Answer to day 10 : %d' % (L[0]*L[1]))"
   ]
  },
  {
   "cell_type": "code",
   "execution_count": 21,
   "metadata": {
    "collapsed": false
   },
   "outputs": [
    {
     "ename": "NameError",
     "evalue": "global name 'modify_list' is not defined",
     "output_type": "error",
     "traceback": [
      "\u001b[1;31m---------------------------------------------------------------------------\u001b[0m",
      "\u001b[1;31mNameError\u001b[0m                                 Traceback (most recent call last)",
      "\u001b[1;32m<ipython-input-21-abfeef3f7977>\u001b[0m in \u001b[0;36m<module>\u001b[1;34m()\u001b[0m\n\u001b[0;32m     33\u001b[0m \u001b[1;33m\u001b[0m\u001b[0m\n\u001b[0;32m     34\u001b[0m \u001b[1;33m\u001b[0m\u001b[0m\n\u001b[1;32m---> 35\u001b[1;33m \u001b[0mhache\u001b[0m \u001b[1;33m=\u001b[0m \u001b[0mto_dense\u001b[0m\u001b[1;33m(\u001b[0m\u001b[0mget_sparse_hash\u001b[0m\u001b[1;33m(\u001b[0m\u001b[0minp\u001b[0m\u001b[1;33m)\u001b[0m\u001b[1;33m)\u001b[0m\u001b[1;33m\u001b[0m\u001b[0m\n\u001b[0m\u001b[0;32m     36\u001b[0m \u001b[0mhache\u001b[0m\u001b[1;33m\u001b[0m\u001b[0m\n",
      "\u001b[1;32m<ipython-input-21-abfeef3f7977>\u001b[0m in \u001b[0;36mget_sparse_hash\u001b[1;34m(string)\u001b[0m\n\u001b[0;32m     13\u001b[0m     \u001b[0mlengths\u001b[0m \u001b[1;33m=\u001b[0m \u001b[0mget_lengths\u001b[0m\u001b[1;33m(\u001b[0m\u001b[0mstring\u001b[0m\u001b[1;33m)\u001b[0m\u001b[1;33m\u001b[0m\u001b[0m\n\u001b[0;32m     14\u001b[0m     \u001b[1;32mfor\u001b[0m \u001b[0mlength\u001b[0m \u001b[1;32min\u001b[0m \u001b[0mlengths\u001b[0m\u001b[1;33m*\u001b[0m\u001b[1;36m64\u001b[0m\u001b[1;33m:\u001b[0m\u001b[1;33m\u001b[0m\u001b[0m\n\u001b[1;32m---> 15\u001b[1;33m         \u001b[0mL\u001b[0m\u001b[1;33m,\u001b[0m \u001b[0mcurrent_position\u001b[0m\u001b[1;33m,\u001b[0m \u001b[0mskip_size\u001b[0m \u001b[1;33m=\u001b[0m \u001b[0mmodify_list\u001b[0m\u001b[1;33m(\u001b[0m\u001b[0mL\u001b[0m\u001b[1;33m,\u001b[0m \u001b[0mcurrent_position\u001b[0m\u001b[1;33m,\u001b[0m \u001b[0mlength\u001b[0m\u001b[1;33m,\u001b[0m \u001b[0mskip_size\u001b[0m\u001b[1;33m)\u001b[0m\u001b[1;33m\u001b[0m\u001b[0m\n\u001b[0m\u001b[0;32m     16\u001b[0m     \u001b[1;32mreturn\u001b[0m \u001b[0mL\u001b[0m\u001b[1;33m\u001b[0m\u001b[0m\n\u001b[0;32m     17\u001b[0m \u001b[1;33m\u001b[0m\u001b[0m\n",
      "\u001b[1;31mNameError\u001b[0m: global name 'modify_list' is not defined"
     ]
    }
   ],
   "source": [
    "inp = get_inp('10')[:-1]\n",
    "\n",
    "def to_ascii(string):\n",
    "    return [ord(c) for c in string]\n",
    "\n",
    "def get_lengths(string):\n",
    "    return to_ascii(string)+[17, 31, 73, 47, 23]\n",
    "\n",
    "def get_sparse_hash(string):\n",
    "    L = range(256)\n",
    "    current_position = 0\n",
    "    skip_size = 0\n",
    "    lengths = get_lengths(string)\n",
    "    for length in lengths*64:\n",
    "        L, current_position, skip_size = modify_list(L, current_position, length, skip_size)\n",
    "    return L\n",
    "\n",
    "def perform_xor(list_of_nums):\n",
    "    S = 0\n",
    "    for x in list_of_nums:\n",
    "        S ^= x\n",
    "    return S\n",
    "\n",
    "def to_dense(sparse):\n",
    "    return ''.join(\n",
    "        map(\n",
    "            lambda x : hex(x)[2:] if len(hex(x)[2:])==2 else '0%s' % hex(x)[2:],\n",
    "            map(\n",
    "                lambda sixteens : perform_xor(sixteens),\n",
    "                [sparse[16*i:16*(i+1)] for i in range(16)]\n",
    "            )\n",
    "        ))\n",
    "\n",
    "\n",
    "hache = to_dense(get_sparse_hash(inp))\n",
    "hache"
   ]
  },
  {
   "cell_type": "markdown",
   "metadata": {},
   "source": [
    "# 11"
   ]
  },
  {
   "cell_type": "code",
   "execution_count": 19,
   "metadata": {
    "collapsed": false
   },
   "outputs": [
    {
     "name": "stdout",
     "output_type": "stream",
     "text": [
      "Answer to 11.1 : 664\n",
      "Answer to 11.2 : 1447 \n"
     ]
    }
   ],
   "source": [
    "inp = get_inp('11')[:-1].split(',')\n",
    "\n",
    "start = (0,0)\n",
    "moves = {\n",
    "    's' : (2,0),\n",
    "    'n' : (-2,0),\n",
    "    'se' : (1, 1),\n",
    "    'ne' : (-1,1),\n",
    "    'sw' : (1,-1),\n",
    "    'nw' : (-1,-1)\n",
    "}\n",
    "\n",
    "def add(pos, move):\n",
    "    return (pos[0]+move[0], pos[1]+ move[1])\n",
    "\n",
    "def diff(pos, start):\n",
    "    return (pos[0]-start[0], pos[1]-start[1])\n",
    "\n",
    "def compute_steps(pos):\n",
    "    if abs(pos[1])>abs(pos[0]):\n",
    "        s = abs(pos[1])\n",
    "    else:\n",
    "        s = abs(pos[1])+(abs(pos[0])-abs(pos[1]))/2\n",
    "    return s\n",
    "\n",
    "pos = start\n",
    "steps = []\n",
    "poss = []\n",
    "for move in inp:\n",
    "    pos = add(pos, moves[move])\n",
    "    poss.append(pos)\n",
    "    steps.append(compute_steps(pos))\n",
    "    \n",
    "print('Answer to 11.1 : %d' % steps[-1])\n",
    "print('Answer to 11.2 : %d ' % max(steps))"
   ]
  },
  {
   "cell_type": "markdown",
   "metadata": {},
   "source": [
    "# 12.1"
   ]
  },
  {
   "cell_type": "code",
   "execution_count": 18,
   "metadata": {
    "collapsed": false
   },
   "outputs": [
    {
     "name": "stdout",
     "output_type": "stream",
     "text": [
      "Answer to 12.1 : 130\n",
      "Answer to 12.2 : 189\n"
     ]
    }
   ],
   "source": [
    "inp = get_inp('12')[:-1].split('\\n')\n",
    "\n",
    "neighbors = {}\n",
    "\n",
    "def parser(line, neighbors):\n",
    "    idx, neighs = line.split(' <-> ')\n",
    "    idx = int(idx)\n",
    "    neighs = map(int, neighs.split(','))\n",
    "    if idx not in neighbors:\n",
    "        neighbors[idx] = set()\n",
    "    map(lambda n : neighbors[idx].add(n), neighs)\n",
    "    return neighs, neighbors\n",
    "\n",
    "def get_all_neighs_of_idx(inp, idx, neighbors):\n",
    "    all_neighs = set([idx])\n",
    "    direct_neighs, neighbors = parser(inp[idx], neighbors)\n",
    "    map(lambda n : all_neighs.add(n), direct_neighs)\n",
    "    for new_id in direct_neighs:\n",
    "        if new_id not in neighbors:\n",
    "            this_neighs, neighbors = get_all_neighs_of_idx(inp, new_id, neighbors)\n",
    "            map(lambda n : all_neighs.add(n), this_neighs)\n",
    "    return all_neighs, neighbors\n",
    "\n",
    "def get_all_groups(inp):\n",
    "    neighbors = {}\n",
    "    groups = []\n",
    "    ids_in_groups = set()\n",
    "    for idx in range(len(inp)):\n",
    "        if idx not in ids_in_groups:\n",
    "            new_group, neighbors = get_all_neighs_of_idx(inp, idx, neighbors)\n",
    "            ids_in_groups = ids_in_groups.union(new_group)\n",
    "            groups.append(new_group)\n",
    "    return groups\n",
    "\n",
    "\"\"\" TESTS\n",
    "test = [\"0 <-> 2\", \"1 <-> 1\",\"2 <-> 0, 3, 4\",\"3 <-> 2, 4\",\"4 <-> 2, 3, 6\",\"5 <-> 6\",\"6 <-> 4, 5\"]group_test, _ = get_all_neighs_of_idx(test, 0, {})\n",
    "groups = get_all_groups(test)\n",
    "groups\n",
    "\"\"\"\n",
    "\n",
    "group_real, _ = get_all_neighs_of_idx(inp, 0, {})\n",
    "print('Answer to 12.1 : %d' % len(group_real))\n",
    "\n",
    "groups = get_all_groups(inp)\n",
    "print('Answer to 12.2 : %d' % len(groups))"
   ]
  },
  {
   "cell_type": "code",
   "execution_count": null,
   "metadata": {
    "collapsed": true
   },
   "outputs": [],
   "source": []
  }
 ],
 "metadata": {
  "kernelspec": {
   "display_name": "Python 2",
   "language": "python",
   "name": "python2"
  },
  "language_info": {
   "codemirror_mode": {
    "name": "ipython",
    "version": 2
   },
   "file_extension": ".py",
   "mimetype": "text/x-python",
   "name": "python",
   "nbconvert_exporter": "python",
   "pygments_lexer": "ipython2",
   "version": "2.7.6"
  }
 },
 "nbformat": 4,
 "nbformat_minor": 2
}
