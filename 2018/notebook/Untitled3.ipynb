{
 "cells": [
  {
   "cell_type": "code",
   "execution_count": 2,
   "metadata": {},
   "outputs": [],
   "source": [
    "import pandas as pd\n",
    "import datetime\n",
    "import numpy as np\n",
    "import re\n",
    "import sys\n",
    "\n",
    "sys.path.append(\"..\")\n",
    "from aoc18.utils import read_input\n"
   ]
  },
  {
   "cell_type": "markdown",
   "metadata": {},
   "source": [
    "# Day 13"
   ]
  },
  {
   "cell_type": "code",
   "execution_count": 88,
   "metadata": {},
   "outputs": [],
   "source": [
    "inp = read_input(13, root_path=\"..\")\n",
    "inp_test = read_input(13, root_path=\"..\", test=True)"
   ]
  },
  {
   "cell_type": "code",
   "execution_count": 78,
   "metadata": {},
   "outputs": [],
   "source": [
    "straight = np.array([\n",
    "    [1, 0],\n",
    "    [0, 1]])\n",
    "\n",
    "left = np.array([\n",
    "    [ 0, 1],\n",
    "    [-1, 0]])\n",
    "\n",
    "right = np.array([\n",
    "    [0, -1],\n",
    "    [1,  0]])\n",
    "\n",
    "anti_slash = np.array([\n",
    "    [0, 1],\n",
    "    [1, 0]])\n",
    "\n",
    "slash = np.array([\n",
    "   [ 0, -1],\n",
    "   [-1,  0]])\n",
    "\n",
    "def build_action(move_array):\n",
    "    return np.vstack([\n",
    "        np.hstack([np.identity(2), np.zeros((2,2))]),\n",
    "        np.hstack([move_array]*2)\n",
    "    ])\n",
    "\n",
    "milestone_mapping = {\n",
    "    \"-\": build_action(straight),\n",
    "    \"|\": build_action(straight),\n",
    "    \"\\\\\": build_action(anti_slash),\n",
    "    \"/\": build_action(slash),\n",
    "    \">\": build_action(straight),\n",
    "    \"<\": build_action(straight),\n",
    "    \"^\": build_action(straight),\n",
    "    \"v\": build_action(straight),\n",
    "    \"+\": \"intersection\"\n",
    "}\n",
    "\n",
    "carts_mapping = {\n",
    "    \">\": np.array([ 0,  1]),\n",
    "    \"<\": np.array([ 0, -1]),\n",
    "    \"v\": np.array([ 1,  0]),\n",
    "    \"^\": np.array([-1,  0])\n",
    "}\n",
    "\n",
    "intersections = [build_action(left), build_action(straight), build_action(right)]\n",
    "\n",
    "\n",
    "class Milestone:\n",
    "    \n",
    "    def __init__(self, string):\n",
    "        self.string = string\n",
    "        self.action = self.get_action(string)\n",
    "        \n",
    "    def get_action(self, car):\n",
    "        return milestone_mapping[car]\n",
    "    \n",
    "    def __str__(self):\n",
    "        return self.string\n",
    "    \n",
    "    def __repr__(self):\n",
    "        return \"Milestone(%s)\" % self.string"
   ]
  },
  {
   "cell_type": "code",
   "execution_count": 134,
   "metadata": {},
   "outputs": [],
   "source": [
    "def get_collisions(carts_map):\n",
    "    collisions = []\n",
    "    for i in range(len(carts_map) - 1):\n",
    "        for j in range(i + 1, len(carts_map)):\n",
    "            if np.array_equal(carts_map[i][\"cart\"][:2], carts_map[j][\"cart\"][:2]):\n",
    "                collisions.append((i,j))\n",
    "    return collisions\n",
    "\n",
    "def check_collision(carts_map):\n",
    "    return len(get_collisions(carts_map))>0\n",
    "\n",
    "def sort_carts(carts_map):\n",
    "    return sorted(carts_map.items(), key=lambda kv: (kv[1][\"cart\"][0], kv[1][\"cart\"][1]))"
   ]
  },
  {
   "cell_type": "code",
   "execution_count": 135,
   "metadata": {},
   "outputs": [],
   "source": [
    "def get_initial_state(inp):\n",
    "    this_map = list(map(lambda i: list(map(lambda i: \" \", range(len(inp[0][:-1])))), range(len(inp))))\n",
    "    carts_map = {}\n",
    "    cart_id = 0\n",
    "    carts_order = []\n",
    "    for x, line in enumerate(inp):\n",
    "        for y, car in enumerate(line[:-1]):\n",
    "            if car != \" \":\n",
    "                this_map[x][y] = Milestone(car)\n",
    "            if car in carts_mapping:\n",
    "                carts_map[cart_id] = {\n",
    "                    \"cart\": np.hstack([np.array([x, y]), carts_mapping[car]]),\n",
    "                    \"status\": 0\n",
    "                }\n",
    "                carts_order.append(cart_id)\n",
    "                cart_id += 1\n",
    "    return this_map, carts_map, carts_order"
   ]
  },
  {
   "cell_type": "code",
   "execution_count": 137,
   "metadata": {},
   "outputs": [],
   "source": [
    "def run_one_step(this_map, carts_map, carts_order):\n",
    "    for cart_id, cart in sort_carts(carts_map):\n",
    "        milestone = this_map[cart[\"cart\"][0]][cart[\"cart\"][1]]\n",
    "        if milestone.string == \"+\":\n",
    "            action = intersections[np.mod(cart[\"status\"], 3)]\n",
    "            carts_map[cart_id][\"status\"] += 1\n",
    "        else:\n",
    "            action = milestone.action\n",
    "        carts_map[cart_id][\"cart\"] = cart[\"cart\"].dot(action).astype(int)\n",
    "    return this_map, carts_map, carts_order"
   ]
  },
  {
   "cell_type": "code",
   "execution_count": 138,
   "metadata": {},
   "outputs": [],
   "source": [
    "def run1(inp):\n",
    "    this_map, carts_map, carts_order = get_initial_state(inp)\n",
    "    iteration = 0\n",
    "    while True:\n",
    "        this_map, carts_map, carts_order = run_one_step(this_map, carts_map, carts_order)\n",
    "        iteration += 1\n",
    "        collisions = get_collisions(carts_map)\n",
    "        if len(collisions) > 0:\n",
    "            break\n",
    "    cart_id_1, cart_id_2 = collisions[0]\n",
    "    print(\"Collision after %d iterations! Cart %d and %d crashed at point (%d, %d)\" % (\n",
    "        iteration,\n",
    "        cart_id_1,\n",
    "        cart_id_2,\n",
    "        carts_map[cart_id_1][\"cart\"][1],\n",
    "        carts_map[cart_id_1][\"cart\"][0]\n",
    "        )\n",
    "    )\n",
    "    return (carts_map[cart_id_1][\"cart\"][1], carts_map[cart_id_1][\"cart\"][0])\n",
    "        \n"
   ]
  },
  {
   "cell_type": "code",
   "execution_count": 140,
   "metadata": {},
   "outputs": [
    {
     "name": "stdout",
     "output_type": "stream",
     "text": [
      "Collision after 174 iterations! Cart 11 and 16 crashed at point (64, 86)\n"
     ]
    },
    {
     "data": {
      "text/plain": [
       "(64, 86)"
      ]
     },
     "execution_count": 140,
     "metadata": {},
     "output_type": "execute_result"
    }
   ],
   "source": [
    "run1(inp)"
   ]
  },
  {
   "cell_type": "code",
   "execution_count": 141,
   "metadata": {},
   "outputs": [
    {
     "data": {
      "text/plain": [
       "{0: {'cart': array([  3, 105,   0,  -1]), 'status': 0},\n",
       " 1: {'cart': array([ 22, 105,   0,   1]), 'status': 0},\n",
       " 2: {'cart': array([40, 90,  0, -1]), 'status': 0},\n",
       " 3: {'cart': array([42, 27, -1,  0]), 'status': 0},\n",
       " 4: {'cart': array([ 46, 130,   0,  -1]), 'status': 0},\n",
       " 5: {'cart': array([67, 82,  0,  1]), 'status': 0},\n",
       " 6: {'cart': array([67, 98,  0,  1]), 'status': 0},\n",
       " 7: {'cart': array([71, 66,  1,  0]), 'status': 0},\n",
       " 8: {'cart': array([ 92, 136,   1,   0]), 'status': 0},\n",
       " 9: {'cart': array([ 94, 132,   1,   0]), 'status': 0},\n",
       " 10: {'cart': array([99, 26,  1,  0]), 'status': 0},\n",
       " 11: {'cart': array([100,  94,  -1,   0]), 'status': 0},\n",
       " 12: {'cart': array([104,  67,   0,   1]), 'status': 0},\n",
       " 13: {'cart': array([105,  81,  -1,   0]), 'status': 0},\n",
       " 14: {'cart': array([105, 130,   0,  -1]), 'status': 0},\n",
       " 15: {'cart': array([125, 103,   0,   1]), 'status': 0},\n",
       " 16: {'cart': array([140, 124,   0,  -1]), 'status': 0}}"
      ]
     },
     "execution_count": 141,
     "metadata": {},
     "output_type": "execute_result"
    }
   ],
   "source": [
    "\n",
    "carts_map"
   ]
  },
  {
   "cell_type": "code",
   "execution_count": 143,
   "metadata": {},
   "outputs": [
    {
     "data": {
      "text/plain": [
       "{'-10': '^', '0-1': '<', '01': '>', '10': 'v'}"
      ]
     },
     "execution_count": 143,
     "metadata": {},
     "output_type": "execute_result"
    }
   ],
   "source": [
    "dict([(\"\".join(map(str,v)),k) for k,v in carts_mapping.items()])"
   ]
  },
  {
   "cell_type": "code",
   "execution_count": 144,
   "metadata": {},
   "outputs": [
    {
     "data": {
      "text/plain": [
       "'                           /-------------------------------------------------------------------------------------------------\\\\                        \\n'"
      ]
     },
     "execution_count": 144,
     "metadata": {},
     "output_type": "execute_result"
    }
   ],
   "source": [
    "inp[0]"
   ]
  },
  {
   "cell_type": "code",
   "execution_count": 147,
   "metadata": {},
   "outputs": [
    {
     "data": {
      "text/plain": [
       "'+'"
      ]
     },
     "execution_count": 147,
     "metadata": {},
     "output_type": "execute_result"
    }
   ],
   "source": [
    "inp[86][64]"
   ]
  },
  {
   "cell_type": "code",
   "execution_count": 148,
   "metadata": {},
   "outputs": [
    {
     "data": {
      "text/plain": [
       "'|'"
      ]
     },
     "execution_count": 148,
     "metadata": {},
     "output_type": "execute_result"
    }
   ],
   "source": [
    "inp[85][64]"
   ]
  },
  {
   "cell_type": "code",
   "execution_count": 149,
   "metadata": {},
   "outputs": [
    {
     "data": {
      "text/plain": [
       "'-'"
      ]
     },
     "execution_count": 149,
     "metadata": {},
     "output_type": "execute_result"
    }
   ],
   "source": [
    "inp[86][65]"
   ]
  },
  {
   "cell_type": "code",
   "execution_count": 150,
   "metadata": {},
   "outputs": [
    {
     "data": {
      "text/plain": [
       "'|'"
      ]
     },
     "execution_count": 150,
     "metadata": {},
     "output_type": "execute_result"
    }
   ],
   "source": [
    "inp[8][136]"
   ]
  },
  {
   "cell_type": "code",
   "execution_count": null,
   "metadata": {},
   "outputs": [],
   "source": []
  }
 ],
 "metadata": {
  "kernelspec": {
   "display_name": "anaconda3-4.3.0",
   "language": "python",
   "name": "anaconda3-4.3.0"
  },
  "language_info": {
   "codemirror_mode": {
    "name": "ipython",
    "version": 3
   },
   "file_extension": ".py",
   "mimetype": "text/x-python",
   "name": "python",
   "nbconvert_exporter": "python",
   "pygments_lexer": "ipython3",
   "version": "3.6.0"
  }
 },
 "nbformat": 4,
 "nbformat_minor": 2
}
