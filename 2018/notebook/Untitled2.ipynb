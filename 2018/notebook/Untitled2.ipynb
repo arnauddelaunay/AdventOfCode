{
 "cells": [
  {
   "cell_type": "code",
   "execution_count": 1,
   "metadata": {},
   "outputs": [],
   "source": [
    "import pandas as pd\n",
    "import datetime\n",
    "import numpy as np\n",
    "import re\n",
    "import sys\n",
    "\n",
    "sys.path.append(\"..\")\n",
    "from aoc18.utils import read_input\n",
    "inp = read_input(10, root_path=\"..\")\n",
    "inp_test = read_input(10, test=True, root_path=\"..\")"
   ]
  },
  {
   "cell_type": "markdown",
   "metadata": {},
   "source": [
    "# Day 10"
   ]
  },
  {
   "cell_type": "code",
   "execution_count": 21,
   "metadata": {},
   "outputs": [
    {
     "name": "stdout",
     "output_type": "stream",
     "text": [
      "-9 1 0 2\n"
     ]
    }
   ],
   "source": [
    "pattern = re.compile(r'=\\<(.*),(.*)\\> .*=\\<(.*),(.*)\\>')\n",
    "li = pattern.findall('position=< -9,  1> velocity=< 0,  2>\\n')[0]\n",
    "points = "
   ]
  },
  {
   "cell_type": "code",
   "execution_count": 72,
   "metadata": {},
   "outputs": [],
   "source": [
    "class Light:\n",
    "    \n",
    "    def __init__(self, x_0, y_0, v_x, v_y):\n",
    "        self.position = np.array([x_0, y_0])\n",
    "        self.speed = np.array([v_x, v_y])\n",
    "        \n",
    "    def get_position(self, seconds=0):\n",
    "        return self.position + seconds * self.speed\n",
    "    \n",
    "\n",
    "\n",
    "class Sky:\n",
    "    \n",
    "    def __init__(self, lights=[]):\n",
    "        self.lights = lights\n",
    "    \n",
    "    def add_point(self, point):\n",
    "        self.lights.append(point)\n",
    "        \n",
    "    def get_boundaries(self, seconds=0):\n",
    "        xs, ys = zip(*map(lambda light: light.get_position(seconds) , self.lights))\n",
    "        return min(xs), min(ys), max(xs), max(ys)\n",
    "        \n",
    "    def show(self, seconds=0):\n",
    "        min_x, min_y, max_x, max_y = self.get_boundaries(seconds)\n",
    "        sky = np.zeros((max_y - min_y+1, max_x-min_x+1))\n",
    "        for light in self.lights:\n",
    "            pos_x, pos_y = light.get_position(seconds)\n",
    "            sky[pos_y-min_y, pos_x-min_x] = 1\n",
    "        for line in sky:\n",
    "            print(\"\".join(map(lambda x: \".\" if x==0 else \"#\", line)))    \n",
    "    "
   ]
  },
  {
   "cell_type": "code",
   "execution_count": 73,
   "metadata": {},
   "outputs": [],
   "source": [
    "lights_test = map(lambda line: Light(*map(int, pattern.findall(line)[0])), inp_test)\n",
    "sky_test = Sky(list(lights_test))\n",
    "\n",
    "lights = map(lambda line: Light(*map(int, pattern.findall(line)[0])), inp)\n",
    "sky = Sky(list(lights))"
   ]
  },
  {
   "cell_type": "code",
   "execution_count": 84,
   "metadata": {},
   "outputs": [],
   "source": [
    "def run_1(inp):\n",
    "    mx, my, Mx, My = sky.get_boundaries(0)\n",
    "    widths = [Mx-mx]\n",
    "    heights = [My-my]\n",
    "    second = 1\n",
    "    while True:\n",
    "        mx, my, Mx, My = sky.get_boundaries(second)\n",
    "        width = Mx - mx\n",
    "        height = My - my\n",
    "        widths.append(width)\n",
    "        heights.append(height)\n",
    "        if width > widths[-2] or height > heights[-2]:\n",
    "            break\n",
    "        second+=1\n",
    "    second = second-1\n",
    "    print(\"ANSWER 1 : \")\n",
    "    sky.show(second)\n",
    "    print(\"ANSWER 2 : \")\n",
    "    print(\"Message will be shown after %d seconds\" % second)"
   ]
  },
  {
   "cell_type": "code",
   "execution_count": 85,
   "metadata": {},
   "outputs": [
    {
     "name": "stdout",
     "output_type": "stream",
     "text": [
      "ANSWER 1 : \n",
      "#....#..#####...#....#..######..######..#....#...####......###\n",
      "##...#..#....#..#....#..#............#..#....#..#....#......#.\n",
      "##...#..#....#..#....#..#............#..#....#..#...........#.\n",
      "#.#..#..#....#..#....#..#...........#...#....#..#...........#.\n",
      "#.#..#..#####...######..#####......#....######..#...........#.\n",
      "#..#.#..#....#..#....#..#.........#.....#....#..#...........#.\n",
      "#..#.#..#....#..#....#..#........#......#....#..#...........#.\n",
      "#...##..#....#..#....#..#.......#.......#....#..#.......#...#.\n",
      "#...##..#....#..#....#..#.......#.......#....#..#....#..#...#.\n",
      "#....#..#####...#....#..######..######..#....#...####....###..\n",
      "ANSWER 2 : \n",
      "Message will be shown after 10558 seconds\n"
     ]
    }
   ],
   "source": [
    "run_1(inp)"
   ]
  },
  {
   "cell_type": "code",
   "execution_count": 78,
   "metadata": {},
   "outputs": [
    {
     "data": {
      "text/plain": [
       "10558"
      ]
     },
     "execution_count": 78,
     "metadata": {},
     "output_type": "execute_result"
    }
   ],
   "source": [
    "second-1"
   ]
  },
  {
   "cell_type": "markdown",
   "metadata": {},
   "source": [
    "# Day 11"
   ]
  },
  {
   "cell_type": "code",
   "execution_count": 35,
   "metadata": {},
   "outputs": [],
   "source": [
    "import itertools\n",
    "import time"
   ]
  },
  {
   "cell_type": "code",
   "execution_count": 20,
   "metadata": {},
   "outputs": [],
   "source": [
    "inp = 2568\n",
    "inp_test = 18\n",
    "\n",
    "def fuel_level(x, y, inp=inp):\n",
    "    rack_id = x + 10\n",
    "    return (((rack_id * y + inp) * rack_id) % 1000) // 100 - 5\n",
    "    "
   ]
  },
  {
   "cell_type": "code",
   "execution_count": 30,
   "metadata": {},
   "outputs": [
    {
     "name": "stdout",
     "output_type": "stream",
     "text": [
      "(21, 68)\n"
     ]
    }
   ],
   "source": [
    "size = 300\n",
    "sub_grid = 3\n",
    "grid_coordinates = itertools.product(range(size), range(size))\n",
    "grid = np.zeros((size, size))\n",
    "for x, y in grid_coordinates:\n",
    "    grid[x, y] = fuel_level(x, y, inp=inp)\n",
    "max_total = 0\n",
    "answer = (0, 0) \n",
    "for x, y in itertools.product(range(size - sub_grid), range(size - sub_grid)):\n",
    "    this_sub_grid_total = grid[x: x+sub_grid, y: y+sub_grid].sum()\n",
    "    if max_total < this_sub_grid_total:\n",
    "        max_total = this_sub_grid_total\n",
    "        answer = (x, y)\n",
    "print(answer)"
   ]
  },
  {
   "cell_type": "code",
   "execution_count": 32,
   "metadata": {},
   "outputs": [],
   "source": [
    "cache = np.zeros((size, size, size))\n",
    "cache[:,:,1] = grid\n",
    "\n",
    "def get_sub_total(x, y, s):\n",
    "    global cache\n",
    "    if s==1:\n",
    "        return cache[x, y, 1]\n",
    "    else:\n",
    "        new_total = cache[x, y, s-1] + grid[x+s, y:y+s-1].sum() + grid[x:x+s, y+s].sum()\n",
    "        cache[x, y, s] = new_total\n",
    "        return new_total"
   ]
  },
  {
   "cell_type": "code",
   "execution_count": 36,
   "metadata": {},
   "outputs": [
    {
     "name": "stdout",
     "output_type": "stream",
     "text": [
      "(90, 201, 14)\n",
      "found in 65.42646718025208 seconds\n"
     ]
    }
   ],
   "source": [
    "st = time.time()\n",
    "max_total = 0\n",
    "answer = (0, 0, 1)\n",
    "for sub_grid in range(1, size):\n",
    "    for x, y in itertools.product(range(size - sub_grid), range(size - sub_grid)):\n",
    "        this_sub_grid_total = get_sub_total(x, y, sub_grid)\n",
    "        if max_total < this_sub_grid_total:\n",
    "            max_total = this_sub_grid_total\n",
    "            answer = (x, y, sub_grid+1)\n",
    "print(answer)\n",
    "print(\"found in %s seconds\" % (time.time() - st))"
   ]
  },
  {
   "cell_type": "code",
   "execution_count": 37,
   "metadata": {},
   "outputs": [
    {
     "name": "stdout",
     "output_type": "stream",
     "text": [
      "(90, 201, 15)\n",
      "found in 152.98023629188538 seconds\n"
     ]
    }
   ],
   "source": [
    "st = time.time()\n",
    "max_total = 0\n",
    "answer = (0, 0, 1)\n",
    "for sub_grid in range(1, size):\n",
    "    for x, y in itertools.product(range(size - sub_grid), range(size - sub_grid)):\n",
    "        this_sub_grid_total = grid[x: x+sub_grid, y: y+sub_grid].sum()\n",
    "        if max_total < this_sub_grid_total:\n",
    "            max_total = this_sub_grid_total\n",
    "            answer = (x, y, sub_grid)\n",
    "print(answer)\n",
    "print(\"found in %s seconds\" % (time.time() - st))"
   ]
  },
  {
   "cell_type": "markdown",
   "metadata": {},
   "source": [
    "# DAY 12"
   ]
  },
  {
   "cell_type": "code",
   "execution_count": 3,
   "metadata": {},
   "outputs": [],
   "source": [
    "inp = read_input(12, root_path=\"..\")"
   ]
  },
  {
   "cell_type": "code",
   "execution_count": 14,
   "metadata": {},
   "outputs": [
    {
     "data": {
      "text/plain": [
       "array([1, 1, 0, 0, 1, 1, 0, 0, 1, 0, 1, 1, 0, 1, 1, 1, 0, 0, 0, 0, 1, 1,\n",
       "       1, 0, 1, 1, 1, 0, 1, 0, 1, 0, 1, 1, 1, 1, 1, 1, 0, 1, 0, 1, 0, 1,\n",
       "       0, 1, 0, 1, 1, 0, 1, 1, 1, 0, 1, 1, 1, 1, 0, 0, 1, 0, 1, 1, 1, 0,\n",
       "       0, 0, 1, 1, 1, 1, 1, 1, 1, 0, 1, 1, 1, 1, 0, 1, 1, 0, 0, 0, 1, 1,\n",
       "       1, 1, 1, 1, 1, 0, 1, 1, 0, 0, 1])"
      ]
     },
     "execution_count": 14,
     "metadata": {},
     "output_type": "execute_result"
    }
   ],
   "source": [
    "str_to_int = lambda x: 1 if x==\"#\" else 0\n",
    "inital_state = np.array(list(map(str_to_int, inp[0].strip().split(\": \")[-1])))\n",
    "inital_state"
   ]
  },
  {
   "cell_type": "code",
   "execution_count": 15,
   "metadata": {},
   "outputs": [],
   "source": [
    "def interpret_rule(line):\n",
    "    line = line.strip()\n",
    "    match, result = line.split(\" => \")\n",
    "    match = np.array(list(map(str_to_int, match)))\n",
    "    result = str_to_int(result)\n",
    "    return match, result\n",
    "\n",
    "rules = list(map(interpret_rule, inp[2:]))"
   ]
  },
  {
   "cell_type": "code",
   "execution_count": 16,
   "metadata": {},
   "outputs": [
    {
     "data": {
      "text/plain": [
       "(array([1, 1, 0, 0, 0]), 0)"
      ]
     },
     "execution_count": 16,
     "metadata": {},
     "output_type": "execute_result"
    }
   ],
   "source": [
    "rules[0]"
   ]
  },
  {
   "cell_type": "code",
   "execution_count": null,
   "metadata": {},
   "outputs": [],
   "source": []
  }
 ],
 "metadata": {
  "kernelspec": {
   "display_name": "anaconda3-4.3.0",
   "language": "python",
   "name": "anaconda3-4.3.0"
  },
  "language_info": {
   "codemirror_mode": {
    "name": "ipython",
    "version": 3
   },
   "file_extension": ".py",
   "mimetype": "text/x-python",
   "name": "python",
   "nbconvert_exporter": "python",
   "pygments_lexer": "ipython3",
   "version": "3.6.0"
  }
 },
 "nbformat": 4,
 "nbformat_minor": 2
}
