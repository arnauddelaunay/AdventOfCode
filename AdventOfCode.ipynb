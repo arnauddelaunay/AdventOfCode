{
 "cells": [
  {
   "cell_type": "code",
   "execution_count": 4,
   "metadata": {
    "collapsed": true
   },
   "outputs": [],
   "source": [
    "import numpy as np\n",
    "def get_inp(name):\n",
    "    try:\n",
    "        return np.loadtxt('inputs/day%s' % name)\n",
    "    except:\n",
    "        return open('inputs/day%s' % name).read()\n",
    "import sys\n",
    "sys.setrecursionlimit(100000)"
   ]
  },
  {
   "cell_type": "markdown",
   "metadata": {},
   "source": [
    "# Day 1"
   ]
  },
  {
   "cell_type": "code",
   "execution_count": 16,
   "metadata": {
    "collapsed": true
   },
   "outputs": [],
   "source": [
    "def get_output(inp):\n",
    "    if inp is None:\n",
    "        return 0\n",
    "    if len(inp)<=1 or inp is None:\n",
    "        return 0\n",
    "    if inp[1]==inp[0]:\n",
    "        return (int(inp[0]) + get_output(inp[1:]))\n",
    "    else:\n",
    "        return get_output(inp[1:])"
   ]
  },
  {
   "cell_type": "code",
   "execution_count": 20,
   "metadata": {
    "collapsed": false
   },
   "outputs": [
    {
     "name": "stdout",
     "output_type": "stream",
     "text": [
      "1119\n"
     ]
    }
   ],
   "source": [
    "S=0\n",
    "f = inp[0]\n",
    "p = f\n",
    "for c in inp[1:]:\n",
    "    if c==p:\n",
    "        S+=int(c)\n",
    "    p=c\n",
    "if c==f:\n",
    "    S+=int(c)\n",
    "print S"
   ]
  },
  {
   "cell_type": "markdown",
   "metadata": {
    "collapsed": true
   },
   "source": [
    "## 1.1"
   ]
  },
  {
   "cell_type": "code",
   "execution_count": null,
   "metadata": {
    "collapsed": true
   },
   "outputs": [],
   "source": [
    "def get_output(inp, i):\n",
    "    if inp is None:\n",
    "        return 0\n",
    "    if len(inp)<=1 or inp is None:\n",
    "        return 0\n",
    "    if inp[1]==inp[0]:\n",
    "        return (int(inp[0]) + get_output(inp[1:]))\n",
    "    else:\n",
    "        return get_output(inp[1:])"
   ]
  },
  {
   "cell_type": "code",
   "execution_count": 3,
   "metadata": {
    "collapsed": true
   },
   "outputs": [],
   "source": [
    "import numpy as np\n",
    "def get_output(inp, i):\n",
    "    L = len(inp)\n",
    "    if inp[i]==inp[np.mod(i+L/2,L)]:\n",
    "        return int(inp[i])\n",
    "    else:\n",
    "        return 0"
   ]
  },
  {
   "cell_type": "code",
   "execution_count": 4,
   "metadata": {
    "collapsed": false
   },
   "outputs": [
    {
     "name": "stdout",
     "output_type": "stream",
     "text": [
      "1420\n"
     ]
    }
   ],
   "source": [
    "S=0\n",
    "inp = '21752342814933766938172121674976879111362417653261522357855816893656462449168377359285244818489723869987861247912289729579296691684761143544956991583942215236568961875851755854977946147178746464675227699149925227227137557479769948569788884399379821111382536722699575759474473273939756348992714667963596189765734743169489599125771443348193383566159843593541134749392569865481578359825844394454173219857919349341442148282229689541561169341622222354651397342928678496478671339383923769856425795211323673389723181967933933832711545885653952861879231537976292517866354812943192728263269524735698423336673735158993853556148833861327959262254756647827739145283577793481526768156921138428318939361859721778556264519643435871835744859243167227889562738712953651128317624673985213525897522378259178625416722152155728615936587369515254936828668564857283226439881266871945998796488472249182538883354186573925183152663862683995449671663285775397453876262722567452435914777363522817594741946638986571793655889466419895996924122915777224499481496837343194149123735355268151941712871245863553836953349887831949788869852929147849489265325843934669999391846286319268686789372513976522282587526866148166337215961493536262851512218794139272361292811529888161198799297966893366553115353639298256788819385272471187213579185523521341651117947676785341146235441411441813242514813227821843819424619974979886871646621918865274574538951761567855845681272364646138584716333599843835167373525248547542442942583122624534494442516259616973235858469131159773167334953658673271599748942956981954699444528689628848694446818825465485122869742839711471129862632128635779658365756362863627135983617613332849756371986376967117549251566281992964573929655589313871976556784849231916513831538254812347116253949818633527185174221565279775766742262687713114114344843534958833372634182176866315441583887177759222598853735114191874277711434653854816841589229914164681364497429324463193669337827467661773833517841763711156376147664749175267212562321567728575765844893232718971471289841171642868948852136818661741238178676857381583155547755219837116125995361896562498721571413742'\n",
    "for i in range(len(inp)):\n",
    "    S+=get_output(inp,i)\n",
    "print S"
   ]
  },
  {
   "cell_type": "code",
   "execution_count": null,
   "metadata": {
    "collapsed": true
   },
   "outputs": [],
   "source": []
  },
  {
   "cell_type": "markdown",
   "metadata": {},
   "source": [
    "# 2.1"
   ]
  },
  {
   "cell_type": "code",
   "execution_count": 30,
   "metadata": {
    "collapsed": false
   },
   "outputs": [],
   "source": [
    "inp = get_inp('2.1')"
   ]
  },
  {
   "cell_type": "code",
   "execution_count": 32,
   "metadata": {
    "collapsed": false
   },
   "outputs": [
    {
     "data": {
      "text/plain": [
       "45351.0"
      ]
     },
     "execution_count": 32,
     "metadata": {},
     "output_type": "execute_result"
    }
   ],
   "source": [
    "np.array(map(lambda x : x.max() - x.min(), inp)).sum()"
   ]
  },
  {
   "cell_type": "markdown",
   "metadata": {},
   "source": [
    "# 2.2"
   ]
  },
  {
   "cell_type": "code",
   "execution_count": 54,
   "metadata": {
    "collapsed": false
   },
   "outputs": [
    {
     "data": {
      "text/plain": [
       "275.0"
      ]
     },
     "execution_count": 54,
     "metadata": {},
     "output_type": "execute_result"
    }
   ],
   "source": [
    "inp = get_inp('2.2')\n",
    "def get_div(row):\n",
    "    for i, e in enumerate(row):\n",
    "        for e2 in np.hstack((row[:i],row[i+1:])):\n",
    "            if e%e2==0:\n",
    "                return e/e2\n",
    "np.array(map(get_div, inp)).sum()"
   ]
  },
  {
   "cell_type": "markdown",
   "metadata": {},
   "source": [
    "# 3.1"
   ]
  },
  {
   "cell_type": "code",
   "execution_count": 30,
   "metadata": {
    "collapsed": true
   },
   "outputs": [],
   "source": [
    "def get_path_to_1(inp):\n",
    "    k = int(np.sqrt(inp))\n",
    "    K = k/2 - (1-k%2)\n",
    "    I = k%2\n",
    "    p = inp-(k*k)\n",
    "    return abs(K-min(p-1, k))+abs(K+I-max(p-k-1,0))"
   ]
  },
  {
   "cell_type": "code",
   "execution_count": 50,
   "metadata": {
    "collapsed": false
   },
   "outputs": [
    {
     "name": "stdout",
     "output_type": "stream",
     "text": [
      "CPU times: user 26 µs, sys: 20 µs, total: 46 µs\n",
      "Wall time: 53.9 µs\n"
     ]
    },
    {
     "data": {
      "text/plain": [
       "3"
      ]
     },
     "execution_count": 50,
     "metadata": {},
     "output_type": "execute_result"
    }
   ],
   "source": [
    "%time get_path_to_1(10)"
   ]
  },
  {
   "cell_type": "markdown",
   "metadata": {},
   "source": [
    "# 3.2"
   ]
  },
  {
   "cell_type": "code",
   "execution_count": 2,
   "metadata": {
    "collapsed": true
   },
   "outputs": [],
   "source": [
    "#USELESS FINALLY\n",
    "def get_coordinates(inp):\n",
    "    if inp == 1:\n",
    "        return 0,0\n",
    "    k = int(np.sqrt(inp))\n",
    "    K = k/2\n",
    "    p = inp-(k*k)\n",
    "    add = 1 if p==0 else 0 # if it's a square\n",
    "    I = (-1)**(k%2+1)*(K-min(p-1,k)-add)\n",
    "    J = (-1)**(k%2+1)*(K+k%2-max(p-k-1,0)-add)\n",
    "    return I, J"
   ]
  },
  {
   "cell_type": "code",
   "execution_count": 3,
   "metadata": {
    "collapsed": true
   },
   "outputs": [],
   "source": [
    "def get_idx(I,J):\n",
    "    if (I,J) == (0,0):\n",
    "        return 1\n",
    "    sign = np.sign(J-I) if J!=I else -1 #we want sign(0)=-1\n",
    "    K = max(sign*J, -sign*I)-1\n",
    "    k = K*2+1-min(0,sign)\n",
    "    N = K +k**2+1\n",
    "    N += -sign*I - 1*(min(sign, 0)) if -sign*I<=sign*J else -sign*J + k + 1\n",
    "    return int(N)"
   ]
  },
  {
   "cell_type": "code",
   "execution_count": 4,
   "metadata": {
    "collapsed": true
   },
   "outputs": [],
   "source": [
    "M = {}\n",
    "def compute_sum(I,J):\n",
    "    if I==0 and J==0:\n",
    "        return 1\n",
    "    if '%d,%d' % (I,J) in M:\n",
    "        return M['%d,%d' % (I,J)]\n",
    "    this_idx = get_idx(I,J)\n",
    "    S = 0\n",
    "    for i in range(-1,2):\n",
    "        for j in range(-1,2):\n",
    "            if get_idx(I+i,J+j)<this_idx:\n",
    "                if '%d,%d' % (I+i,J+j) not in M:\n",
    "                    M['%d,%d' % (I+i,J+j)] = compute_sum(I+i,J+j)\n",
    "                S+=M['%d,%d' % (I+i,J+j)]\n",
    "    return S\n",
    "\n",
    "def find_smallest_larger_than(X):\n",
    "    k = 0\n",
    "    while(True):\n",
    "        if compute_sum(k,k)>X:\n",
    "            sign=1\n",
    "            if compute_sum(-k,-k)<X:\n",
    "                sign = -1 \n",
    "            value = compute_sum(sign*(k-1),sign*k)\n",
    "            s = 2\n",
    "            while X>value:\n",
    "                value = compute_sum(sign*(k-min(s,2*k)),sign*(k-max(s-2*k,0)))\n",
    "                s+=1\n",
    "            return value\n",
    "        k += 1"
   ]
  },
  {
   "cell_type": "code",
   "execution_count": 10,
   "metadata": {
    "collapsed": false
   },
   "outputs": [
    {
     "name": "stdout",
     "output_type": "stream",
     "text": [
      "CPU times: user 26.3 ms, sys: 6.28 ms, total: 32.6 ms\n",
      "Wall time: 32 ms\n"
     ]
    },
    {
     "data": {
      "text/plain": [
       "10327666307774372612997002L"
      ]
     },
     "execution_count": 10,
     "metadata": {},
     "output_type": "execute_result"
    }
   ],
   "source": [
    "%time find_smallest_larger_than(10211726171726281982716820)"
   ]
  },
  {
   "cell_type": "markdown",
   "metadata": {
    "collapsed": true
   },
   "source": [
    "# 4.1"
   ]
  },
  {
   "cell_type": "code",
   "execution_count": 12,
   "metadata": {
    "collapsed": false
   },
   "outputs": [
    {
     "data": {
      "text/plain": [
       "386"
      ]
     },
     "execution_count": 12,
     "metadata": {},
     "output_type": "execute_result"
    }
   ],
   "source": [
    "def check_passphrase(paph):\n",
    "    L = paph.split(' ')\n",
    "    return len(L)==len(set(L))\n",
    "inp = get_inp('4.1').split('\\n')[:-1]\n",
    "sum(map(check_passphrase,inp))"
   ]
  },
  {
   "cell_type": "markdown",
   "metadata": {},
   "source": [
    "# 4.2"
   ]
  },
  {
   "cell_type": "code",
   "execution_count": 18,
   "metadata": {
    "collapsed": false
   },
   "outputs": [
    {
     "data": {
      "text/plain": [
       "208"
      ]
     },
     "execution_count": 18,
     "metadata": {},
     "output_type": "execute_result"
    }
   ],
   "source": [
    "def doublecheck_passphrase(paph):\n",
    "    L = map(lambda x : set(x), paph.split(' '))\n",
    "    unique = reduce(lambda l, x: l.append(x) or l if x not in l else l, L, [])\n",
    "    return len(unique)==len(L)\n",
    "inp = get_inp('4.1').split('\\n')[:-1]\n",
    "sum(map(doublecheck_passphrase,inp))"
   ]
  },
  {
   "cell_type": "markdown",
   "metadata": {},
   "source": [
    "# 5.1"
   ]
  },
  {
   "cell_type": "code",
   "execution_count": 47,
   "metadata": {
    "collapsed": false
   },
   "outputs": [
    {
     "name": "stdout",
     "output_type": "stream",
     "text": [
      "28675390\n"
     ]
    },
    {
     "name": "stderr",
     "output_type": "stream",
     "text": [
      "/usr/local/lib/python2.7/dist-packages/ipykernel/__main__.py:2: VisibleDeprecationWarning: using a non-integer number instead of an integer will result in an error in the future\n",
      "  from ipykernel import kernelapp as app\n",
      "/usr/local/lib/python2.7/dist-packages/ipykernel/__main__.py:8: VisibleDeprecationWarning: using a non-integer number instead of an integer will result in an error in the future\n",
      "/usr/local/lib/python2.7/dist-packages/ipykernel/__main__.py:9: VisibleDeprecationWarning: using a non-integer number instead of an integer will result in an error in the future\n",
      "/usr/local/lib/python2.7/dist-packages/ipykernel/__main__.py:12: VisibleDeprecationWarning: using a non-integer number instead of an integer will result in an error in the future\n",
      "/usr/local/lib/python2.7/dist-packages/ipykernel/__main__.py:10: VisibleDeprecationWarning: using a non-integer number instead of an integer will result in an error in the future\n"
     ]
    }
   ],
   "source": [
    "inp = get_inp('5.1')\n",
    "inp[inp[3]]\n",
    "cursor = 0\n",
    "L = len(inp)\n",
    "step = 0\n",
    "while True:\n",
    "    prev = cursor\n",
    "    cursor += inp[cursor]\n",
    "    if inp[prev]>=3:\n",
    "        inp[prev] -= 1\n",
    "    else:\n",
    "        inp[prev] += 1\n",
    "    step +=1\n",
    "    if cursor >= L or cursor <0:\n",
    "        break\n",
    "print step"
   ]
  },
  {
   "cell_type": "markdown",
   "metadata": {
    "collapsed": true
   },
   "source": [
    "# 6.1"
   ]
  },
  {
   "cell_type": "code",
   "execution_count": 10,
   "metadata": {
    "collapsed": false
   },
   "outputs": [
    {
     "name": "stdout",
     "output_type": "stream",
     "text": [
      "8038\n"
     ]
    }
   ],
   "source": [
    "import numpy as np\n",
    "\n",
    "import multiprocessing\n",
    "from functools import partial\n",
    "\n",
    "inp = get_inp('6.1').astype(int)\n",
    "L=len(inp)\n",
    "states =[] \n",
    "def choose_bank(inp):\n",
    "    return inp.argmax()\n",
    "\n",
    "def get_spread(idxn_b, iv):\n",
    "    i, v = iv\n",
    "    idx, n_b = idxn_b\n",
    "    # print i, v, idx, n_b\n",
    "    if i == idx:\n",
    "        v = 0\n",
    "    S=v+n_b/L\n",
    "    if np.mod((i-idx)-1, L)<(n_b%L):\n",
    "        S+=1\n",
    "    return S\n",
    "\n",
    "def spread_blocks(idx, inp):\n",
    "    n_b = inp[idx] \n",
    "    #pool = multiprocessing.Pool()\n",
    "    #inp = pool.map(partial(get_spread, (idx,n_b)), enumerate(inp))\n",
    "    inp = map(partial(get_spread, (idx,n_b)), enumerate(inp))\n",
    "    return np.array(inp) \n",
    "\n",
    "step = 0\n",
    "while True:\n",
    "    idx = choose_bank(inp) \n",
    "    inp = spread_blocks(idx, inp)\n",
    "    hashinp = hash(inp.tostring())\n",
    "    step += 1\n",
    "    if hashinp in states:\n",
    "        break\n",
    "    states.append(hashinp)\n",
    "\n",
    "# 6.1\n",
    "#print step\n",
    "\n",
    "# 6.2\n",
    "print len(states)-states.index(hashinp)"
   ]
  },
  {
   "cell_type": "markdown",
   "metadata": {
    "collapsed": true
   },
   "source": [
    "# 7.1"
   ]
  },
  {
   "cell_type": "code",
   "execution_count": 27,
   "metadata": {
    "collapsed": false
   },
   "outputs": [],
   "source": [
    "inp = get_inp('7.1').split('\\n')[:-1]"
   ]
  },
  {
   "cell_type": "code",
   "execution_count": 30,
   "metadata": {
    "collapsed": false
   },
   "outputs": [
    {
     "name": "stdout",
     "output_type": "stream",
     "text": [
      "eugwuhl\n"
     ]
    }
   ],
   "source": [
    "def get_root(inp):\n",
    "    inp = map(lambda x : x.split(' '), inp)\n",
    "    leafs = dict([(l[0], {'w' : int(l[1].replace('(','').replace(')',''))}) for l in inp if '->' not in l])\n",
    "    roots = dict([\n",
    "        (l[0], {\n",
    "                'w' : int(l[1].replace('(','').replace(')','')),\n",
    "                'sons' : map(lambda x : x.replace(',',''), l[l.index('->')+1:])\n",
    "               }) for l in inp if '->' in l])\n",
    "    leafs_of_roots = [leaf for word in roots for leaf in roots[word]['sons']]\n",
    "    for root in roots:\n",
    "        if root not in leafs_of_roots:\n",
    "            return root, roots, leafs\n",
    "\n",
    "r, roots, leafs = get_root(inp)\n",
    "print r"
   ]
  },
  {
   "cell_type": "markdown",
   "metadata": {},
   "source": [
    "# 7.2"
   ]
  },
  {
   "cell_type": "code",
   "execution_count": 31,
   "metadata": {
    "collapsed": false
   },
   "outputs": [],
   "source": [
    "def get_weights_of_sons(word):\n",
    "    if word in leafs:\n",
    "        return leafs[word]['w']\n",
    "    else:\n",
    "        return np.sum([get_weights_of_sons(w) for w in roots[word]['sons']]) + roots[word]['w']"
   ]
  },
  {
   "cell_type": "code",
   "execution_count": 53,
   "metadata": {
    "collapsed": true
   },
   "outputs": [],
   "source": [
    "def get_unbalanced_son(word):\n",
    "    if word in leafs:\n",
    "        return None, None, None\n",
    "    L = [get_weights_of_sons(w) for w in roots[word]['sons']]\n",
    "    value = len(set(L))==1\n",
    "    if value:\n",
    "        return None, None, None\n",
    "    else:\n",
    "        for i, l in enumerate(L):\n",
    "            if L.count(l)==1:\n",
    "                return roots[word]['sons'][i], l, L[np.mod((i+1),len(L))]"
   ]
  },
  {
   "cell_type": "code",
   "execution_count": 57,
   "metadata": {
    "collapsed": false
   },
   "outputs": [
    {
     "name": "stdout",
     "output_type": "stream",
     "text": [
      "Bad value is 428, should be 420 (weight of word drjmjug)\n"
     ]
    }
   ],
   "source": [
    "word = r\n",
    "should_be = 0\n",
    "v = 0\n",
    "while word is not None:\n",
    "    prev_word, diff = (word, v-should_be)\n",
    "    word, should_be, v = get_unbalanced_son(word)\n",
    "print \"Bad value is %d, should be %d (weight of word %s)\" % (roots[prev_word]['w'], roots[prev_word]['w'] + diff, prev_word)"
   ]
  },
  {
   "cell_type": "markdown",
   "metadata": {},
   "source": [
    "# 8.1"
   ]
  },
  {
   "cell_type": "code",
   "execution_count": 23,
   "metadata": {
    "collapsed": false
   },
   "outputs": [
    {
     "name": "stdout",
     "output_type": "stream",
     "text": [
      "Answer to 8.1 :  4567\n",
      "Answer to 8.2 :  5636\n"
     ]
    }
   ],
   "source": [
    "import operator\n",
    "import numpy as np\n",
    "\n",
    "ACTIONS = {'inc' : 1, 'dec' : -1}\n",
    "CONDITIONS = {\"==\" : lambda x,y : x==y,\n",
    "              \"!=\" : lambda x,y : x!=y,\n",
    "              \"<=\" : lambda x,y : x<=y,\n",
    "              \">=\" : lambda x,y : x>=y,\n",
    "              \">\" : lambda x,y : x>y,\n",
    "              \"<\" : lambda x,y : x<y\n",
    "             }\n",
    "variables = {'max_value' : -np.inf}\n",
    "def code_parser(line):\n",
    "    \"\"\"\n",
    "    <inp_variable> <action> <var_value> if <cond_variable> <condition> <cond_value>\n",
    "    \"\"\"\n",
    "    inp_variable, action, var_value, _, cond_variable, condition, cond_value = line.split()\n",
    "    variables[inp_variable] = 0 if inp_variable not in variables else variables[inp_variable]\n",
    "    variables[cond_variable] = 0 if cond_variable not in variables else variables[cond_variable]\n",
    "    if CONDITIONS[condition](variables[cond_variable], int(cond_value)):\n",
    "        variables[inp_variable] = variables[inp_variable] + ACTIONS[action]*int(var_value)\n",
    "        variables['max_value'] = max(variables['max_value'], variables[inp_variable])\n",
    "        \n",
    "inp = get_inp('8.1').split('\\n')[:-1]\n",
    "map(code_parser, inp)\n",
    "max_value = variables['max_value']\n",
    "del variables['max_value']\n",
    "print \"Answer to 8.1 : \", max(variables.itervalues())\n",
    "print \"Answer to 8.2 : \", max_value"
   ]
  },
  {
   "cell_type": "markdown",
   "metadata": {},
   "source": [
    "# 9.1"
   ]
  },
  {
   "cell_type": "code",
   "execution_count": 37,
   "metadata": {
    "collapsed": false
   },
   "outputs": [],
   "source": [
    "inp = get_inp('9.1')[:-1]"
   ]
  },
  {
   "cell_type": "code",
   "execution_count": 72,
   "metadata": {
    "collapsed": true
   },
   "outputs": [],
   "source": [
    "import re\n",
    "def remove_char(inp):\n",
    "    return re.sub('!.{1}', '', inp)\n",
    "\n",
    "def remove_garbage(inp):\n",
    "    return re.sub('<.*?>', '', inp)\n",
    "\n",
    "def count_in_garbage(inp):\n",
    "    myre = re.compile(r'<.*?>')\n",
    "    return np.sum(len(x) for x in map(lambda x : x[1:-1], myre.findall(inp)))\n",
    "\n",
    "def get_subgroups(inp):\n",
    "    return inp[1:-1].split(',')\n",
    "\n",
    "def parenthetic_contents(string):\n",
    "    \"\"\"Generate parenthesized contents in string as pairs (level, contents).\"\"\"\n",
    "    stack = []\n",
    "    for i, c in enumerate(string):\n",
    "        if c == '{':\n",
    "            stack.append(i)\n",
    "        elif c == '}' and stack:\n",
    "            start = stack.pop()\n",
    "            yield (len(stack), string[start + 1: i])"
   ]
  },
  {
   "cell_type": "code",
   "execution_count": 58,
   "metadata": {
    "collapsed": false
   },
   "outputs": [
    {
     "name": "stdout",
     "output_type": "stream",
     "text": [
      "9.1 :  14204\n"
     ]
    }
   ],
   "source": [
    "print \"9.1 : \", np.sum([depth+1 for depth, val in parenthetic_contents(remove_garbage(remove_char(inp)))])np.sum([depth+1 for depth, val in parenthetic_contents(remove_garbage(remove_char(inp)))])"
   ]
  },
  {
   "cell_type": "code",
   "execution_count": 73,
   "metadata": {
    "collapsed": false
   },
   "outputs": [
    {
     "name": "stdout",
     "output_type": "stream",
     "text": [
      "9.2 :  6622\n"
     ]
    }
   ],
   "source": [
    "print \"9.2 : \", count_in_garbage(remove_char(inp))"
   ]
  },
  {
   "cell_type": "code",
   "execution_count": null,
   "metadata": {
    "collapsed": true
   },
   "outputs": [],
   "source": []
  }
 ],
 "metadata": {
  "kernelspec": {
   "display_name": "Python 2",
   "language": "python",
   "name": "python2"
  },
  "language_info": {
   "codemirror_mode": {
    "name": "ipython",
    "version": 2
   },
   "file_extension": ".py",
   "mimetype": "text/x-python",
   "name": "python",
   "nbconvert_exporter": "python",
   "pygments_lexer": "ipython2",
   "version": "2.7.13"
  }
 },
 "nbformat": 4,
 "nbformat_minor": 2
}
