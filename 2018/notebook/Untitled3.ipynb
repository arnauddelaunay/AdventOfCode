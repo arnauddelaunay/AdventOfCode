{
 "cells": [
  {
   "cell_type": "code",
   "execution_count": 1,
   "metadata": {},
   "outputs": [],
   "source": [
    "import pandas as pd\n",
    "import datetime\n",
    "import numpy as np\n",
    "import re\n",
    "import sys\n",
    "\n",
    "sys.path.append(\"..\")\n",
    "from aoc18.utils import read_input\n"
   ]
  },
  {
   "cell_type": "markdown",
   "metadata": {},
   "source": [
    "# Day 13"
   ]
  },
  {
   "cell_type": "code",
   "execution_count": 88,
   "metadata": {},
   "outputs": [],
   "source": [
    "inp = read_input(13, root_path=\"..\")\n",
    "inp_test = read_input(13, root_path=\"..\", test=True)"
   ]
  },
  {
   "cell_type": "code",
   "execution_count": 78,
   "metadata": {},
   "outputs": [],
   "source": [
    "straight = np.array([\n",
    "    [1, 0],\n",
    "    [0, 1]])\n",
    "\n",
    "left = np.array([\n",
    "    [ 0, 1],\n",
    "    [-1, 0]])\n",
    "\n",
    "right = np.array([\n",
    "    [0, -1],\n",
    "    [1,  0]])\n",
    "\n",
    "anti_slash = np.array([\n",
    "    [0, 1],\n",
    "    [1, 0]])\n",
    "\n",
    "slash = np.array([\n",
    "   [ 0, -1],\n",
    "   [-1,  0]])\n",
    "\n",
    "def build_action(move_array):\n",
    "    return np.vstack([\n",
    "        np.hstack([np.identity(2), np.zeros((2,2))]),\n",
    "        np.hstack([move_array]*2)\n",
    "    ])\n",
    "\n",
    "milestone_mapping = {\n",
    "    \"-\": build_action(straight),\n",
    "    \"|\": build_action(straight),\n",
    "    \"\\\\\": build_action(anti_slash),\n",
    "    \"/\": build_action(slash),\n",
    "    \">\": build_action(straight),\n",
    "    \"<\": build_action(straight),\n",
    "    \"^\": build_action(straight),\n",
    "    \"v\": build_action(straight),\n",
    "    \"+\": \"intersection\"\n",
    "}\n",
    "\n",
    "carts_mapping = {\n",
    "    \">\": np.array([ 0,  1]),\n",
    "    \"<\": np.array([ 0, -1]),\n",
    "    \"v\": np.array([ 1,  0]),\n",
    "    \"^\": np.array([-1,  0])\n",
    "}\n",
    "\n",
    "intersections = [build_action(left), build_action(straight), build_action(right)]\n",
    "\n",
    "\n",
    "class Milestone:\n",
    "    \n",
    "    def __init__(self, string):\n",
    "        self.string = string\n",
    "        self.action = self.get_action(string)\n",
    "        \n",
    "    def get_action(self, car):\n",
    "        return milestone_mapping[car]\n",
    "    \n",
    "    def __str__(self):\n",
    "        return self.string\n",
    "    \n",
    "    def __repr__(self):\n",
    "        return \"Milestone(%s)\" % self.string"
   ]
  },
  {
   "cell_type": "code",
   "execution_count": 134,
   "metadata": {},
   "outputs": [],
   "source": [
    "def get_collisions(carts_map):\n",
    "    collisions = []\n",
    "    for i in range(len(carts_map) - 1):\n",
    "        for j in range(i + 1, len(carts_map)):\n",
    "            if np.array_equal(carts_map[i][\"cart\"][:2], carts_map[j][\"cart\"][:2]):\n",
    "                collisions.append((i,j))\n",
    "    return collisions\n",
    "\n",
    "def check_collision(carts_map):\n",
    "    return len(get_collisions(carts_map))>0\n",
    "\n",
    "def sort_carts(carts_map):\n",
    "    return sorted(carts_map.items(), key=lambda kv: (kv[1][\"cart\"][0], kv[1][\"cart\"][1]))"
   ]
  },
  {
   "cell_type": "code",
   "execution_count": 135,
   "metadata": {},
   "outputs": [],
   "source": [
    "def get_initial_state(inp):\n",
    "    this_map = list(map(lambda i: list(map(lambda i: \" \", range(len(inp[0][:-1])))), range(len(inp))))\n",
    "    carts_map = {}\n",
    "    cart_id = 0\n",
    "    carts_order = []\n",
    "    for x, line in enumerate(inp):\n",
    "        for y, car in enumerate(line[:-1]):\n",
    "            if car != \" \":\n",
    "                this_map[x][y] = Milestone(car)\n",
    "            if car in carts_mapping:\n",
    "                carts_map[cart_id] = {\n",
    "                    \"cart\": np.hstack([np.array([x, y]), carts_mapping[car]]),\n",
    "                    \"status\": 0\n",
    "                }\n",
    "                carts_order.append(cart_id)\n",
    "                cart_id += 1\n",
    "    return this_map, carts_map, carts_order"
   ]
  },
  {
   "cell_type": "code",
   "execution_count": 137,
   "metadata": {},
   "outputs": [],
   "source": [
    "def run_one_step(this_map, carts_map, carts_order):\n",
    "    for cart_id, cart in sort_carts(carts_map):\n",
    "        milestone = this_map[cart[\"cart\"][0]][cart[\"cart\"][1]]\n",
    "        if milestone.string == \"+\":\n",
    "            action = intersections[np.mod(cart[\"status\"], 3)]\n",
    "            carts_map[cart_id][\"status\"] += 1\n",
    "        else:\n",
    "            action = milestone.action\n",
    "        carts_map[cart_id][\"cart\"] = cart[\"cart\"].dot(action).astype(int)\n",
    "    return this_map, carts_map, carts_order"
   ]
  },
  {
   "cell_type": "code",
   "execution_count": 138,
   "metadata": {},
   "outputs": [],
   "source": [
    "def run1(inp):\n",
    "    this_map, carts_map, carts_order = get_initial_state(inp)\n",
    "    iteration = 0\n",
    "    while True:\n",
    "        this_map, carts_map, carts_order = run_one_step(this_map, carts_map, carts_order)\n",
    "        iteration += 1\n",
    "        collisions = get_collisions(carts_map)\n",
    "        if len(collisions) > 0:\n",
    "            break\n",
    "    cart_id_1, cart_id_2 = collisions[0]\n",
    "    print(\"Collision after %d iterations! Cart %d and %d crashed at point (%d, %d)\" % (\n",
    "        iteration,\n",
    "        cart_id_1,\n",
    "        cart_id_2,\n",
    "        carts_map[cart_id_1][\"cart\"][1],\n",
    "        carts_map[cart_id_1][\"cart\"][0]\n",
    "        )\n",
    "    )\n",
    "    return (carts_map[cart_id_1][\"cart\"][1], carts_map[cart_id_1][\"cart\"][0])\n",
    "        \n"
   ]
  },
  {
   "cell_type": "code",
   "execution_count": 140,
   "metadata": {},
   "outputs": [
    {
     "name": "stdout",
     "output_type": "stream",
     "text": [
      "Collision after 174 iterations! Cart 11 and 16 crashed at point (64, 86)\n"
     ]
    },
    {
     "data": {
      "text/plain": [
       "(64, 86)"
      ]
     },
     "execution_count": 140,
     "metadata": {},
     "output_type": "execute_result"
    }
   ],
   "source": [
    "run1(inp)"
   ]
  },
  {
   "cell_type": "markdown",
   "metadata": {},
   "source": [
    "# Day 17"
   ]
  },
  {
   "cell_type": "code",
   "execution_count": 2,
   "metadata": {},
   "outputs": [],
   "source": [
    "inp = read_input(17, root_path=\"..\")\n",
    "inp_test = read_input(17, root_path=\"..\", test=True)"
   ]
  },
  {
   "cell_type": "code",
   "execution_count": 5,
   "metadata": {},
   "outputs": [],
   "source": [
    "a, b = (0, (1,2))"
   ]
  },
  {
   "cell_type": "code",
   "execution_count": 54,
   "metadata": {},
   "outputs": [],
   "source": [
    "def parse_line(line):\n",
    "    single, multiples = line.strip().split(\", \")\n",
    "    xoy = int(single.split(\"=\")[-1])\n",
    "    minxy, maxxy = map(int, multiples.split(\"=\")[-1].split(\"..\"))\n",
    "    if single[0] == \"x\":\n",
    "        return map(lambda y: (xoy, y), range(minxy, maxxy+1))\n",
    "    else:\n",
    "        return map(lambda x: (x, xoy), range(minxy, maxxy+1))\n",
    "\n",
    "def parse_inp(inp):\n",
    "    return set([xy for this_range in map(parse_line, inp) for xy in this_range])\n",
    "\n",
    "\n",
    "class Ground:\n",
    "    \n",
    "    def __init__(self, source):\n",
    "        self.source = source\n",
    "        self.mat = None\n",
    "        self.xmin, self.ymin, self.xmax, self.ymax = [0]*4\n",
    "        \n",
    "    def set(self, inp):\n",
    "        this_range = parse_inp(inp)\n",
    "        x_s = list(map(lambda xy: xy[0], this_range))\n",
    "        y_s = list(map(lambda xy: xy[1], this_range))\n",
    "        self.xmin, self.ymin, self.xmax, self.ymax = min(x_s), min(y_s), max(x_s), max(y_s)\n",
    "        self.mat = np.zeros((self.ymax+1, self.xmax+2-self.xmin))\n",
    "        for x, y in this_range:\n",
    "            self.mat[y, (x-self.xmin)+1] = 1\n",
    "            \n",
    "    def get_element(self, x, y):\n",
    "        return self.mat[y, (x-xmin)+1]\n",
    "    \n",
    "    def __str__(self):\n",
    "        if self.mat is not None:\n",
    "            return \"\\n\".join(map(lambda line: \"\".join(map(lambda x: \".\" if x == 0 else \"#\", line)), self.mat))\n",
    "        \n",
    "    def dump(self, file_path):\n",
    "        with open(file_path, \"w\") as groundfile:\n",
    "            groundfile.write(\"%s\" % self)"
   ]
  },
  {
   "cell_type": "code",
   "execution_count": 55,
   "metadata": {},
   "outputs": [
    {
     "data": {
      "text/plain": [
       "(495, 1, 506, 13)"
      ]
     },
     "execution_count": 55,
     "metadata": {},
     "output_type": "execute_result"
    }
   ],
   "source": [
    "ground_test = Ground((500,0))\n",
    "ground_test.set(inp_test)\n",
    "ground_test.xmin, ground_test.ymin, ground_test.xmax, ground_test.ymax"
   ]
  },
  {
   "cell_type": "code",
   "execution_count": 56,
   "metadata": {},
   "outputs": [
    {
     "data": {
      "text/plain": [
       "(108, 3, 537, 1913)"
      ]
     },
     "execution_count": 56,
     "metadata": {},
     "output_type": "execute_result"
    }
   ],
   "source": [
    "ground = Ground((500,0))\n",
    "ground.set(inp)\n",
    "ground.xmin, ground.ymin, ground.xmax, ground.ymax"
   ]
  },
  {
   "cell_type": "code",
   "execution_count": null,
   "metadata": {},
   "outputs": [],
   "source": [
    "water_position = (500, 0)\n",
    "wet_tile_nb = 0\n",
    "while True:\n",
    "    if water_position[1]>\n",
    "    "
   ]
  },
  {
   "cell_type": "code",
   "execution_count": null,
   "metadata": {},
   "outputs": [],
   "source": [
    "def spread_water_from(ground, position, source):\n",
    "    if position[1] > ground.ymax:\n",
    "        return 0\n",
    "    ground.wet(position)\n",
    "    if ground.get_element(position[0], position[1] + 1) == 0:\n",
    "        return 1 + spread_water_from(ground, (position[0], position[1] + 1), \"top\")\n",
    "    else:\n",
    "        if ground.get_element(position[0] - 1, position[1]) == 0:\n",
    "            left = None\n",
    "        else:\n",
    "            left = spread_water_from(ground, (position[0] - 1, position[1]))\n",
    "        if ground.get_element(position[0] + 1, position[1]) == 0:\n",
    "            right = None\n",
    "        else:\n",
    "            right = spread_water_from(ground, (position[0] + 1, position[1]))\n"
   ]
  },
  {
   "cell_type": "code",
   "execution_count": 57,
   "metadata": {},
   "outputs": [
    {
     "name": "stdout",
     "output_type": "stream",
     "text": [
      ".............\n",
      "............#\n",
      ".#..#.......#\n",
      ".#..#..#.....\n",
      ".#..#..#.....\n",
      ".#.....#.....\n",
      ".#.....#.....\n",
      ".#######.....\n",
      ".............\n",
      ".............\n",
      "....#.....#..\n",
      "....#.....#..\n",
      "....#.....#..\n",
      "....#######..\n"
     ]
    }
   ],
   "source": [
    "def get_water_next(ground, position):\n",
    "    if ground.get_element(position[0], position[1] + 1) == 0:\n",
    "        return position[0], position[1] + 1\n",
    "    else:\n",
    "        "
   ]
  },
  {
   "cell_type": "code",
   "execution_count": 59,
   "metadata": {},
   "outputs": [],
   "source": [
    "ground.dump(\"../data/17_ground.txt\")"
   ]
  },
  {
   "cell_type": "code",
   "execution_count": null,
   "metadata": {},
   "outputs": [],
   "source": []
  }
 ],
 "metadata": {
  "kernelspec": {
   "display_name": "Python 3",
   "language": "python",
   "name": "python3"
  },
  "language_info": {
   "codemirror_mode": {
    "name": "ipython",
    "version": 3
   },
   "file_extension": ".py",
   "mimetype": "text/x-python",
   "name": "python",
   "nbconvert_exporter": "python",
   "pygments_lexer": "ipython3",
   "version": "3.6.5"
  }
 },
 "nbformat": 4,
 "nbformat_minor": 2
}
