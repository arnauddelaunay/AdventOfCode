{
 "cells": [
  {
   "cell_type": "code",
   "execution_count": 1,
   "metadata": {},
   "outputs": [],
   "source": [
    "import pandas as pd\n",
    "import datetime\n",
    "from utils import read_input\n",
    "import numpy as np\n",
    "\n",
    "inp = read_input(4)\n",
    "inp_test = read_input(4, test=True)"
   ]
  },
  {
   "cell_type": "code",
   "execution_count": 2,
   "metadata": {},
   "outputs": [],
   "source": [
    "def split_phrase(phrase):\n",
    "    splitted = phrase.split('] ')\n",
    "    return (\n",
    "        datetime.datetime.strptime(splitted[0][1:], \"%Y-%m-%d %H:%M\"),\n",
    "        splitted[1].strip()\n",
    "    )\n",
    "\n",
    "def get_guard_id(event):\n",
    "    return event.split(\"#\")[-1].split(\" \")[0]\n",
    "\n",
    "dts, events = zip(*map(split_phrase, inp))\n",
    "df = pd.DataFrame({\"date\": dts, \"event\": events})\\\n",
    "    .sort_values(\"date\")\n",
    "\n",
    "dts, events = zip(*map(split_phrase, inp_test))\n",
    "df_test = pd.DataFrame({\"date\": dts, \"event\": events})\\\n",
    "    .sort_values(\"date\")"
   ]
  },
  {
   "cell_type": "code",
   "execution_count": 4,
   "metadata": {},
   "outputs": [],
   "source": [
    "sorted_events = df.event\n",
    "sorted_events_test = df_test.event"
   ]
  },
  {
   "cell_type": "code",
   "execution_count": 8,
   "metadata": {},
   "outputs": [],
   "source": [
    "guards = {}\n",
    "for df_idx, event in sorted_events.iteritems():\n",
    "    if \"Guard\" in event:\n",
    "        guard_id = get_guard_id(event)\n",
    "        if guard_id not in guards:\n",
    "            guards[guard_id] = np.zeros(60)\n",
    "    elif \"falls\" in event:\n",
    "        start = df.loc[df_idx, \"date\"].minute\n",
    "    else:\n",
    "        stop = df.loc[df_idx, \"date\"].minute\n",
    "        guards[guard_id][start:stop] = guards[guard_id][start:stop] + 1\n",
    "        \n",
    "    "
   ]
  },
  {
   "cell_type": "code",
   "execution_count": 9,
   "metadata": {},
   "outputs": [
    {
     "name": "stdout",
     "output_type": "stream",
     "text": [
      "3229 39\n"
     ]
    }
   ],
   "source": [
    "g = np.argmax(map(sum, guards.values()))\n",
    "gid = int(list(guards.keys())[g])\n",
    "most_minute_asleep = np.argmax(list(guards.values())[g])\n",
    "print(gid, most_minute_asleep)"
   ]
  },
  {
   "cell_type": "code",
   "execution_count": 12,
   "metadata": {},
   "outputs": [
    {
     "name": "stdout",
     "output_type": "stream",
     "text": [
      "30.0\n",
      "10 24\n"
     ]
    }
   ],
   "source": [
    "guards_test = {}\n",
    "for df_idx, event in sorted_events_test.iteritems():\n",
    "    if \"Guard\" in event:\n",
    "        guard_id = get_guard_id(event)\n",
    "        if guard_id not in guards_test:\n",
    "            guards_test[guard_id] = np.zeros(60)\n",
    "    elif \"falls\" in event:\n",
    "        start = df_test.loc[df_idx, \"date\"].minute\n",
    "    else:\n",
    "        stop = df_test.loc[df_idx, \"date\"].minute\n",
    "        guards_test[guard_id][start:stop] = guards_test[guard_id][start:stop] + 1\n",
    "        \n",
    "g = np.argmax(map(sum, guards_test.values()))\n",
    "gid = int(list(guards_test.keys())[g])\n",
    "most_minute_asleep = np.argmax(list(guards_test.values())[g])\n",
    "print(guards_test['99'].sum())\n",
    "print(gid, most_minute_asleep)  "
   ]
  },
  {
   "cell_type": "code",
   "execution_count": 18,
   "metadata": {},
   "outputs": [
    {
     "data": {
      "text/plain": [
       "39584"
      ]
     },
     "execution_count": 18,
     "metadata": {},
     "output_type": "execute_result"
    }
   ],
   "source": [
    "guard_ids, hours_asleep = zip(*(map(lambda pair: (int(pair[0]), pair[1].sum()), guards.items())))\n",
    "my_g_id = guard_ids[np.argmax(hours_asleep)]\n",
    "my_g_id * guards[str(my_g_id)].argmax()"
   ]
  },
  {
   "cell_type": "code",
   "execution_count": 20,
   "metadata": {},
   "outputs": [
    {
     "data": {
      "text/plain": [
       "55053"
      ]
     },
     "execution_count": 20,
     "metadata": {},
     "output_type": "execute_result"
    }
   ],
   "source": [
    "guard_ids, count, minutes_most_asleep = zip(*(map(lambda pair: (int(pair[0]), pair[1].max(), pair[1].argmax()), guards.items())))\n",
    "my_g_id = guard_ids[np.argmax(count)]\n",
    "my_g_id * minutes_most_asleep[np.argmax(count)]"
   ]
  },
  {
   "cell_type": "code",
   "execution_count": 21,
   "metadata": {},
   "outputs": [
    {
     "data": {
      "text/plain": [
       "4455"
      ]
     },
     "execution_count": 21,
     "metadata": {},
     "output_type": "execute_result"
    }
   ],
   "source": [
    "guard_ids, count, minutes_most_asleep = zip(*(map(lambda pair: (int(pair[0]), pair[1].max(), pair[1].argmax()), guards_test.items())))\n",
    "my_g_id = guard_ids[np.argmax(count)]\n",
    "my_g_id * minutes_most_asleep[np.argmax(count)]"
   ]
  },
  {
   "cell_type": "code",
   "execution_count": null,
   "metadata": {},
   "outputs": [],
   "source": []
  }
 ],
 "metadata": {
  "kernelspec": {
   "display_name": "anaconda3-4.3.0",
   "language": "python",
   "name": "anaconda3-4.3.0"
  },
  "language_info": {
   "codemirror_mode": {
    "name": "ipython",
    "version": 3
   },
   "file_extension": ".py",
   "mimetype": "text/x-python",
   "name": "python",
   "nbconvert_exporter": "python",
   "pygments_lexer": "ipython3",
   "version": "3.6.0"
  }
 },
 "nbformat": 4,
 "nbformat_minor": 2
}
