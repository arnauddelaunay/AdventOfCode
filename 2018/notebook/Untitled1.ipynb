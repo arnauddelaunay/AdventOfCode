{
 "cells": [
  {
   "cell_type": "code",
   "execution_count": 5,
   "metadata": {},
   "outputs": [],
   "source": [
    "import sys\n",
    "sys.path.append(\"..\")\n",
    "\n",
    "from aoc18.utils import read_input\n",
    "import re"
   ]
  },
  {
   "cell_type": "code",
   "execution_count": 3,
   "metadata": {},
   "outputs": [],
   "source": [
    "inp = read_input(7, root_path=\"../\")\n",
    "inp_test = read_input(7, test=True, root_path=\"../\")"
   ]
  },
  {
   "cell_type": "code",
   "execution_count": 21,
   "metadata": {},
   "outputs": [
    {
     "data": {
      "text/plain": [
       "['Step C must be finished before step A can begin.\\n',\n",
       " 'Step C must be finished before step F can begin.\\n',\n",
       " 'Step A must be finished before step B can begin.\\n',\n",
       " 'Step A must be finished before step D can begin.\\n',\n",
       " 'Step B must be finished before step E can begin.\\n',\n",
       " 'Step D must be finished before step E can begin.\\n',\n",
       " 'Step F must be finished before step E can begin.\\n']"
      ]
     },
     "execution_count": 21,
     "metadata": {},
     "output_type": "execute_result"
    }
   ],
   "source": [
    "inp_test"
   ]
  },
  {
   "cell_type": "code",
   "execution_count": 20,
   "metadata": {},
   "outputs": [],
   "source": [
    "pattern = re.compile(r'\\w ([A-Z])')\n",
    "start, end = pattern.findall('Step C must be finished before step A can begin')"
   ]
  },
  {
   "cell_type": "code",
   "execution_count": 62,
   "metadata": {},
   "outputs": [
    {
     "data": {
      "text/plain": [
       "'def build_string(graph, inverse, origin):\\n    string = origin\\n    nexts = sorted(graph[string])\\n    for nex in nexts:\\n        if all(map(lambda e: e in string, inverse[nex])):\\n            string.append(nex)\\n'"
      ]
     },
     "execution_count": 62,
     "metadata": {},
     "output_type": "execute_result"
    }
   ],
   "source": [
    "flatten = lambda l: [a for b in l for a in b]\n",
    "\n",
    "def dict_insert(d, element):\n",
    "    if element[0] not in d:\n",
    "        d[element[0]] = []\n",
    "    d[element[0]].append(element[1])\n",
    "    return d\n",
    "\n",
    "def build_graph(inp):\n",
    "    graph = {}\n",
    "    inverse = {}\n",
    "    pattern = re.compile(r'\\w ([A-Z])')\n",
    "    edges = map(lambda element: pattern.findall(element), inp)\n",
    "    for element in inp:\n",
    "        start, end = pattern.findall(element)\n",
    "        graph = dict_insert(graph, (start, end))\n",
    "        inverse = dict_insert(inverse, (end, start))\n",
    "    origin = sorted([e for e in graph if e not in inverse])\n",
    "    return graph, inverse, origin\n",
    "\n",
    "def get_next(string, graph, inverse):\n",
    "    origin = string[-1]\n",
    "    if origin not in graph:\n",
    "        return string\n",
    "    for nex in sorted(graph[origin]):\n",
    "        if all(map(lambda e: e in string, inverse[nex])):\n",
    "            string = get_next(string + nex, graph, inverse)\n",
    "    return string\n",
    "\n",
    "\"\"\"def build_string(graph, inverse, origin):\n",
    "    string = origin\n",
    "    nexts = sorted(graph[string])\n",
    "    for nex in nexts:\n",
    "        if all(map(lambda e: e in string, inverse[nex])):\n",
    "            string.append(nex)\n",
    "\"\"\"           "
   ]
  },
  {
   "cell_type": "code",
   "execution_count": 67,
   "metadata": {},
   "outputs": [
    {
     "name": "stdout",
     "output_type": "stream",
     "text": [
      "25 ['O', 'U', 'X', 'Y']\n"
     ]
    }
   ],
   "source": [
    "g, i, o = build_graph(inp)\n",
    "gt, it, ot = build_graph(inp_test)\n",
    "print(len(g), o)"
   ]
  },
  {
   "cell_type": "code",
   "execution_count": 55,
   "metadata": {},
   "outputs": [
    {
     "data": {
      "text/plain": [
       "'Y'"
      ]
     },
     "execution_count": 55,
     "metadata": {},
     "output_type": "execute_result"
    }
   ],
   "source": [
    "get_next(o, g, i)"
   ]
  },
  {
   "cell_type": "code",
   "execution_count": 66,
   "metadata": {},
   "outputs": [
    {
     "name": "stdout",
     "output_type": "stream",
     "text": [
      "{'b', 'a'}\n",
      "c\n",
      "{'b', 'a'}\n"
     ]
    }
   ],
   "source": [
    "s = set([\"a\", \"b\"])\n",
    "print(s)\n",
    "s.add(\"c\")\n",
    "print(s.pop())\n",
    "print(s)"
   ]
  },
  {
   "cell_type": "code",
   "execution_count": null,
   "metadata": {},
   "outputs": [],
   "source": [
    "waiting = []\n"
   ]
  },
  {
   "cell_type": "code",
   "execution_count": 64,
   "metadata": {},
   "outputs": [
    {
     "data": {
      "text/plain": [
       "'UGTKLTKVBRMI'"
      ]
     },
     "execution_count": 64,
     "metadata": {},
     "output_type": "execute_result"
    }
   ],
   "source": [
    "get_next(\"U\", g, i)"
   ]
  },
  {
   "cell_type": "code",
   "execution_count": 65,
   "metadata": {},
   "outputs": [
    {
     "data": {
      "text/plain": [
       "{'A': ['W', 'N', 'H', 'Z', 'F', 'P'],\n",
       " 'B': ['A', 'H', 'W', 'Q'],\n",
       " 'C': ['Q', 'Z', 'E'],\n",
       " 'D': ['H', 'N', 'J', 'S'],\n",
       " 'E': ['Z', 'N', 'Q', 'H'],\n",
       " 'G': ['R', 'W', 'S', 'E', 'T', 'H'],\n",
       " 'H': ['F'],\n",
       " 'I': ['W', 'N'],\n",
       " 'J': ['Z', 'A', 'F', 'N', 'E', 'C', 'P'],\n",
       " 'K': ['H', 'D', 'N', 'B'],\n",
       " 'L': ['C', 'S', 'B', 'N', 'Q', 'J'],\n",
       " 'M': ['F', 'I', 'S', 'E', 'W'],\n",
       " 'N': ['H', 'F'],\n",
       " 'O': ['D', 'Z'],\n",
       " 'P': ['E', 'F', 'N', 'Z'],\n",
       " 'Q': ['F', 'Z', 'N', 'H'],\n",
       " 'R': ['I', 'Z', 'F', 'M', 'N'],\n",
       " 'S': ['C', 'Q', 'E', 'A', 'W'],\n",
       " 'T': ['P', 'I', 'B', 'K', 'C'],\n",
       " 'U': ['F', 'L', 'E', 'G', 'T', 'V', 'J'],\n",
       " 'V': ['S', 'R', 'B', 'H', 'I'],\n",
       " 'W': ['F', 'H', 'Q', 'Z'],\n",
       " 'X': ['Q', 'S'],\n",
       " 'Y': ['P', 'N', 'F'],\n",
       " 'Z': ['F']}"
      ]
     },
     "execution_count": 65,
     "metadata": {},
     "output_type": "execute_result"
    }
   ],
   "source": [
    "g"
   ]
  },
  {
   "cell_type": "code",
   "execution_count": 57,
   "metadata": {},
   "outputs": [
    {
     "data": {
      "text/plain": [
       "{'A': ['B', 'J', 'S'],\n",
       " 'B': ['T', 'V', 'L', 'K'],\n",
       " 'C': ['L', 'S', 'T', 'J'],\n",
       " 'D': ['O', 'K'],\n",
       " 'E': ['P', 'U', 'G', 'S', 'M', 'J', 'C'],\n",
       " 'F': ['U', 'M', 'W', 'Q', 'Z', 'H', 'N', 'P', 'J', 'R', 'A', 'Y'],\n",
       " 'G': ['U'],\n",
       " 'H': ['K', 'D', 'N', 'W', 'B', 'Q', 'V', 'A', 'E', 'G'],\n",
       " 'I': ['R', 'M', 'T', 'V'],\n",
       " 'J': ['D', 'U', 'L'],\n",
       " 'K': ['T'],\n",
       " 'L': ['U'],\n",
       " 'M': ['R'],\n",
       " 'N': ['E', 'Q', 'P', 'A', 'K', 'I', 'J', 'D', 'Y', 'L', 'R'],\n",
       " 'P': ['Y', 'T', 'A', 'J'],\n",
       " 'Q': ['X', 'C', 'S', 'E', 'W', 'L', 'B'],\n",
       " 'R': ['G', 'V'],\n",
       " 'S': ['V', 'G', 'M', 'L', 'X', 'D'],\n",
       " 'T': ['G', 'U'],\n",
       " 'V': ['U'],\n",
       " 'W': ['I', 'A', 'G', 'B', 'M', 'S'],\n",
       " 'Z': ['J', 'E', 'Q', 'R', 'C', 'P', 'A', 'W', 'O']}"
      ]
     },
     "execution_count": 57,
     "metadata": {},
     "output_type": "execute_result"
    }
   ],
   "source": [
    "i"
   ]
  },
  {
   "cell_type": "code",
   "execution_count": 68,
   "metadata": {},
   "outputs": [
    {
     "data": {
      "text/plain": [
       "{'A': ['B', 'D'], 'B': ['E'], 'C': ['A', 'F'], 'D': ['E'], 'F': ['E']}"
      ]
     },
     "execution_count": 68,
     "metadata": {},
     "output_type": "execute_result"
    }
   ],
   "source": [
    "gt"
   ]
  },
  {
   "cell_type": "code",
   "execution_count": 69,
   "metadata": {},
   "outputs": [
    {
     "data": {
      "text/plain": [
       "{'A': ['C'], 'B': ['A'], 'D': ['A'], 'E': ['B', 'D', 'F'], 'F': ['C']}"
      ]
     },
     "execution_count": 69,
     "metadata": {},
     "output_type": "execute_result"
    }
   ],
   "source": [
    "it"
   ]
  },
  {
   "cell_type": "code",
   "execution_count": 155,
   "metadata": {},
   "outputs": [],
   "source": [
    "from collections import defaultdict \n",
    "  \n",
    "class Graph: \n",
    "    def __init__(self,vertices): \n",
    "        self.graph = defaultdict(list)\n",
    "        self.V = vertices\n",
    "  \n",
    "    def addEdge(self,u,v): \n",
    "        self.graph[u].append(v) \n",
    "  \n",
    "    def topologicalSortUtil(self,v,visited,stack): \n",
    "        visited[v] = True\n",
    "        #for i in sorted(self.graph[v]):\n",
    "        for i in self.graph[v]:     \n",
    "            if visited[i] == False: \n",
    "                self.topologicalSortUtil(i,visited,stack) \n",
    "        stack.insert(0,v) \n",
    "  \n",
    "    def topologicalSort(self): \n",
    "        visited = [False]*self.V \n",
    "        stack =[] \n",
    "        for i in range(self.V): \n",
    "            if visited[i] == False: \n",
    "                self.topologicalSortUtil(i,visited,stack) \n",
    "  \n",
    "        return stack\n"
   ]
  },
  {
   "cell_type": "code",
   "execution_count": 156,
   "metadata": {},
   "outputs": [
    {
     "name": "stdout",
     "output_type": "stream",
     "text": [
      "Following is a Topological Sort of the given graph\n"
     ]
    },
    {
     "data": {
      "text/plain": [
       "[5, 4, 2, 3, 1, 0]"
      ]
     },
     "execution_count": 156,
     "metadata": {},
     "output_type": "execute_result"
    }
   ],
   "source": [
    "g= Graph(6) \n",
    "g.addEdge(5, 2); \n",
    "g.addEdge(5, 0); \n",
    "g.addEdge(4, 0); \n",
    "g.addEdge(4, 1); \n",
    "g.addEdge(2, 3); \n",
    "g.addEdge(3, 1); \n",
    "  \n",
    "print(\"Following is a Topological Sort of the given graph\")\n",
    "g.topologicalSort()"
   ]
  },
  {
   "cell_type": "code",
   "execution_count": 157,
   "metadata": {},
   "outputs": [],
   "source": [
    "flatten = lambda l: [a for b in l for a in b]\n",
    "char_to_int = lambda c: ord(c)-ord(\"A\")\n",
    "int_to_char = lambda i: chr(i+ord(\"A\"))\n",
    "\n",
    "def run1(inp):\n",
    "    pattern = re.compile(r'\\w ([A-Z])')\n",
    "    edges = list(map(lambda element: pattern.findall(element), inp))\n",
    "    alphabet = sorted(list(set(flatten(edges))), reverse=True)\n",
    "    number_of_nodes = len(alphabet)\n",
    "    graph = Graph(number_of_nodes)\n",
    "    mapping = dict(zip(range(number_of_nodes), range(number_of_nodes)))\n",
    "    for start, end in edges:\n",
    "        graph.addEdge(alphabet.index(start), alphabet.index(end))\n",
    "    return \"\".join(map(lambda i: alphabet[i], graph.topologicalSort()))"
   ]
  },
  {
   "cell_type": "code",
   "execution_count": 153,
   "metadata": {},
   "outputs": [
    {
     "data": {
      "text/plain": [
       "'CABDFE'"
      ]
     },
     "execution_count": 153,
     "metadata": {},
     "output_type": "execute_result"
    }
   ],
   "source": [
    "s = run1(inp_test)\n",
    "s"
   ]
  },
  {
   "cell_type": "code",
   "execution_count": 154,
   "metadata": {},
   "outputs": [
    {
     "data": {
      "text/plain": [
       "'OUGLTKDJVBRMIXSACWYPEQNHZF'"
      ]
     },
     "execution_count": 154,
     "metadata": {},
     "output_type": "execute_result"
    }
   ],
   "source": [
    "s = run1(inp)\n",
    "s"
   ]
  },
  {
   "cell_type": "code",
   "execution_count": 158,
   "metadata": {},
   "outputs": [
    {
     "data": {
      "text/plain": [
       "'OUGTKDLJVBRMIXSAWCYPEQNHZF'"
      ]
     },
     "execution_count": 158,
     "metadata": {},
     "output_type": "execute_result"
    }
   ],
   "source": [
    "s = run1(inp)\n",
    "s"
   ]
  },
  {
   "cell_type": "code",
   "execution_count": 114,
   "metadata": {},
   "outputs": [
    {
     "data": {
      "text/plain": [
       "[['C', 'A'],\n",
       " ['C', 'F'],\n",
       " ['A', 'B'],\n",
       " ['A', 'D'],\n",
       " ['B', 'E'],\n",
       " ['D', 'E'],\n",
       " ['F', 'E']]"
      ]
     },
     "execution_count": 114,
     "metadata": {},
     "output_type": "execute_result"
    }
   ],
   "source": [
    "pattern = re.compile(r'\\w ([A-Z])')\n",
    "list(map(lambda element: pattern.findall(element), inp_test))"
   ]
  },
  {
   "cell_type": "code",
   "execution_count": 105,
   "metadata": {},
   "outputs": [
    {
     "data": {
      "text/plain": [
       "defaultdict(list, {0: [], 1: [], 2: [], 3: [], 4: [], 5: []})"
      ]
     },
     "execution_count": 105,
     "metadata": {},
     "output_type": "execute_result"
    }
   ],
   "source": [
    "graph.graph"
   ]
  },
  {
   "cell_type": "code",
   "execution_count": 121,
   "metadata": {},
   "outputs": [
    {
     "name": "stdout",
     "output_type": "stream",
     "text": [
      "[[0, 1], [2, 3]]\n",
      "[0, 1, 2, 3]\n",
      "[[0, 1], [2, 3]]\n"
     ]
    }
   ],
   "source": [
    "l = [[0,1], [2,3]]\n",
    "print(l)\n",
    "ll = flatten(l)\n",
    "print(ll)\n",
    "print(l)"
   ]
  },
  {
   "cell_type": "code",
   "execution_count": null,
   "metadata": {},
   "outputs": [],
   "source": []
  }
 ],
 "metadata": {
  "kernelspec": {
   "display_name": "anaconda3-4.3.0",
   "language": "python",
   "name": "anaconda3-4.3.0"
  },
  "language_info": {
   "codemirror_mode": {
    "name": "ipython",
    "version": 3
   },
   "file_extension": ".py",
   "mimetype": "text/x-python",
   "name": "python",
   "nbconvert_exporter": "python",
   "pygments_lexer": "ipython3",
   "version": "3.6.0"
  }
 },
 "nbformat": 4,
 "nbformat_minor": 2
}
