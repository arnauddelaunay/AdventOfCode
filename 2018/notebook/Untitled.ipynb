{
 "cells": [
  {
   "cell_type": "code",
   "execution_count": 1,
   "metadata": {},
   "outputs": [],
   "source": [
    "import pandas as pd\n",
    "import datetime\n",
    "import numpy as np\n",
    "import sys\n",
    "\n",
    "sys.path.append(\"..\")\n",
    "from aoc18.utils import read_input\n",
    "inp = read_input(4, root_path=\"..\")\n",
    "inp_test = read_input(4, test=True, root_path=\"..\")"
   ]
  },
  {
   "cell_type": "markdown",
   "metadata": {},
   "source": [
    "# DAY 4"
   ]
  },
  {
   "cell_type": "code",
   "execution_count": 2,
   "metadata": {},
   "outputs": [],
   "source": [
    "def split_phrase(phrase):\n",
    "    splitted = phrase.split('] ')\n",
    "    return (\n",
    "        datetime.datetime.strptime(splitted[0][1:], \"%Y-%m-%d %H:%M\"),\n",
    "        splitted[1].strip()\n",
    "    )\n",
    "\n",
    "def get_guard_id(event):\n",
    "    return event.split(\"#\")[-1].split(\" \")[0]\n",
    "\n",
    "dts, events = zip(*map(split_phrase, inp))\n",
    "df = pd.DataFrame({\"date\": dts, \"event\": events})\\\n",
    "    .sort_values(\"date\")\n",
    "\n",
    "dts, events = zip(*map(split_phrase, inp_test))\n",
    "df_test = pd.DataFrame({\"date\": dts, \"event\": events})\\\n",
    "    .sort_values(\"date\")"
   ]
  },
  {
   "cell_type": "code",
   "execution_count": 4,
   "metadata": {},
   "outputs": [],
   "source": [
    "sorted_events = df.event\n",
    "sorted_events_test = df_test.event"
   ]
  },
  {
   "cell_type": "code",
   "execution_count": 8,
   "metadata": {},
   "outputs": [],
   "source": [
    "guards = {}\n",
    "for df_idx, event in sorted_events.iteritems():\n",
    "    if \"Guard\" in event:\n",
    "        guard_id = get_guard_id(event)\n",
    "        if guard_id not in guards:\n",
    "            guards[guard_id] = np.zeros(60)\n",
    "    elif \"falls\" in event:\n",
    "        start = df.loc[df_idx, \"date\"].minute\n",
    "    else:\n",
    "        stop = df.loc[df_idx, \"date\"].minute\n",
    "        guards[guard_id][start:stop] = guards[guard_id][start:stop] + 1\n",
    "        \n",
    "    "
   ]
  },
  {
   "cell_type": "code",
   "execution_count": 9,
   "metadata": {},
   "outputs": [
    {
     "name": "stdout",
     "output_type": "stream",
     "text": [
      "3229 39\n"
     ]
    }
   ],
   "source": [
    "g = np.argmax(map(sum, guards.values()))\n",
    "gid = int(list(guards.keys())[g])\n",
    "most_minute_asleep = np.argmax(list(guards.values())[g])\n",
    "print(gid, most_minute_asleep)"
   ]
  },
  {
   "cell_type": "code",
   "execution_count": 12,
   "metadata": {},
   "outputs": [
    {
     "name": "stdout",
     "output_type": "stream",
     "text": [
      "30.0\n",
      "10 24\n"
     ]
    }
   ],
   "source": [
    "guards_test = {}\n",
    "for df_idx, event in sorted_events_test.iteritems():\n",
    "    if \"Guard\" in event:\n",
    "        guard_id = get_guard_id(event)\n",
    "        if guard_id not in guards_test:\n",
    "            guards_test[guard_id] = np.zeros(60)\n",
    "    elif \"falls\" in event:\n",
    "        start = df_test.loc[df_idx, \"date\"].minute\n",
    "    else:\n",
    "        stop = df_test.loc[df_idx, \"date\"].minute\n",
    "        guards_test[guard_id][start:stop] = guards_test[guard_id][start:stop] + 1\n",
    "        \n",
    "g = np.argmax(map(sum, guards_test.values()))\n",
    "gid = int(list(guards_test.keys())[g])\n",
    "most_minute_asleep = np.argmax(list(guards_test.values())[g])\n",
    "print(guards_test['99'].sum())\n",
    "print(gid, most_minute_asleep)  "
   ]
  },
  {
   "cell_type": "code",
   "execution_count": 18,
   "metadata": {},
   "outputs": [
    {
     "data": {
      "text/plain": [
       "39584"
      ]
     },
     "execution_count": 18,
     "metadata": {},
     "output_type": "execute_result"
    }
   ],
   "source": [
    "guard_ids, hours_asleep = zip(*(map(lambda pair: (int(pair[0]), pair[1].sum()), guards.items())))\n",
    "my_g_id = guard_ids[np.argmax(hours_asleep)]\n",
    "my_g_id * guards[str(my_g_id)].argmax()"
   ]
  },
  {
   "cell_type": "code",
   "execution_count": 20,
   "metadata": {},
   "outputs": [
    {
     "data": {
      "text/plain": [
       "55053"
      ]
     },
     "execution_count": 20,
     "metadata": {},
     "output_type": "execute_result"
    }
   ],
   "source": [
    "guard_ids, count, minutes_most_asleep = zip(*(map(lambda pair: (int(pair[0]), pair[1].max(), pair[1].argmax()), guards.items())))\n",
    "my_g_id = guard_ids[np.argmax(count)]\n",
    "my_g_id * minutes_most_asleep[np.argmax(count)]"
   ]
  },
  {
   "cell_type": "code",
   "execution_count": 21,
   "metadata": {},
   "outputs": [
    {
     "data": {
      "text/plain": [
       "4455"
      ]
     },
     "execution_count": 21,
     "metadata": {},
     "output_type": "execute_result"
    }
   ],
   "source": [
    "guard_ids, count, minutes_most_asleep = zip(*(map(lambda pair: (int(pair[0]), pair[1].max(), pair[1].argmax()), guards_test.items())))\n",
    "my_g_id = guard_ids[np.argmax(count)]\n",
    "my_g_id * minutes_most_asleep[np.argmax(count)]"
   ]
  },
  {
   "cell_type": "markdown",
   "metadata": {},
   "source": [
    "# DAY 5"
   ]
  },
  {
   "cell_type": "code",
   "execution_count": 19,
   "metadata": {},
   "outputs": [],
   "source": [
    "inp = read_input(5, split_lines=False, root_path=\"..\").strip()\n",
    "inp_test = read_input(5, test=True, split_lines=False, root_path=\"..\").strip()"
   ]
  },
  {
   "cell_type": "code",
   "execution_count": 77,
   "metadata": {},
   "outputs": [],
   "source": [
    "def react(char1, char2):\n",
    "    return (char1.lower()==char2.lower()) & (char1!=char2)\n",
    "\n",
    "def check_left_and_right(left, right):\n",
    "    return len(left)>0 and len(right)>0 and (react(left[-1], right[0]))\n",
    "\n",
    "def chunk(code):\n",
    "    if len(code)<=1:\n",
    "        return code\n",
    "    elif len(code)==2:\n",
    "        return \"\" if react(code[0], code[1]) else code\n",
    "    else:\n",
    "        cut = len(code)//2\n",
    "        left, right = code[:(cut+1)], code[(cut+1):]\n",
    "        while check_left_and_right(left, right):\n",
    "            left, right = left[:-1], right[1:]\n",
    "        chunk_l = chunk(left)\n",
    "        chunk_r = chunk(right)\n",
    "        code = chunk_l + chunk_r\n",
    "        if check_left_and_right(chunk_l, chunk_r):\n",
    "            return chunk(code)\n",
    "        else:\n",
    "            return code"
   ]
  },
  {
   "cell_type": "code",
   "execution_count": 78,
   "metadata": {},
   "outputs": [
    {
     "ename": "RecursionError",
     "evalue": "maximum recursion depth exceeded in comparison",
     "output_type": "error",
     "traceback": [
      "\u001b[0;31m---------------------------------------------------------------------------\u001b[0m",
      "\u001b[0;31mRecursionError\u001b[0m                            Traceback (most recent call last)",
      "\u001b[0;32m<ipython-input-78-c5c8b35d9d19>\u001b[0m in \u001b[0;36m<module>\u001b[0;34m()\u001b[0m\n\u001b[0;32m----> 1\u001b[0;31m \u001b[0mlen\u001b[0m\u001b[0;34m(\u001b[0m\u001b[0mchunk\u001b[0m\u001b[0;34m(\u001b[0m\u001b[0minp\u001b[0m\u001b[0;34m)\u001b[0m\u001b[0;34m)\u001b[0m\u001b[0;34m\u001b[0m\u001b[0m\n\u001b[0m",
      "\u001b[0;32m<ipython-input-77-5f85ddd422bc>\u001b[0m in \u001b[0;36mchunk\u001b[0;34m(code)\u001b[0m\n\u001b[1;32m     19\u001b[0m         \u001b[0mcode\u001b[0m \u001b[0;34m=\u001b[0m \u001b[0mchunk_l\u001b[0m \u001b[0;34m+\u001b[0m \u001b[0mchunk_r\u001b[0m\u001b[0;34m\u001b[0m\u001b[0m\n\u001b[1;32m     20\u001b[0m         \u001b[0;32mif\u001b[0m \u001b[0mcheck_left_and_right\u001b[0m\u001b[0;34m(\u001b[0m\u001b[0mchunk_l\u001b[0m\u001b[0;34m,\u001b[0m \u001b[0mchunk_r\u001b[0m\u001b[0;34m)\u001b[0m\u001b[0;34m:\u001b[0m\u001b[0;34m\u001b[0m\u001b[0m\n\u001b[0;32m---> 21\u001b[0;31m             \u001b[0;32mreturn\u001b[0m \u001b[0mchunk\u001b[0m\u001b[0;34m(\u001b[0m\u001b[0mcode\u001b[0m\u001b[0;34m)\u001b[0m\u001b[0;34m\u001b[0m\u001b[0m\n\u001b[0m\u001b[1;32m     22\u001b[0m         \u001b[0;32melse\u001b[0m\u001b[0;34m:\u001b[0m\u001b[0;34m\u001b[0m\u001b[0m\n\u001b[1;32m     23\u001b[0m             \u001b[0;32mreturn\u001b[0m \u001b[0mcode\u001b[0m\u001b[0;34m\u001b[0m\u001b[0m\n",
      "... last 1 frames repeated, from the frame below ...\n",
      "\u001b[0;32m<ipython-input-77-5f85ddd422bc>\u001b[0m in \u001b[0;36mchunk\u001b[0;34m(code)\u001b[0m\n\u001b[1;32m     19\u001b[0m         \u001b[0mcode\u001b[0m \u001b[0;34m=\u001b[0m \u001b[0mchunk_l\u001b[0m \u001b[0;34m+\u001b[0m \u001b[0mchunk_r\u001b[0m\u001b[0;34m\u001b[0m\u001b[0m\n\u001b[1;32m     20\u001b[0m         \u001b[0;32mif\u001b[0m \u001b[0mcheck_left_and_right\u001b[0m\u001b[0;34m(\u001b[0m\u001b[0mchunk_l\u001b[0m\u001b[0;34m,\u001b[0m \u001b[0mchunk_r\u001b[0m\u001b[0;34m)\u001b[0m\u001b[0;34m:\u001b[0m\u001b[0;34m\u001b[0m\u001b[0m\n\u001b[0;32m---> 21\u001b[0;31m             \u001b[0;32mreturn\u001b[0m \u001b[0mchunk\u001b[0m\u001b[0;34m(\u001b[0m\u001b[0mcode\u001b[0m\u001b[0;34m)\u001b[0m\u001b[0;34m\u001b[0m\u001b[0m\n\u001b[0m\u001b[1;32m     22\u001b[0m         \u001b[0;32melse\u001b[0m\u001b[0;34m:\u001b[0m\u001b[0;34m\u001b[0m\u001b[0m\n\u001b[1;32m     23\u001b[0m             \u001b[0;32mreturn\u001b[0m \u001b[0mcode\u001b[0m\u001b[0;34m\u001b[0m\u001b[0m\n",
      "\u001b[0;31mRecursionError\u001b[0m: maximum recursion depth exceeded in comparison"
     ]
    }
   ],
   "source": [
    "len(chunk(inp))"
   ]
  },
  {
   "cell_type": "code",
   "execution_count": 101,
   "metadata": {},
   "outputs": [],
   "source": [
    "def reduce_code(code):\n",
    "    i=0\n",
    "    while i<(len(code)-1):\n",
    "        if not(react(code[i], code[i+1])):\n",
    "            i+=1\n",
    "        else:\n",
    "            code = code[:i] + code[(i+2):]\n",
    "    return code\n",
    "\n",
    "def run1(code):\n",
    "    red = reduce_code(code)\n",
    "    while red!=code:\n",
    "        code = red\n",
    "        red = reduce_code(code)\n",
    "    return len(code), code"
   ]
  },
  {
   "cell_type": "code",
   "execution_count": 102,
   "metadata": {},
   "outputs": [
    {
     "data": {
      "text/plain": [
       "9202"
      ]
     },
     "execution_count": 102,
     "metadata": {},
     "output_type": "execute_result"
    }
   ],
   "source": [
    "run1(inp)[0]"
   ]
  },
  {
   "cell_type": "code",
   "execution_count": 105,
   "metadata": {},
   "outputs": [],
   "source": [
    "def remove_unit(inp, unit):\n",
    "    return inp.replace(unit, \"\").replace(unit.upper(), \"\")\n",
    "    \n",
    "    \n",
    "def run2(inp):\n",
    "    chunk = run1(inp)[1]\n",
    "    print(\"first run done\")\n",
    "    units = set(map(lambda x: x.lower(), inp))\n",
    "    res = {}\n",
    "    mini = len(inp)\n",
    "    c = 0\n",
    "    for unit in units:\n",
    "        c+=1\n",
    "        res[unit] = run1(remove_unit(chunk, unit))[0]\n",
    "        if res[unit]<mini:\n",
    "            mini = res[unit]\n",
    "    print(c)\n",
    "    return mini"
   ]
  },
  {
   "cell_type": "code",
   "execution_count": 106,
   "metadata": {},
   "outputs": [
    {
     "name": "stdout",
     "output_type": "stream",
     "text": [
      "first run done\n",
      "26\n"
     ]
    },
    {
     "data": {
      "text/plain": [
       "6394"
      ]
     },
     "execution_count": 106,
     "metadata": {},
     "output_type": "execute_result"
    }
   ],
   "source": [
    "run2(inp)"
   ]
  },
  {
   "cell_type": "code",
   "execution_count": null,
   "metadata": {},
   "outputs": [],
   "source": []
  }
 ],
 "metadata": {
  "kernelspec": {
   "display_name": "anaconda3-4.3.0",
   "language": "python",
   "name": "anaconda3-4.3.0"
  },
  "language_info": {
   "codemirror_mode": {
    "name": "ipython",
    "version": 3
   },
   "file_extension": ".py",
   "mimetype": "text/x-python",
   "name": "python",
   "nbconvert_exporter": "python",
   "pygments_lexer": "ipython3",
   "version": "3.6.0"
  }
 },
 "nbformat": 4,
 "nbformat_minor": 2
}
